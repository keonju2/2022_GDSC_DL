{
  "nbformat": 4,
  "nbformat_minor": 0,
  "metadata": {
    "colab": {
      "provenance": [],
      "mount_file_id": "1S_Jve_y9bzmsZxv4q-C2f3xICv6sGM_-",
      "authorship_tag": "ABX9TyMA0dZgCRA8w+mNl1leZlWH",
      "include_colab_link": true
    },
    "kernelspec": {
      "name": "python3",
      "display_name": "Python 3"
    },
    "language_info": {
      "name": "python"
    },
    "accelerator": "GPU",
    "gpuClass": "standard"
  },
  "cells": [
    {
      "cell_type": "markdown",
      "metadata": {
        "id": "view-in-github",
        "colab_type": "text"
      },
      "source": [
        "<a href=\"https://colab.research.google.com/github/keonju2/2022_GDSC_DL/blob/main/DL_12%EC%A3%BC%EC%B0%A8_%EA%B3%B5%EC%9C%A0.ipynb\" target=\"_parent\"><img src=\"https://colab.research.google.com/assets/colab-badge.svg\" alt=\"Open In Colab\"/></a>"
      ]
    },
    {
      "cell_type": "code",
      "source": [
        "from google.colab import drive # 구글 마운트\n",
        "drive.mount('/content/drive/')"
      ],
      "metadata": {
        "colab": {
          "base_uri": "https://localhost:8080/"
        },
        "id": "1gvTxNzSNKO5",
        "outputId": "fd7a536d-abef-43e5-b15d-02f8e3a90768"
      },
      "execution_count": 54,
      "outputs": [
        {
          "output_type": "stream",
          "name": "stdout",
          "text": [
            "Drive already mounted at /content/drive/; to attempt to forcibly remount, call drive.mount(\"/content/drive/\", force_remount=True).\n"
          ]
        }
      ]
    },
    {
      "cell_type": "markdown",
      "source": [
        "# RNN을 이용한 넷플릭스 주가 예측하기\n"
      ],
      "metadata": {
        "id": "Z3I-xKIEJBLv"
      }
    },
    {
      "cell_type": "code",
      "source": [
        "import torch\n",
        "from torch.utils.data.dataloader import DataLoader\n",
        "import torch.nn as nn\n",
        "device = \"cuda\" if torch.cuda.is_available() else \"cpu\""
      ],
      "metadata": {
        "id": "oFvU2SDhSIS3"
      },
      "execution_count": 55,
      "outputs": []
    },
    {
      "cell_type": "markdown",
      "source": [
        "## 데이터 확인하기"
      ],
      "metadata": {
        "id": "_-Kvo9QXN16V"
      }
    },
    {
      "cell_type": "code",
      "execution_count": 56,
      "metadata": {
        "id": "0Cyfu75CIl91",
        "colab": {
          "base_uri": "https://localhost:8080/",
          "height": 206
        },
        "outputId": "bb553a3f-59dc-478e-9d92-e8f62080a73a"
      },
      "outputs": [
        {
          "output_type": "execute_result",
          "data": {
            "text/plain": [
              "         Date  Open  High  Low    Volume  Close\n",
              "0  2015-12-16   120   123  118  13181000    123\n",
              "1  2015-12-17   124   126  122  17284900    123\n",
              "2  2015-12-18   121   122  118  17948100    118\n",
              "3  2015-12-21   120   120  116  11670000    117\n",
              "4  2015-12-22   117   117  115   9689000    116"
            ],
            "text/html": [
              "\n",
              "  <div id=\"df-c3c89560-945b-40f3-824d-70109f636036\">\n",
              "    <div class=\"colab-df-container\">\n",
              "      <div>\n",
              "<style scoped>\n",
              "    .dataframe tbody tr th:only-of-type {\n",
              "        vertical-align: middle;\n",
              "    }\n",
              "\n",
              "    .dataframe tbody tr th {\n",
              "        vertical-align: top;\n",
              "    }\n",
              "\n",
              "    .dataframe thead th {\n",
              "        text-align: right;\n",
              "    }\n",
              "</style>\n",
              "<table border=\"1\" class=\"dataframe\">\n",
              "  <thead>\n",
              "    <tr style=\"text-align: right;\">\n",
              "      <th></th>\n",
              "      <th>Date</th>\n",
              "      <th>Open</th>\n",
              "      <th>High</th>\n",
              "      <th>Low</th>\n",
              "      <th>Volume</th>\n",
              "      <th>Close</th>\n",
              "    </tr>\n",
              "  </thead>\n",
              "  <tbody>\n",
              "    <tr>\n",
              "      <th>0</th>\n",
              "      <td>2015-12-16</td>\n",
              "      <td>120</td>\n",
              "      <td>123</td>\n",
              "      <td>118</td>\n",
              "      <td>13181000</td>\n",
              "      <td>123</td>\n",
              "    </tr>\n",
              "    <tr>\n",
              "      <th>1</th>\n",
              "      <td>2015-12-17</td>\n",
              "      <td>124</td>\n",
              "      <td>126</td>\n",
              "      <td>122</td>\n",
              "      <td>17284900</td>\n",
              "      <td>123</td>\n",
              "    </tr>\n",
              "    <tr>\n",
              "      <th>2</th>\n",
              "      <td>2015-12-18</td>\n",
              "      <td>121</td>\n",
              "      <td>122</td>\n",
              "      <td>118</td>\n",
              "      <td>17948100</td>\n",
              "      <td>118</td>\n",
              "    </tr>\n",
              "    <tr>\n",
              "      <th>3</th>\n",
              "      <td>2015-12-21</td>\n",
              "      <td>120</td>\n",
              "      <td>120</td>\n",
              "      <td>116</td>\n",
              "      <td>11670000</td>\n",
              "      <td>117</td>\n",
              "    </tr>\n",
              "    <tr>\n",
              "      <th>4</th>\n",
              "      <td>2015-12-22</td>\n",
              "      <td>117</td>\n",
              "      <td>117</td>\n",
              "      <td>115</td>\n",
              "      <td>9689000</td>\n",
              "      <td>116</td>\n",
              "    </tr>\n",
              "  </tbody>\n",
              "</table>\n",
              "</div>\n",
              "      <button class=\"colab-df-convert\" onclick=\"convertToInteractive('df-c3c89560-945b-40f3-824d-70109f636036')\"\n",
              "              title=\"Convert this dataframe to an interactive table.\"\n",
              "              style=\"display:none;\">\n",
              "        \n",
              "  <svg xmlns=\"http://www.w3.org/2000/svg\" height=\"24px\"viewBox=\"0 0 24 24\"\n",
              "       width=\"24px\">\n",
              "    <path d=\"M0 0h24v24H0V0z\" fill=\"none\"/>\n",
              "    <path d=\"M18.56 5.44l.94 2.06.94-2.06 2.06-.94-2.06-.94-.94-2.06-.94 2.06-2.06.94zm-11 1L8.5 8.5l.94-2.06 2.06-.94-2.06-.94L8.5 2.5l-.94 2.06-2.06.94zm10 10l.94 2.06.94-2.06 2.06-.94-2.06-.94-.94-2.06-.94 2.06-2.06.94z\"/><path d=\"M17.41 7.96l-1.37-1.37c-.4-.4-.92-.59-1.43-.59-.52 0-1.04.2-1.43.59L10.3 9.45l-7.72 7.72c-.78.78-.78 2.05 0 2.83L4 21.41c.39.39.9.59 1.41.59.51 0 1.02-.2 1.41-.59l7.78-7.78 2.81-2.81c.8-.78.8-2.07 0-2.86zM5.41 20L4 18.59l7.72-7.72 1.47 1.35L5.41 20z\"/>\n",
              "  </svg>\n",
              "      </button>\n",
              "      \n",
              "  <style>\n",
              "    .colab-df-container {\n",
              "      display:flex;\n",
              "      flex-wrap:wrap;\n",
              "      gap: 12px;\n",
              "    }\n",
              "\n",
              "    .colab-df-convert {\n",
              "      background-color: #E8F0FE;\n",
              "      border: none;\n",
              "      border-radius: 50%;\n",
              "      cursor: pointer;\n",
              "      display: none;\n",
              "      fill: #1967D2;\n",
              "      height: 32px;\n",
              "      padding: 0 0 0 0;\n",
              "      width: 32px;\n",
              "    }\n",
              "\n",
              "    .colab-df-convert:hover {\n",
              "      background-color: #E2EBFA;\n",
              "      box-shadow: 0px 1px 2px rgba(60, 64, 67, 0.3), 0px 1px 3px 1px rgba(60, 64, 67, 0.15);\n",
              "      fill: #174EA6;\n",
              "    }\n",
              "\n",
              "    [theme=dark] .colab-df-convert {\n",
              "      background-color: #3B4455;\n",
              "      fill: #D2E3FC;\n",
              "    }\n",
              "\n",
              "    [theme=dark] .colab-df-convert:hover {\n",
              "      background-color: #434B5C;\n",
              "      box-shadow: 0px 1px 3px 1px rgba(0, 0, 0, 0.15);\n",
              "      filter: drop-shadow(0px 1px 2px rgba(0, 0, 0, 0.3));\n",
              "      fill: #FFFFFF;\n",
              "    }\n",
              "  </style>\n",
              "\n",
              "      <script>\n",
              "        const buttonEl =\n",
              "          document.querySelector('#df-c3c89560-945b-40f3-824d-70109f636036 button.colab-df-convert');\n",
              "        buttonEl.style.display =\n",
              "          google.colab.kernel.accessAllowed ? 'block' : 'none';\n",
              "\n",
              "        async function convertToInteractive(key) {\n",
              "          const element = document.querySelector('#df-c3c89560-945b-40f3-824d-70109f636036');\n",
              "          const dataTable =\n",
              "            await google.colab.kernel.invokeFunction('convertToInteractive',\n",
              "                                                     [key], {});\n",
              "          if (!dataTable) return;\n",
              "\n",
              "          const docLinkHtml = 'Like what you see? Visit the ' +\n",
              "            '<a target=\"_blank\" href=https://colab.research.google.com/notebooks/data_table.ipynb>data table notebook</a>'\n",
              "            + ' to learn more about interactive tables.';\n",
              "          element.innerHTML = '';\n",
              "          dataTable['output_type'] = 'display_data';\n",
              "          await google.colab.output.renderOutput(dataTable, element);\n",
              "          const docLink = document.createElement('div');\n",
              "          docLink.innerHTML = docLinkHtml;\n",
              "          element.appendChild(docLink);\n",
              "        }\n",
              "      </script>\n",
              "    </div>\n",
              "  </div>\n",
              "  "
            ]
          },
          "metadata": {},
          "execution_count": 56
        }
      ],
      "source": [
        "import pandas as pd\n",
        "\n",
        "data = pd.read_csv(\"/content/drive/MyDrive/rnn_train.csv\")  # 데이터 파일을 읽어옴\n",
        "data.head()  # 5개의 데이터를 표시"
      ]
    },
    {
      "cell_type": "code",
      "source": [
        "data.info() # 967일"
      ],
      "metadata": {
        "id": "jEBSjTTBSl9f",
        "colab": {
          "base_uri": "https://localhost:8080/"
        },
        "outputId": "670a284b-1c6a-4956-8e7c-a50b4816894c"
      },
      "execution_count": 57,
      "outputs": [
        {
          "output_type": "stream",
          "name": "stdout",
          "text": [
            "<class 'pandas.core.frame.DataFrame'>\n",
            "RangeIndex: 967 entries, 0 to 966\n",
            "Data columns (total 6 columns):\n",
            " #   Column  Non-Null Count  Dtype \n",
            "---  ------  --------------  ----- \n",
            " 0   Date    967 non-null    object\n",
            " 1   Open    967 non-null    int64 \n",
            " 2   High    967 non-null    int64 \n",
            " 3   Low     967 non-null    int64 \n",
            " 4   Volume  967 non-null    int64 \n",
            " 5   Close   967 non-null    int64 \n",
            "dtypes: int64(5), object(1)\n",
            "memory usage: 45.5+ KB\n"
          ]
        }
      ]
    },
    {
      "cell_type": "code",
      "source": [
        "import matplotlib.pyplot as plt\n",
        "\n",
        "data_used = data.iloc[:, 1:4]  # 개장가, 최고가, 최저가 추가\n",
        "data_used[\"Close\"] = data[\"Close\"]  # 종가 추가\n",
        "hist = data_used.hist()\n",
        "plt.show()"
      ],
      "metadata": {
        "id": "I3TXKtQANsjZ",
        "colab": {
          "base_uri": "https://localhost:8080/",
          "height": 281
        },
        "outputId": "31b92465-9f10-44c2-fea3-03f4bcb46b06"
      },
      "execution_count": 58,
      "outputs": [
        {
          "output_type": "display_data",
          "data": {
            "text/plain": [
              "<Figure size 432x288 with 4 Axes>"
            ],
            "image/png": "[encoded data removed]"
          },
          "metadata": {
            "needs_background": "light"
          }
        }
      ]
    },
    {
      "cell_type": "markdown",
      "source": [
        "## 넷플릭스 데이터셋 정의"
      ],
      "metadata": {
        "id": "tEvAb6Q0N49P"
      }
    },
    {
      "cell_type": "code",
      "source": [
        "import numpy as np\n",
        "from torch.utils.data.dataset import Dataset\n",
        "\n",
        "class Netflix(Dataset):  # 클래스 선언\n",
        "    def __init__(self):\n",
        "         # 데이터 읽기\n",
        "          self.csv = pd.read_csv(\"/content/drive/MyDrive/rnn_train.csv\")\n",
        "        # 입력 데이터 정규화\n",
        "          self.data = self.csv.iloc[:,1:4].values\n",
        "          self.data = self.data /np.max(self.data)\n",
        "        # 종가 데이터 정규화\n",
        "          self.label = self.csv['Close'].values\n",
        "          self.label = self.label/np.max(self.label)\n",
        "    def __len__(self):\n",
        "\n",
        "        return len(self.data) - 30\n",
        "\n",
        "    def __getitem__(self, i):\n",
        "        # 입력 데이터 30일치 읽기\n",
        "        data = self.data[i:i+30]\n",
        "\n",
        "        # 종가 데이터 30일치 읽기\n",
        "        label = self.label[i+30]\n",
        "        return data, label"
      ],
      "metadata": {
        "id": "wxPFwR4BNxa8"
      },
      "execution_count": 59,
      "outputs": []
    },
    {
      "cell_type": "markdown",
      "source": [
        "## RNN 모델 정의"
      ],
      "metadata": {
        "id": "AtnMMK1CUj9f"
      }
    },
    {
      "cell_type": "code",
      "source": [
        "class RNN(nn.Module):\n",
        "   def __init__(self):\n",
        "       super(RNN, self).__init__()\n",
        "       self.rnn = nn.RNN(input_size=3,hidden_size=8, num_layers=5, batch_first=True)\n",
        "\n",
        "       # 주가를 예측하는 MLP층 정의\n",
        "       self.fc1 = nn.Linear(in_features=240, out_features=64)\n",
        "       self.fc2 = nn.Linear(in_features=64,out_features=1)\n",
        "       self.relu = nn.ReLU()\n",
        "       # 활성화 함수 정의\n",
        "        \n",
        "   def forward(self, x, h0):\n",
        "       # RNN층의 출력\n",
        "       x, h0 = self.rnn(x,h0)\n",
        "\n",
        "       # MLP층의 입력으로 사용될 수 있도록 모양 변경\n",
        "       x= torch.reshape(x,(x.shape[0],-1))\n",
        "\n",
        "       # MLP 층을 이용해 종가를 예측\n",
        "       x= self.fc1(x)\n",
        "       x= self.relu(x)\n",
        "       x= self.fc2(x)\n",
        "      \n",
        "       # 예측한 종가를 1차원 벡터로 표현\n",
        "       x = torch.flatten(x)\n",
        "\n",
        "       return x"
      ],
      "metadata": {
        "id": "jmyF5u3sUjgV"
      },
      "execution_count": 60,
      "outputs": []
    },
    {
      "cell_type": "code",
      "source": [
        "model = RNN().to(device)  # 모델의 정의\n",
        "dataset = Netflix()  # 데이터셋의 정의"
      ],
      "metadata": {
        "id": "IfT1B-ghc37_"
      },
      "execution_count": 61,
      "outputs": []
    },
    {
      "cell_type": "code",
      "source": [
        "loader = DataLoader(dataset, batch_size=32)  # 배치 크기를 32로 설정"
      ],
      "metadata": {
        "id": "AXCUlPbRdIO1"
      },
      "execution_count": 62,
      "outputs": []
    },
    {
      "cell_type": "code",
      "source": [
        "optim = torch.optim.Adam(params=model.parameters(), lr=0.0001)"
      ],
      "metadata": {
        "id": "-U5aOyhRdPw8"
      },
      "execution_count": 63,
      "outputs": []
    },
    {
      "cell_type": "markdown",
      "source": [
        "## 학습 루프 정의"
      ],
      "metadata": {
        "id": "zMEgajvkeAGS"
      }
    },
    {
      "cell_type": "code",
      "source": [
        "import tqdm\n",
        "for epoch in range(200):\n",
        "   iterator = tqdm.tqdm(loader)\n",
        "   for data, label in iterator:\n",
        "       optim.zero_grad()\n",
        "      \n",
        "      # 초기 은닉 상태      \n",
        "       h0 = torch.zeros(5, data.shape[0],8).to(device)\n",
        "\n",
        "      # 모델의 예측값\n",
        "       pred = model(data.type(torch.FloatTensor).to(device),h0)\n",
        "\n",
        "       # 손실의 계산\n",
        "       loss = nn.MSELoss()(pred,\n",
        "                           label.type(torch.FloatTensor).to(device))\n",
        "       loss.backward()  # 오차 역전파\n",
        "       optim.step()  # 최적화 진행\n",
        "\n",
        "       iterator.set_description(f\"epoch{epoch} loss:{loss.item()}\") #tqdm 결과출력\n",
        "\n",
        "torch.save(model.state_dict(), \"./rnn.pth\")  # 모델 저장"
      ],
      "metadata": {
        "id": "7d6iYdj2dhQh",
        "colab": {
          "base_uri": "https://localhost:8080/"
        },
        "outputId": "5bd568eb-843f-46cf-a106-a7fdb2ca1ca2"
      },
      "execution_count": 64,
      "outputs": [
        {
          "output_type": "stream",
          "name": "stderr",
          "text": [
            "epoch0 loss:0.014327910728752613: 100%|██████████| 30/30 [00:00<00:00, 104.81it/s]\n",
            "epoch1 loss:0.008116915822029114: 100%|██████████| 30/30 [00:00<00:00, 103.23it/s]\n",
            "epoch2 loss:0.0109700383618474: 100%|██████████| 30/30 [00:00<00:00, 111.76it/s]\n",
            "epoch3 loss:0.010733319446444511: 100%|██████████| 30/30 [00:00<00:00, 116.45it/s]\n",
            "epoch4 loss:0.010140438564121723: 100%|██████████| 30/30 [00:00<00:00, 102.41it/s]\n",
            "epoch5 loss:0.009580674581229687: 100%|██████████| 30/30 [00:00<00:00, 106.48it/s]\n",
            "epoch6 loss:0.008864683099091053: 100%|██████████| 30/30 [00:00<00:00, 109.76it/s]\n",
            "epoch7 loss:0.00791334081441164: 100%|██████████| 30/30 [00:00<00:00, 103.46it/s]\n",
            "epoch8 loss:0.006661511026322842: 100%|██████████| 30/30 [00:00<00:00, 111.22it/s]\n",
            "epoch9 loss:0.005074883811175823: 100%|██████████| 30/30 [00:00<00:00, 102.92it/s]\n",
            "epoch10 loss:0.0033860912080854177: 100%|██████████| 30/30 [00:00<00:00, 105.28it/s]\n",
            "epoch11 loss:0.0010566806886345148: 100%|██████████| 30/30 [00:00<00:00, 101.75it/s]\n",
            "epoch12 loss:0.00040173871093429625: 100%|██████████| 30/30 [00:00<00:00, 110.36it/s]\n",
            "epoch13 loss:0.001252699876204133: 100%|██████████| 30/30 [00:00<00:00, 107.76it/s]\n",
            "epoch14 loss:0.00310559943318367: 100%|██████████| 30/30 [00:00<00:00, 110.54it/s]\n",
            "epoch15 loss:0.0038199122063815594: 100%|██████████| 30/30 [00:00<00:00, 112.73it/s]\n",
            "epoch16 loss:0.003921855706721544: 100%|██████████| 30/30 [00:00<00:00, 106.03it/s]\n",
            "epoch17 loss:0.003829353488981724: 100%|██████████| 30/30 [00:00<00:00, 109.38it/s]\n",
            "epoch18 loss:0.003818585304543376: 100%|██████████| 30/30 [00:00<00:00, 107.78it/s]\n",
            "epoch19 loss:0.0038158446550369263: 100%|██████████| 30/30 [00:00<00:00, 104.36it/s]\n",
            "epoch20 loss:0.003811628557741642: 100%|██████████| 30/30 [00:00<00:00, 107.98it/s]\n",
            "epoch21 loss:0.003813484450802207: 100%|██████████| 30/30 [00:00<00:00, 105.13it/s]\n",
            "epoch22 loss:0.0037956403102725744: 100%|██████████| 30/30 [00:00<00:00, 110.28it/s]\n",
            "epoch23 loss:0.003779452759772539: 100%|██████████| 30/30 [00:00<00:00, 107.60it/s]\n",
            "epoch24 loss:0.0037790206260979176: 100%|██████████| 30/30 [00:00<00:00, 109.08it/s]\n",
            "epoch25 loss:0.0037804022431373596: 100%|██████████| 30/30 [00:00<00:00, 106.99it/s]\n",
            "epoch26 loss:0.0037785996682941914: 100%|██████████| 30/30 [00:00<00:00, 107.84it/s]\n",
            "epoch27 loss:0.0037684349808841944: 100%|██████████| 30/30 [00:00<00:00, 104.54it/s]\n",
            "epoch28 loss:0.003755674697458744: 100%|██████████| 30/30 [00:00<00:00, 107.51it/s]\n",
            "epoch29 loss:0.003747062524780631: 100%|██████████| 30/30 [00:00<00:00, 98.61it/s]\n",
            "epoch30 loss:0.003737060585990548: 100%|██████████| 30/30 [00:00<00:00, 108.54it/s]\n",
            "epoch31 loss:0.0037261913530528545: 100%|██████████| 30/30 [00:00<00:00, 100.43it/s]\n",
            "epoch32 loss:0.0037298211827874184: 100%|██████████| 30/30 [00:00<00:00, 108.97it/s]\n",
            "epoch33 loss:0.003750772215425968: 100%|██████████| 30/30 [00:00<00:00, 109.19it/s]\n",
            "epoch34 loss:0.0037707644514739513: 100%|██████████| 30/30 [00:00<00:00, 113.78it/s]\n",
            "epoch35 loss:0.003769888775423169: 100%|██████████| 30/30 [00:00<00:00, 101.62it/s]\n",
            "epoch36 loss:0.003773908596485853: 100%|██████████| 30/30 [00:00<00:00, 103.92it/s]\n",
            "epoch37 loss:0.0037853308022022247: 100%|██████████| 30/30 [00:00<00:00, 106.75it/s]\n",
            "epoch38 loss:0.0037993628066033125: 100%|██████████| 30/30 [00:00<00:00, 105.69it/s]\n",
            "epoch39 loss:0.0038128425367176533: 100%|██████████| 30/30 [00:00<00:00, 101.52it/s]\n",
            "epoch40 loss:0.0038207892794162035: 100%|██████████| 30/30 [00:00<00:00, 107.43it/s]\n",
            "epoch41 loss:0.003827448934316635: 100%|██████████| 30/30 [00:00<00:00, 106.90it/s]\n",
            "epoch42 loss:0.0038326375652104616: 100%|██████████| 30/30 [00:00<00:00, 104.77it/s]\n",
            "epoch43 loss:0.0038412718567997217: 100%|██████████| 30/30 [00:00<00:00, 108.07it/s]\n",
            "epoch44 loss:0.0038438194897025824: 100%|██████████| 30/30 [00:00<00:00, 115.74it/s]\n",
            "epoch45 loss:0.003847571788355708: 100%|██████████| 30/30 [00:00<00:00, 98.84it/s]\n",
            "epoch46 loss:0.0038532561156898737: 100%|██████████| 30/30 [00:00<00:00, 99.64it/s]\n",
            "epoch47 loss:0.0038521969690918922: 100%|██████████| 30/30 [00:00<00:00, 102.72it/s]\n",
            "epoch48 loss:0.0038560405373573303: 100%|██████████| 30/30 [00:00<00:00, 102.39it/s]\n",
            "epoch49 loss:0.0038575187791138887: 100%|██████████| 30/30 [00:00<00:00, 104.94it/s]\n",
            "epoch50 loss:0.00386372534558177: 100%|██████████| 30/30 [00:00<00:00, 102.42it/s]\n",
            "epoch51 loss:0.0038579197134822607: 100%|██████████| 30/30 [00:00<00:00, 105.19it/s]\n",
            "epoch52 loss:0.003862375160679221: 100%|██████████| 30/30 [00:00<00:00, 106.89it/s]\n",
            "epoch53 loss:0.003857160685583949: 100%|██████████| 30/30 [00:00<00:00, 107.70it/s]\n",
            "epoch54 loss:0.0038589020259678364: 100%|██████████| 30/30 [00:00<00:00, 108.25it/s]\n",
            "epoch55 loss:0.0038560510147362947: 100%|██████████| 30/30 [00:00<00:00, 97.86it/s] \n",
            "epoch56 loss:0.0038607539609074593: 100%|██████████| 30/30 [00:00<00:00, 96.78it/s]\n",
            "epoch57 loss:0.00385123654268682: 100%|██████████| 30/30 [00:00<00:00, 103.52it/s]\n",
            "epoch58 loss:0.00385366752743721: 100%|██████████| 30/30 [00:00<00:00, 103.48it/s]\n",
            "epoch59 loss:0.003848874242976308: 100%|██████████| 30/30 [00:00<00:00, 103.74it/s]\n",
            "epoch60 loss:0.003849905915558338: 100%|██████████| 30/30 [00:00<00:00, 105.93it/s]\n",
            "epoch61 loss:0.0038479857612401247: 100%|██████████| 30/30 [00:00<00:00, 103.28it/s]\n",
            "epoch62 loss:0.0038524451665580273: 100%|██████████| 30/30 [00:00<00:00, 101.99it/s]\n",
            "epoch63 loss:0.0038496863562613726: 100%|██████████| 30/30 [00:00<00:00, 102.28it/s]\n",
            "epoch64 loss:0.0038498416543006897: 100%|██████████| 30/30 [00:00<00:00, 100.79it/s]\n",
            "epoch65 loss:0.0038351595867425203: 100%|██████████| 30/30 [00:00<00:00, 103.02it/s]\n",
            "epoch66 loss:0.0038357051089406013: 100%|██████████| 30/30 [00:00<00:00, 102.59it/s]\n",
            "epoch67 loss:0.0038299618754535913: 100%|██████████| 30/30 [00:00<00:00, 101.94it/s]\n",
            "epoch68 loss:0.0038289416115731: 100%|██████████| 30/30 [00:00<00:00, 101.59it/s]\n",
            "epoch69 loss:0.003820909420028329: 100%|██████████| 30/30 [00:00<00:00, 102.93it/s]\n",
            "epoch70 loss:0.003813688177615404: 100%|██████████| 30/30 [00:00<00:00, 97.84it/s]\n",
            "epoch71 loss:0.003811888862401247: 100%|██████████| 30/30 [00:00<00:00, 99.88it/s]\n",
            "epoch72 loss:0.0038018689956516027: 100%|██████████| 30/30 [00:00<00:00, 105.57it/s]\n",
            "epoch73 loss:0.003794213989749551: 100%|██████████| 30/30 [00:00<00:00, 97.32it/s] \n",
            "epoch74 loss:0.003786483546718955: 100%|██████████| 30/30 [00:00<00:00, 102.05it/s]\n",
            "epoch75 loss:0.003779483027756214: 100%|██████████| 30/30 [00:00<00:00, 103.53it/s]\n",
            "epoch76 loss:0.0037740895058959723: 100%|██████████| 30/30 [00:00<00:00, 105.11it/s]\n",
            "epoch77 loss:0.003771353978663683: 100%|██████████| 30/30 [00:00<00:00, 94.86it/s]\n",
            "epoch78 loss:0.0037598316557705402: 100%|██████████| 30/30 [00:00<00:00, 101.81it/s]\n",
            "epoch79 loss:0.003749133786186576: 100%|██████████| 30/30 [00:00<00:00, 101.40it/s]\n",
            "epoch80 loss:0.0037342719733715057: 100%|██████████| 30/30 [00:00<00:00, 95.98it/s]\n",
            "epoch81 loss:0.0037262747064232826: 100%|██████████| 30/30 [00:00<00:00, 94.33it/s]\n",
            "epoch82 loss:0.0037139845080673695: 100%|██████████| 30/30 [00:00<00:00, 102.54it/s]\n",
            "epoch83 loss:0.00370705290697515: 100%|██████████| 30/30 [00:00<00:00, 103.10it/s]\n",
            "epoch84 loss:0.003700834233313799: 100%|██████████| 30/30 [00:00<00:00, 101.56it/s]\n",
            "epoch85 loss:0.003691377816721797: 100%|██████████| 30/30 [00:00<00:00, 103.82it/s]\n",
            "epoch86 loss:0.003681379836052656: 100%|██████████| 30/30 [00:00<00:00, 103.81it/s]\n",
            "epoch87 loss:0.003668790450319648: 100%|██████████| 30/30 [00:00<00:00, 97.73it/s]\n",
            "epoch88 loss:0.0036541440058499575: 100%|██████████| 30/30 [00:00<00:00, 103.86it/s]\n",
            "epoch89 loss:0.0036341685336083174: 100%|██████████| 30/30 [00:00<00:00, 105.08it/s]\n",
            "epoch90 loss:0.0036170566454529762: 100%|██████████| 30/30 [00:00<00:00, 101.77it/s]\n",
            "epoch91 loss:0.003587548853829503: 100%|██████████| 30/30 [00:00<00:00, 107.42it/s]\n",
            "epoch92 loss:0.003579347860068083: 100%|██████████| 30/30 [00:00<00:00, 95.91it/s]\n",
            "epoch93 loss:0.0035753692500293255: 100%|██████████| 30/30 [00:00<00:00, 99.45it/s] \n",
            "epoch94 loss:0.003569013671949506: 100%|██████████| 30/30 [00:00<00:00, 100.33it/s]\n",
            "epoch95 loss:0.0035509143490344286: 100%|██████████| 30/30 [00:00<00:00, 105.29it/s]\n",
            "epoch96 loss:0.003529896726831794: 100%|██████████| 30/30 [00:00<00:00, 103.58it/s]\n",
            "epoch97 loss:0.0035101280082017183: 100%|██████████| 30/30 [00:00<00:00, 101.84it/s]\n",
            "epoch98 loss:0.0034820351283997297: 100%|██████████| 30/30 [00:00<00:00, 101.25it/s]\n",
            "epoch99 loss:0.0034709933679550886: 100%|██████████| 30/30 [00:00<00:00, 104.16it/s]\n",
            "epoch100 loss:0.003455809550359845: 100%|██████████| 30/30 [00:00<00:00, 97.35it/s]\n",
            "epoch101 loss:0.003447768511250615: 100%|██████████| 30/30 [00:00<00:00, 94.49it/s]\n",
            "epoch102 loss:0.0034312556963413954: 100%|██████████| 30/30 [00:00<00:00, 103.33it/s]\n",
            "epoch103 loss:0.0033975534606724977: 100%|██████████| 30/30 [00:00<00:00, 97.57it/s] \n",
            "epoch104 loss:0.0033923473674803972: 100%|██████████| 30/30 [00:00<00:00, 97.40it/s]\n",
            "epoch105 loss:0.003363521071150899: 100%|██████████| 30/30 [00:00<00:00, 102.96it/s]\n",
            "epoch106 loss:0.003348458092659712: 100%|██████████| 30/30 [00:00<00:00, 98.76it/s]\n",
            "epoch107 loss:0.0033149116206914186: 100%|██████████| 30/30 [00:00<00:00, 99.84it/s]\n",
            "epoch108 loss:0.0033083781599998474: 100%|██████████| 30/30 [00:00<00:00, 100.46it/s]\n",
            "epoch109 loss:0.0032877398189157248: 100%|██████████| 30/30 [00:00<00:00, 100.30it/s]\n",
            "epoch110 loss:0.003263798076659441: 100%|██████████| 30/30 [00:00<00:00, 102.37it/s]\n",
            "epoch111 loss:0.0032399834599345922: 100%|██████████| 30/30 [00:00<00:00, 96.56it/s] \n",
            "epoch112 loss:0.0032218704000115395: 100%|██████████| 30/30 [00:00<00:00, 96.27it/s]\n",
            "epoch113 loss:0.0031891067046672106: 100%|██████████| 30/30 [00:00<00:00, 95.75it/s]\n",
            "epoch114 loss:0.003171241609379649: 100%|██████████| 30/30 [00:00<00:00, 97.24it/s]\n",
            "epoch115 loss:0.003141361754387617: 100%|██████████| 30/30 [00:00<00:00, 101.47it/s]\n",
            "epoch116 loss:0.0031295239459723234: 100%|██████████| 30/30 [00:00<00:00, 103.58it/s]\n",
            "epoch117 loss:0.003102104412391782: 100%|██████████| 30/30 [00:00<00:00, 101.31it/s]\n",
            "epoch118 loss:0.0030814516358077526: 100%|██████████| 30/30 [00:00<00:00, 96.64it/s] \n",
            "epoch119 loss:0.0030630305409431458: 100%|██████████| 30/30 [00:00<00:00, 97.18it/s]\n",
            "epoch120 loss:0.0030274491291493177: 100%|██████████| 30/30 [00:00<00:00, 91.52it/s]\n",
            "epoch121 loss:0.003009246662259102: 100%|██████████| 30/30 [00:00<00:00, 105.11it/s]\n",
            "epoch122 loss:0.0029928728472441435: 100%|██████████| 30/30 [00:00<00:00, 96.49it/s]\n",
            "epoch123 loss:0.002962806262075901: 100%|██████████| 30/30 [00:00<00:00, 91.04it/s]\n",
            "epoch124 loss:0.0029400107450783253: 100%|██████████| 30/30 [00:00<00:00, 103.79it/s]\n",
            "epoch125 loss:0.002911824267357588: 100%|██████████| 30/30 [00:00<00:00, 96.77it/s]\n",
            "epoch126 loss:0.00289194006472826: 100%|██████████| 30/30 [00:00<00:00, 96.38it/s]\n",
            "epoch127 loss:0.0028656329959630966: 100%|██████████| 30/30 [00:00<00:00, 112.89it/s]\n",
            "epoch128 loss:0.002838646527379751: 100%|██████████| 30/30 [00:00<00:00, 103.81it/s]\n",
            "epoch129 loss:0.002817210741341114: 100%|██████████| 30/30 [00:00<00:00, 91.33it/s]\n",
            "epoch130 loss:0.0027814749628305435: 100%|██████████| 30/30 [00:00<00:00, 93.64it/s]\n",
            "epoch131 loss:0.0027587013319134712: 100%|██████████| 30/30 [00:00<00:00, 100.72it/s]\n",
            "epoch132 loss:0.0027322222013026476: 100%|██████████| 30/30 [00:00<00:00, 99.85it/s]\n",
            "epoch133 loss:0.0027078655548393726: 100%|██████████| 30/30 [00:00<00:00, 99.60it/s]\n",
            "epoch134 loss:0.0026791414711624384: 100%|██████████| 30/30 [00:00<00:00, 97.07it/s]\n",
            "epoch135 loss:0.0026513824705034494: 100%|██████████| 30/30 [00:00<00:00, 89.61it/s]\n",
            "epoch136 loss:0.0026312547270208597: 100%|██████████| 30/30 [00:00<00:00, 94.24it/s]\n",
            "epoch137 loss:0.0025936237070709467: 100%|██████████| 30/30 [00:00<00:00, 93.56it/s]\n",
            "epoch138 loss:0.0025742510333657265: 100%|██████████| 30/30 [00:00<00:00, 97.15it/s]\n",
            "epoch139 loss:0.0025520522613078356: 100%|██████████| 30/30 [00:00<00:00, 98.11it/s]\n",
            "epoch140 loss:0.0025379147846251726: 100%|██████████| 30/30 [00:00<00:00, 101.34it/s]\n",
            "epoch141 loss:0.002508428180590272: 100%|██████████| 30/30 [00:00<00:00, 95.53it/s]\n",
            "epoch142 loss:0.0024850640911608934: 100%|██████████| 30/30 [00:00<00:00, 98.02it/s]\n",
            "epoch143 loss:0.0024460635613650084: 100%|██████████| 30/30 [00:00<00:00, 97.95it/s]\n",
            "epoch144 loss:0.002424717415124178: 100%|██████████| 30/30 [00:00<00:00, 95.79it/s]\n",
            "epoch145 loss:0.002392306225374341: 100%|██████████| 30/30 [00:00<00:00, 98.22it/s]\n",
            "epoch146 loss:0.0023679977748543024: 100%|██████████| 30/30 [00:00<00:00, 93.79it/s]\n",
            "epoch147 loss:0.002340703271329403: 100%|██████████| 30/30 [00:00<00:00, 100.80it/s]\n",
            "epoch148 loss:0.0023010275326669216: 100%|██████████| 30/30 [00:00<00:00, 93.90it/s]\n",
            "epoch149 loss:0.002284035086631775: 100%|██████████| 30/30 [00:00<00:00, 96.13it/s]\n",
            "epoch150 loss:0.002249946352094412: 100%|██████████| 30/30 [00:00<00:00, 94.13it/s]\n",
            "epoch151 loss:0.0022364717442542315: 100%|██████████| 30/30 [00:00<00:00, 93.08it/s]\n",
            "epoch152 loss:0.0022101581562310457: 100%|██████████| 30/30 [00:00<00:00, 90.71it/s]\n",
            "epoch153 loss:0.0021937626879662275: 100%|██████████| 30/30 [00:00<00:00, 105.52it/s]\n",
            "epoch154 loss:0.0021653964649885893: 100%|██████████| 30/30 [00:00<00:00, 88.11it/s]\n",
            "epoch155 loss:0.002142311306670308: 100%|██████████| 30/30 [00:00<00:00, 84.67it/s]\n",
            "epoch156 loss:0.002106043742969632: 100%|██████████| 30/30 [00:00<00:00, 85.49it/s]\n",
            "epoch157 loss:0.002083707135170698: 100%|██████████| 30/30 [00:00<00:00, 85.18it/s]\n",
            "epoch158 loss:0.0020495844073593616: 100%|██████████| 30/30 [00:00<00:00, 84.95it/s]\n",
            "epoch159 loss:0.002022093627601862: 100%|██████████| 30/30 [00:00<00:00, 84.99it/s]\n",
            "epoch160 loss:0.0019863308407366276: 100%|██████████| 30/30 [00:00<00:00, 85.59it/s]\n",
            "epoch161 loss:0.001961875008419156: 100%|██████████| 30/30 [00:00<00:00, 86.24it/s]\n",
            "epoch162 loss:0.0019354727119207382: 100%|██████████| 30/30 [00:00<00:00, 88.36it/s]\n",
            "epoch163 loss:0.001906288554891944: 100%|██████████| 30/30 [00:00<00:00, 86.03it/s]\n",
            "epoch164 loss:0.0018788313027471304: 100%|██████████| 30/30 [00:00<00:00, 88.73it/s]\n",
            "epoch165 loss:0.0018475893884897232: 100%|██████████| 30/30 [00:00<00:00, 88.94it/s]\n",
            "epoch166 loss:0.001821025158278644: 100%|██████████| 30/30 [00:00<00:00, 86.78it/s]\n",
            "epoch167 loss:0.0017878090729936957: 100%|██████████| 30/30 [00:00<00:00, 83.83it/s]\n",
            "epoch168 loss:0.0017649794463068247: 100%|██████████| 30/30 [00:00<00:00, 80.46it/s]\n",
            "epoch169 loss:0.0017363170627504587: 100%|██████████| 30/30 [00:00<00:00, 83.83it/s]\n",
            "epoch170 loss:0.001713038538582623: 100%|██████████| 30/30 [00:00<00:00, 86.38it/s]\n",
            "epoch171 loss:0.0016788548091426492: 100%|██████████| 30/30 [00:00<00:00, 87.82it/s]\n",
            "epoch172 loss:0.0016531345900148153: 100%|██████████| 30/30 [00:00<00:00, 44.95it/s]\n",
            "epoch173 loss:0.0016219676472246647: 100%|██████████| 30/30 [00:00<00:00, 57.29it/s]\n",
            "epoch174 loss:0.0016079037450253963: 100%|██████████| 30/30 [00:00<00:00, 59.46it/s]\n",
            "epoch175 loss:0.0015889646019786596: 100%|██████████| 30/30 [00:00<00:00, 48.37it/s]\n",
            "epoch176 loss:0.0015781092224642634: 100%|██████████| 30/30 [00:00<00:00, 85.37it/s]\n",
            "epoch177 loss:0.001561539014801383: 100%|██████████| 30/30 [00:00<00:00, 92.08it/s]\n",
            "epoch178 loss:0.001540516153909266: 100%|██████████| 30/30 [00:00<00:00, 86.37it/s]\n",
            "epoch179 loss:0.0015157090965658426: 100%|██████████| 30/30 [00:00<00:00, 85.84it/s]\n",
            "epoch180 loss:0.001488246489316225: 100%|██████████| 30/30 [00:00<00:00, 86.21it/s]\n",
            "epoch181 loss:0.0014523658901453018: 100%|██████████| 30/30 [00:00<00:00, 84.18it/s]\n",
            "epoch182 loss:0.0014208928914740682: 100%|██████████| 30/30 [00:00<00:00, 86.17it/s]\n",
            "epoch183 loss:0.0013883282663300633: 100%|██████████| 30/30 [00:00<00:00, 92.81it/s]\n",
            "epoch184 loss:0.0013487309915944934: 100%|██████████| 30/30 [00:00<00:00, 88.05it/s]\n",
            "epoch185 loss:0.0013175165513530374: 100%|██████████| 30/30 [00:00<00:00, 86.81it/s]\n",
            "epoch186 loss:0.0012826955644413829: 100%|██████████| 30/30 [00:00<00:00, 85.76it/s]\n",
            "epoch187 loss:0.0012502680765464902: 100%|██████████| 30/30 [00:00<00:00, 82.13it/s]\n",
            "epoch188 loss:0.0012191854184493423: 100%|██████████| 30/30 [00:00<00:00, 85.94it/s]\n",
            "epoch189 loss:0.0011948264436796308: 100%|██████████| 30/30 [00:00<00:00, 85.80it/s]\n",
            "epoch190 loss:0.0011704964563250542: 100%|██████████| 30/30 [00:00<00:00, 86.31it/s]\n",
            "epoch191 loss:0.0011453222250565886: 100%|██████████| 30/30 [00:00<00:00, 81.84it/s]\n",
            "epoch192 loss:0.0011224511545151472: 100%|██████████| 30/30 [00:00<00:00, 83.20it/s]\n",
            "epoch193 loss:0.0011075612856075168: 100%|██████████| 30/30 [00:00<00:00, 82.30it/s]\n",
            "epoch194 loss:0.0010920019121840596: 100%|██████████| 30/30 [00:00<00:00, 90.34it/s]\n",
            "epoch195 loss:0.001076014363206923: 100%|██████████| 30/30 [00:00<00:00, 85.00it/s]\n",
            "epoch196 loss:0.0010624120477586985: 100%|██████████| 30/30 [00:00<00:00, 85.12it/s]\n",
            "epoch197 loss:0.001047378871589899: 100%|██████████| 30/30 [00:00<00:00, 88.19it/s]\n",
            "epoch198 loss:0.001032371073961258: 100%|██████████| 30/30 [00:00<00:00, 84.75it/s]\n",
            "epoch199 loss:0.0010146116837859154: 100%|██████████| 30/30 [00:00<00:00, 87.08it/s]\n"
          ]
        }
      ]
    },
    {
      "cell_type": "markdown",
      "source": [
        "## 모델 성능 평가하기"
      ],
      "metadata": {
        "id": "-PprEOb1eHuS"
      }
    },
    {
      "cell_type": "code",
      "source": [
        "import matplotlib.pyplot as plt\n",
        "\n",
        "loader = DataLoader(dataset, batch_size=1)  # 예측값을 위한 데이터 로더\n",
        "\n",
        "preds = []  # 예측값들을 저장하는 리스트\n",
        "total_loss = 0\n",
        "\n",
        "with torch.no_grad():\n",
        "   # 모델의 가중치 불러오기\n",
        "   model.load_state_dict(torch.load(\"rnn.pth\",map_location=device))\n",
        "\n",
        "   for data, label in loader:\n",
        "       # 초기 은닉상태 정의\n",
        "       h0 = torch.zeros(5,data.shape[0],8).to(device)\n",
        "       # 모델의 예측값 출력\n",
        "       pred = model(data.type(torch.FloatTensor).to(device), h0)\n",
        "       preds.append(pred.item())  # 예측값을 리스트에 추가\n",
        "       loss = nn.MSELoss()(pred,\n",
        "                           label.type(torch.FloatTensor).to(device))  # 손실계산\n",
        "       total_loss += loss/len(loader)  # 손실의 평균치 계산\n",
        "\n",
        "total_loss.item()"
      ],
      "metadata": {
        "id": "DNlVTlKtGK7f",
        "colab": {
          "base_uri": "https://localhost:8080/"
        },
        "outputId": "cec10cbc-9627-4b5a-b202-34ddc8edc4ba"
      },
      "execution_count": 65,
      "outputs": [
        {
          "output_type": "execute_result",
          "data": {
            "text/plain": [
              "0.0018458585254848003"
            ]
          },
          "metadata": {},
          "execution_count": 65
        }
      ]
    },
    {
      "cell_type": "code",
      "source": [
        "plt.plot(preds, label=\"prediction\")\n",
        "plt.plot(dataset.label[30:], label=\"actual\")\n",
        "plt.legend()\n",
        "plt.show()"
      ],
      "metadata": {
        "colab": {
          "base_uri": "https://localhost:8080/",
          "height": 265
        },
        "id": "TtVHfTdng63Y",
        "outputId": "f0e1c93c-a49c-4f76-805e-1872643966f7"
      },
      "execution_count": 66,
      "outputs": [
        {
          "output_type": "display_data",
          "data": {
            "text/plain": [
              "<Figure size 432x288 with 1 Axes>"
            ],
            "image/png": "[encoded data removed]"
          },
          "metadata": {
            "needs_background": "light"
          }
        }
      ]
    },
    {
      "cell_type": "markdown",
      "source": [
        "# LSTM을 이용한 텍스트 생성"
      ],
      "metadata": {
        "id": "jkMSlI-zhEI0"
      }
    },
    {
      "cell_type": "code",
      "source": [
        "import string\n",
        "import os\n",
        "df = pd.read_csv(\"/content/drive/MyDrive/LSTM_data/ArticlesApril2017.csv\")\n",
        "print(df.columns)"
      ],
      "metadata": {
        "colab": {
          "base_uri": "https://localhost:8080/"
        },
        "id": "WcXqTt-0ki88",
        "outputId": "06fff41b-c5c6-4f8e-b590-078042ec9a31"
      },
      "execution_count": 67,
      "outputs": [
        {
          "output_type": "stream",
          "name": "stdout",
          "text": [
            "Index(['abstract', 'articleID', 'articleWordCount', 'byline', 'documentType',\n",
            "       'headline', 'keywords', 'multimedia', 'newDesk', 'printPage', 'pubDate',\n",
            "       'sectionName', 'snippet', 'source', 'typeOfMaterial', 'webURL'],\n",
            "      dtype='object')\n"
          ]
        }
      ]
    },
    {
      "cell_type": "code",
      "source": [
        "import numpy as np\n",
        "import glob\n",
        "\n",
        "from torch.utils.data.dataset import Dataset\n",
        "\n",
        "\n",
        "class TextGeneration(Dataset):\n",
        "    def clean_text(self, txt):\n",
        "        # 모든 단어를 소문자로 바꾸고 특수문자를 제거\n",
        "        txt = \"\".join(v for v in txt if v not in string.punctuation).lower()\n",
        "        return txt\n",
        "    def __init__(self):\n",
        "        all_headlines = []\n",
        "\n",
        "        # 모든 헤드라인의 텍스트를 불러옴\n",
        "        for filename in glob.glob(\"/content/drive/MyDrive/LSTM_data/*.csv\"):\n",
        "          if \"Articles\" in filename:\n",
        "            article_df = pd.read_csv(filename)\n",
        "            all_headlines.extend(list(article_df.headline.values))\n",
        "        # headline 중 unknown 값은 제거\n",
        "        all_headlines = [h for h in all_headlines if h != \"Unknown\"]\n",
        "        \n",
        "        # 구두점 제거 및 전처리가 된 문장들을 리스트로 반환\n",
        "        self.corpus = [self.clean_text(x) for x in all_headlines]\n",
        "        self.BOW={}\n",
        "        # 모든 문장의 단어를 추출해 고유번호 지정\n",
        "        for line in self.corpus:\n",
        "          for word in line.split():\n",
        "            if word not in self.BOW.keys():\n",
        "              self.BOW[word] = len(self.BOW.keys())\n",
        "\n",
        "        # 모델의 입력으로 사용할 데이터\n",
        "        self.data = self.generate_sequence(self.corpus)\n",
        "    def generate_sequence(self, txt): # 텍스트를 시퀀스로 만들기\n",
        "        seq = []\n",
        "\n",
        "            # 단어 2개를 입력으로, 그다음 단어를 정답으로\n",
        "        for line in txt:\n",
        "          line = line.split()\n",
        "          line_bow = [self.BOW[word] for word in line]\n",
        "          \n",
        "          data = [([line_bow[i],line_bow[i+1]],line_bow[i+2]) for i in range(len(line_bow)-2)]\n",
        "          seq.extend(data)\n",
        "        return seq\n",
        "    def __len__(self):\n",
        "        return len(self.data)\n",
        "    def __getitem__(self, i):\n",
        "        data = np.array(self.data[i][0])  # 입력 데이터\n",
        "        label = np.array(self.data[i][1]).astype(np.float32)  # 출력 데이터\n",
        "\n",
        "        return data, label"
      ],
      "metadata": {
        "id": "6D3a7S9gyPtY"
      },
      "execution_count": 68,
      "outputs": []
    },
    {
      "cell_type": "code",
      "source": [
        "class LSTM(nn.Module):\n",
        "   def __init__(self, num_embeddings):\n",
        "       super(LSTM, self).__init__()\n",
        "\n",
        "       # 밀집표현을 위한 임베딩층\n",
        "       self.embed = nn.Embedding(\n",
        "           num_embeddings=num_embeddings, embedding_dim=16\n",
        "       )\n",
        "       \n",
        "\n",
        "       \n",
        "       # LSTM을 5개층을 쌓음\n",
        "       self.lstm = nn.LSTM(\n",
        "           input_size=16, \n",
        "           hidden_size=64,\n",
        "           num_layers=5,\n",
        "           batch_first=True)\n",
        "\n",
        "       \n",
        "       # 분류를 위한 MLP층\n",
        "       self.fc1 = nn.Linear(128,num_embeddings)\n",
        "       self.fc2 = nn.Linear(num_embeddings, num_embeddings)\n",
        "\n",
        "       self.relu = nn.ReLU()\n",
        "\n",
        "\n",
        "       # 활성화 함수\n",
        "\n",
        "\n",
        "   def forward(self, x):\n",
        "\n",
        "       x = self.embed(x)\n",
        "       x,_ = self.lstm(x)\n",
        "       x = torch.reshape(x,(x.shape[0],-1))\n",
        "       x = self.fc1(x)\n",
        "       x = self.relu(x)\n",
        "       x = self.fc2(x)\n",
        "       return x"
      ],
      "metadata": {
        "id": "ntKb_4zDyXe0"
      },
      "execution_count": 69,
      "outputs": []
    },
    {
      "cell_type": "code",
      "source": [
        "import tqdm\n",
        "\n",
        "from torch.utils.data.dataloader import DataLoader\n",
        "from torch.optim.adam import Adam\n",
        "device = \"cuda\" if torch.cuda.is_available() else \"cpu\"\n",
        "\n",
        "\n",
        "dataset = TextGeneration()  # 데이터셋 정의\n",
        "model = LSTM(num_embeddings=len(dataset.BOW)).to(device)  # 모델 정의\n",
        "loader = DataLoader(dataset, batch_size=64)\n",
        "optim = Adam(model.parameters(), lr=0.001)\n",
        "\n",
        "for epoch in range(200):\n",
        "   iterator = tqdm.tqdm(loader)\n",
        "   for data, label in iterator:\n",
        "       # 기울기 초기화\n",
        "       optim.zero_grad()\n",
        "\n",
        "       # 모델의 예측값\n",
        "       pred = model(torch.tensor(data, dtype=torch.long).to(device))\n",
        "\n",
        "       # 정답 레이블은 long 텐서로 반환해야 함\n",
        "       loss = nn.CrossEntropyLoss()(\n",
        "           pred, torch.tensor(label, dtype=torch.long).to(device))\n",
        "       \n",
        "       # 오차 역전파\n",
        "       loss.backward()\n",
        "       optim.step()\n",
        "\n",
        "       iterator.set_description(f\"epoch{epoch} loss:{loss.item()}\")\n",
        "\n",
        "torch.save(model.state_dict(), \"lstm.pth\")"
      ],
      "metadata": {
        "colab": {
          "base_uri": "https://localhost:8080/"
        },
        "id": "meDNMmfwzOvy",
        "outputId": "1a7fde85-f0bb-4fe1-be81-a4f53c5c7173"
      },
      "execution_count": null,
      "outputs": [
        {
          "output_type": "stream",
          "name": "stderr",
          "text": [
            "  0%|          | 0/677 [00:00<?, ?it/s]/usr/local/lib/python3.7/dist-packages/ipykernel_launcher.py:20: UserWarning: To copy construct from a tensor, it is recommended to use sourceTensor.clone().detach() or sourceTensor.clone().detach().requires_grad_(True), rather than torch.tensor(sourceTensor).\n",
            "/usr/local/lib/python3.7/dist-packages/ipykernel_launcher.py:24: UserWarning: To copy construct from a tensor, it is recommended to use sourceTensor.clone().detach() or sourceTensor.clone().detach().requires_grad_(True), rather than torch.tensor(sourceTensor).\n",
            "epoch0 loss:8.585792541503906: 100%|██████████| 677/677 [00:55<00:00, 12.10it/s]\n",
            "epoch1 loss:7.376943111419678: 100%|██████████| 677/677 [00:56<00:00, 12.08it/s]\n",
            "epoch2 loss:6.795975685119629: 100%|██████████| 677/677 [00:56<00:00, 12.09it/s]\n",
            "epoch3 loss:6.489175319671631: 100%|██████████| 677/677 [00:55<00:00, 12.16it/s]\n",
            "epoch4 loss:6.269166469573975: 100%|██████████| 677/677 [00:55<00:00, 12.15it/s]\n",
            "epoch5 loss:6.093748569488525: 100%|██████████| 677/677 [00:55<00:00, 12.16it/s]\n",
            "epoch6 loss:5.686954498291016: 100%|██████████| 677/677 [00:55<00:00, 12.14it/s]\n",
            "epoch7 loss:5.574061393737793: 100%|██████████| 677/677 [00:56<00:00, 12.06it/s]\n",
            "epoch8 loss:5.217414379119873: 100%|██████████| 677/677 [00:56<00:00, 12.05it/s]\n",
            "epoch9 loss:5.024519920349121: 100%|██████████| 677/677 [00:55<00:00, 12.19it/s]\n",
            "epoch10 loss:4.951398849487305: 100%|██████████| 677/677 [00:55<00:00, 12.13it/s]\n",
            "epoch11 loss:4.651846885681152: 100%|██████████| 677/677 [00:55<00:00, 12.12it/s]\n",
            "epoch12 loss:4.672445774078369: 100%|██████████| 677/677 [00:55<00:00, 12.16it/s]\n",
            "epoch13 loss:4.408710479736328: 100%|██████████| 677/677 [00:55<00:00, 12.17it/s]\n",
            "epoch14 loss:4.332169532775879: 100%|██████████| 677/677 [00:56<00:00, 12.08it/s]\n",
            "epoch15 loss:5.231456756591797: 100%|██████████| 677/677 [00:56<00:00, 12.07it/s]\n",
            "epoch16 loss:5.103700637817383: 100%|██████████| 677/677 [00:55<00:00, 12.23it/s]\n",
            "epoch17 loss:4.867886543273926: 100%|██████████| 677/677 [00:55<00:00, 12.30it/s]\n",
            "epoch18 loss:4.462851047515869: 100%|██████████| 677/677 [00:54<00:00, 12.35it/s]\n",
            "epoch19 loss:4.154510498046875: 100%|██████████| 677/677 [00:54<00:00, 12.34it/s]\n",
            "epoch20 loss:4.076512813568115: 100%|██████████| 677/677 [00:55<00:00, 12.27it/s]\n",
            "epoch21 loss:4.189985275268555: 100%|██████████| 677/677 [00:55<00:00, 12.10it/s]\n",
            "epoch22 loss:4.219616889953613: 100%|██████████| 677/677 [00:55<00:00, 12.13it/s]\n",
            "epoch23 loss:3.7089667320251465: 100%|██████████| 677/677 [00:55<00:00, 12.26it/s]\n",
            "epoch24 loss:5.310359954833984:  67%|██████▋   | 454/677 [00:37<00:18, 12.21it/s]"
          ]
        }
      ]
    },
    {
      "cell_type": "code",
      "source": [
        "def generate(model, BOW, string=\"finding an \", strlen=10): #string: 입력할 문자 , strlen=문자열 길이\n",
        "   device = \"cuda\" if torch.cuda.is_available() else \"cpu\"\n",
        "\n",
        "   print(f\"input word: {string}\")\n",
        "\n",
        "   with torch.no_grad():\n",
        "       for p in range(strlen):\n",
        "           # 입력 문장을 텐서로 변경\n",
        "           words = torch.tensor(\n",
        "               [BOW[w] for w in string.split()], dtype=torch.long\n",
        "           ).to(device)\n",
        "           # 모델 입력을 위한 배치 차원 추가\n",
        "           input_tensor = torch.unsqueeze(words[-2:],dim=0)\n",
        "           output = model(input_tensor)\n",
        "           output_word= (torch.argmax(output).cpu().numpy())\n",
        "           string += list(BOW.keys())[output_word]\n",
        "           string += \" \"\n",
        "   print(f\"predicted sentence: {string}\")\n",
        "\n",
        "model.load_state_dict(torch.load(\"lstm.pth\", map_location=device))\n",
        "pred = generate(model, dataset.BOW)"
      ],
      "metadata": {
        "id": "jLWN3aCPGl5R"
      },
      "execution_count": null,
      "outputs": []
    }
  ]
}