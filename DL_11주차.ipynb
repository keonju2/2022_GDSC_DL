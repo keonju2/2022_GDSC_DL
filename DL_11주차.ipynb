{
  "nbformat": 4,
  "nbformat_minor": 0,
  "metadata": {
    "colab": {
      "provenance": [],
      "include_colab_link": true
    },
    "kernelspec": {
      "name": "python3",
      "display_name": "Python 3"
    },
    "language_info": {
      "name": "python"
    },
    "accelerator": "GPU",
    "gpuClass": "standard"
  },
  "cells": [
    {
      "cell_type": "markdown",
      "metadata": {
        "id": "view-in-github",
        "colab_type": "text"
      },
      "source": [
        "<a href=\"https://colab.research.google.com/github/keonju2/2022_GDSC_DL/blob/main/11%EC%A3%BC%EC%B0%A8_%EA%B3%B5%EC%9C%A0%EC%9A%A9.ipynb\" target=\"_parent\"><img src=\"https://colab.research.google.com/assets/colab-badge.svg\" alt=\"Open In Colab\"/></a>"
      ]
    },
    {
      "cell_type": "code",
      "source": [
        "import matplotlib.pyplot as plt\n",
        "import numpy as np\n",
        "import torch\n",
        "import random"
      ],
      "metadata": {
        "id": "0u7msodRr_r7"
      },
      "execution_count": null,
      "outputs": []
    },
    {
      "cell_type": "code",
      "source": [
        "device=torch.device(\"cuda\" if torch.cuda.is_available() else \"cpu\")"
      ],
      "metadata": {
        "id": "3xdCgp9LtFyX"
      },
      "execution_count": null,
      "outputs": []
    },
    {
      "cell_type": "code",
      "source": [
        "# random seed 설정\n",
        "random.seed(1234)\n",
        "np.random.seed(1234)\n",
        "torch.manual_seed(1234)\n",
        "torch.cuda.manual_seed_all(1234)"
      ],
      "metadata": {
        "id": "9y3JI8zStPq-"
      },
      "execution_count": null,
      "outputs": []
    },
    {
      "cell_type": "code",
      "source": [
        "# 입력 문장\n",
        "raw_inputs = [\n",
        "    \"나는 입학생 니다\",\n",
        "    \"나는 좋은 선생님 입니다\",\n",
        "    \"당신은 매우 좋은 선생님 입니다\"\n",
        "]"
      ],
      "metadata": {
        "id": "Gy2C5HW6titc"
      },
      "execution_count": null,
      "outputs": []
    },
    {
      "cell_type": "code",
      "source": [
        "# 정답: 명사(1), 기타(0)\n",
        "raw_labels = [\n",
        "    [0, 1, 0],\n",
        "    [0, 0, 1, 0],\n",
        "    [0, 0, 0, 1, 0]\n",
        "]"
      ],
      "metadata": {
        "id": "9Zxp9xbdtmr7"
      },
      "execution_count": null,
      "outputs": []
    },
    {
      "cell_type": "code",
      "source": [
        "words = []\n",
        "\n",
        "for s in raw_inputs:\n",
        "  words.extend(s.split())\n",
        "print(words)"
      ],
      "metadata": {
        "colab": {
          "base_uri": "https://localhost:8080/"
        },
        "id": "b7koLSUIUrRY",
        "outputId": "1bd88d1c-0989-459f-9a31-2d92909f2719"
      },
      "execution_count": null,
      "outputs": [
        {
          "output_type": "stream",
          "name": "stdout",
          "text": [
            "['나는', '학생', '입니다', '나는', '좋은', '선생님', '입니다', '당신은', '매우', '좋은', '선생님', '입니다']\n"
          ]
        }
      ]
    },
    {
      "cell_type": "code",
      "source": [
        "words = list(dict.fromkeys(words))\n",
        "print(words)"
      ],
      "metadata": {
        "colab": {
          "base_uri": "https://localhost:8080/"
        },
        "id": "RJuJ772LU6pp",
        "outputId": "679f530d-76c9-4c8d-bf18-884f5c174e66"
      },
      "execution_count": null,
      "outputs": [
        {
          "output_type": "stream",
          "name": "stdout",
          "text": [
            "['나는', '학생', '입니다', '좋은', '선생님', '당신은', '매우']\n"
          ]
        }
      ]
    },
    {
      "cell_type": "code",
      "source": [
        "word_to_id = {\"[PAD]\":0,\"[UNK]\":1}\n",
        "\n",
        "for w in words:\n",
        "  word_to_id[w] =len(word_to_id)\n",
        "print(word_to_id)"
      ],
      "metadata": {
        "colab": {
          "base_uri": "https://localhost:8080/"
        },
        "id": "38tcz8aYVFAw",
        "outputId": "c7000f4a-22e8-4640-c0fc-b2aaa5b943df"
      },
      "execution_count": null,
      "outputs": [
        {
          "output_type": "stream",
          "name": "stdout",
          "text": [
            "{'[PAD]': 0, '[UNK]': 1, '나는': 2, '학생': 3, '입니다': 4, '좋은': 5, '선생님': 6, '당신은': 7, '매우': 8}\n"
          ]
        }
      ]
    },
    {
      "cell_type": "code",
      "source": [
        "id_to_word = {i: w for w,i in word_to_id.items()}\n",
        "print(id_to_word)"
      ],
      "metadata": {
        "colab": {
          "base_uri": "https://localhost:8080/"
        },
        "id": "PCw5N1tlVaD1",
        "outputId": "26c4a1aa-0666-48e4-ab75-8fc5c23f3fdc"
      },
      "execution_count": null,
      "outputs": [
        {
          "output_type": "stream",
          "name": "stdout",
          "text": [
            "{0: '[PAD]', 1: '[UNK]', 2: '나는', 3: '학생', 4: '입니다', 5: '좋은', 6: '선생님', 7: '당신은', 8: '매우'}\n"
          ]
        }
      ]
    },
    {
      "cell_type": "code",
      "source": [
        "inputs = []\n",
        "\n",
        "for s in raw_inputs:\n",
        "  inputs.append([word_to_id[w] for w in s.split()])\n",
        "\n",
        "print(inputs)"
      ],
      "metadata": {
        "colab": {
          "base_uri": "https://localhost:8080/"
        },
        "id": "wj1VrqTXVl5V",
        "outputId": "8522a736-d5d2-449b-8447-d90bd54a3aa7"
      },
      "execution_count": null,
      "outputs": [
        {
          "output_type": "stream",
          "name": "stdout",
          "text": [
            "[[2, 3, 4], [2, 5, 6, 4], [7, 8, 5, 6, 4]]\n"
          ]
        }
      ]
    },
    {
      "cell_type": "code",
      "source": [
        "labels = raw_labels"
      ],
      "metadata": {
        "id": "4mbD21xGWEa5"
      },
      "execution_count": null,
      "outputs": []
    },
    {
      "cell_type": "code",
      "source": [
        "class SimpleDataSet(torch.utils.data.Dataset):\n",
        "    \"\"\" 데이터셋 클래스 \"\"\"\n",
        "\n",
        "    def __init__(self, inputs, labels):\n",
        "        \"\"\"\n",
        "        생성자\n",
        "        :param inputs: 입력\n",
        "        :param labels: 정답\n",
        "        \"\"\"\n",
        "        self.inputs  = inputs\n",
        "        self.labels = labels\n",
        "      \n",
        "\n",
        "    def __len__(self):\n",
        "        \"\"\" 데이터셋 길이 \"\"\"\n",
        "\n",
        "        return len(self.labels)\n",
        "\n",
        "    def __getitem__(self, index):\n",
        "        \"\"\"\n",
        "        데이터 한 개 조회\n",
        "        :param index: 데이터 위치\n",
        "        \"\"\"\n",
        "        return (torch.tensor(self.inputs[index]),\n",
        "                torch.tensor(self.labels[index]))\n",
        "\n",
        "    def collate_fn(self, batch):\n",
        "        \"\"\"\n",
        "        batch단위로 데이터 처리\n",
        "        :param batch: batch 단위 데이터\n",
        "        \"\"\"\n",
        "        inputs, labels = list(zip(*batch))\n",
        "\n",
        "        inputs = torch.nn.utils.rnn.pad_sequence(inputs, batch_first=True,padding_value=0)\n",
        "        labels = torch.nn.utils.rnn.pad_sequence(labels, batch_first=True,padding_value=0)\n",
        "\n",
        "        batch =[inputs, labels]\n",
        "\n",
        "        return batch"
      ],
      "metadata": {
        "id": "IchUWHwNuCm3"
      },
      "execution_count": null,
      "outputs": []
    },
    {
      "cell_type": "code",
      "source": [
        "# dataset\n",
        "dataset = SimpleDataSet(inputs, labels)\n",
        "\n",
        "print(len(dataset))"
      ],
      "metadata": {
        "colab": {
          "base_uri": "https://localhost:8080/"
        },
        "id": "7ut6DdpPuJDq",
        "outputId": "751660c4-6009-4c03-9d61-0c748c03b868"
      },
      "execution_count": null,
      "outputs": [
        {
          "output_type": "stream",
          "name": "stdout",
          "text": [
            "3\n"
          ]
        }
      ]
    },
    {
      "cell_type": "code",
      "source": [
        "sampler = torch.utils.data.RandomSampler(dataset)"
      ],
      "metadata": {
        "id": "KA2CI3kcurfz"
      },
      "execution_count": null,
      "outputs": []
    },
    {
      "cell_type": "code",
      "source": [
        "train_loader = torch.utils.data.DataLoader(dataset, batch_size=2, sampler=sampler, collate_fn=dataset.collate_fn)\n",
        "valid_loader = torch.utils.data.DataLoader(dataset, batch_size=2, sampler=None, collate_fn=dataset.collate_fn)\n",
        "test_loader = torch.utils.data.DataLoader(dataset, batch_size=2, sampler=None, collate_fn=dataset.collate_fn)"
      ],
      "metadata": {
        "id": "hk24c1IFuuAA"
      },
      "execution_count": null,
      "outputs": []
    },
    {
      "cell_type": "markdown",
      "source": [
        "# Tutorial"
      ],
      "metadata": {
        "id": "N0_Rli6kOdRT"
      }
    },
    {
      "cell_type": "code",
      "source": [
        "# model tutorial 입력\n",
        "t_inputs = torch.tensor(inputs[:1])\n",
        "t_labels = torch.tensor(labels[:1])\n",
        "\n",
        "print(t_inputs, t_labels)"
      ],
      "metadata": {
        "colab": {
          "base_uri": "https://localhost:8080/"
        },
        "id": "1bm38w6lvN2Y",
        "outputId": "465463c1-7dee-4c4d-c549-710b5d305266"
      },
      "execution_count": null,
      "outputs": [
        {
          "output_type": "stream",
          "name": "stdout",
          "text": [
            "tensor([[2, 3, 4]]) tensor([[0, 1, 0]])\n"
          ]
        }
      ]
    },
    {
      "cell_type": "code",
      "source": [
        "# 단어 일련번호를 단어 벡터로 변환\n",
        "embed = torch.nn.Embedding(len(word_to_id), 4)\n",
        "hidden = embed(t_inputs)\n",
        "\n",
        "print(hidden.shape, hidden)"
      ],
      "metadata": {
        "colab": {
          "base_uri": "https://localhost:8080/"
        },
        "id": "GXJ19qFxvQaV",
        "outputId": "fad979b0-21e4-4db9-b856-a784d29c5487"
      },
      "execution_count": null,
      "outputs": [
        {
          "output_type": "stream",
          "name": "stdout",
          "text": [
            "torch.Size([1, 3, 4]) tensor([[[-0.2153,  0.8840, -0.7584, -0.3689],\n",
            "         [-0.3424, -1.4020,  0.3206, -1.0219],\n",
            "         [ 0.7988, -0.0923, -0.7049, -1.6024]]], grad_fn=<EmbeddingBackward0>)\n"
          ]
        }
      ]
    },
    {
      "cell_type": "code",
      "source": [
        "linear = torch.nn.Linear(4, 2)\n",
        "logits = linear(hidden)\n",
        "\n",
        "print(logits.shape, logits)"
      ],
      "metadata": {
        "colab": {
          "base_uri": "https://localhost:8080/"
        },
        "id": "uxH0hfMvvRwb",
        "outputId": "16d4e0e3-fa77-4365-c09d-cb32dd834422"
      },
      "execution_count": null,
      "outputs": [
        {
          "output_type": "stream",
          "name": "stdout",
          "text": [
            "torch.Size([1, 3, 2]) tensor([[[-0.0855,  0.2240],\n",
            "         [-0.2031,  0.7995],\n",
            "         [-0.0121,  0.1328]]], grad_fn=<ViewBackward0>)\n"
          ]
        }
      ]
    },
    {
      "cell_type": "markdown",
      "source": [
        "# Modeling and Prediction"
      ],
      "metadata": {
        "id": "YT7f479jOiZK"
      }
    },
    {
      "cell_type": "code",
      "source": [
        "class SequencePrediction(torch.nn.Module):\n",
        "    \"\"\" 단어단위 예측 모델 \"\"\"\n",
        "\n",
        "    def __init__(self, n_vocab):\n",
        "        \"\"\"\n",
        "        생성자\n",
        "        :param n_vocab: number of vocab\n",
        "        \"\"\"\n",
        "        super().__init__()\n",
        "        self.embed = torch.nn.Embedding(n_vocab,4)\n",
        "        self.linear = torch.nn.Linear(4,2)\n",
        "\n",
        "\n",
        "    def forward(self, inputs):\n",
        "        \"\"\"\n",
        "        모델 실행\n",
        "        :param inputs: input data\n",
        "        \"\"\"\n",
        "        hidden = self.embed(inputs)\n",
        "        logits = self.linear(hidden)\n",
        "\n",
        "        return logits"
      ],
      "metadata": {
        "id": "ujhGugokv6_V"
      },
      "execution_count": null,
      "outputs": []
    },
    {
      "cell_type": "code",
      "source": [
        "# 학습용 모델 생성\n",
        "model = SequencePrediction(len(word_to_id))\n",
        "model.to(device)\n",
        "\n",
        "print(model)"
      ],
      "metadata": {
        "colab": {
          "base_uri": "https://localhost:8080/"
        },
        "id": "kb7aRz6jv9w3",
        "outputId": "f992f12e-f880-4262-e78f-d92801670970"
      },
      "execution_count": null,
      "outputs": [
        {
          "output_type": "stream",
          "name": "stdout",
          "text": [
            "SequencePrediction(\n",
            "  (embed): Embedding(9, 4)\n",
            "  (linear): Linear(in_features=4, out_features=2, bias=True)\n",
            ")\n"
          ]
        }
      ]
    },
    {
      "cell_type": "code",
      "source": [
        "# loss & optimizer 생성\n",
        "loss_fn = torch.nn.CrossEntropyLoss()\n",
        "optimizer = torch.optim.Adam(model.parameters(), lr=0.002)"
      ],
      "metadata": {
        "id": "D1qWLmFGwGAh"
      },
      "execution_count": null,
      "outputs": []
    },
    {
      "cell_type": "code",
      "source": [
        "def accuracy_fn(logits, labels):\n",
        "    \"\"\"\n",
        "    model accuracy 측정\n",
        "    :param logits: 예측 값\n",
        "    :param labels: 정답\n",
        "    \"\"\"\n",
        "    # 값이 최대인 index 값\n",
        "    _, indices = logits.max(-1)\n",
        "    # label과 비교\n",
        "    matchs = torch.eq(indices, labels).cpu().numpy()\n",
        "    total = np.ones_like(matchs)\n",
        "    acc_val = np.sum(matchs) / max(1, np.sum(total))\n",
        "    return acc_val"
      ],
      "metadata": {
        "id": "2Pq1GDo5y5QA"
      },
      "execution_count": null,
      "outputs": []
    },
    {
      "cell_type": "code",
      "source": [
        "def train_epoch(model, loader, loss_fn, optimizer):\n",
        "    \"\"\"\n",
        "    1 epoch 학습\n",
        "    :param args: 입력 arguments\n",
        "    :param model: 모델\n",
        "    :param loader: 데이터로더\n",
        "    :param loss_fn: loss 계산함수\n",
        "    :param optimizer: optimizer\n",
        "    \"\"\"\n",
        "    # model을 train 모드로 전환\n",
        "    model.train()\n",
        "    # loss 및 accuracy 저장\n",
        "    losses, access = [], []\n",
        "    # data loader에서 batch단위로 처리\n",
        "    for batch in loader:\n",
        "        # optimizer 초기화\n",
        "        optimizer.zero_grad()\n",
        "        # batch 입력값 처리 (CPU or GPU)\n",
        "        inputs, labels = map(lambda v: v.to(device), batch)\n",
        "        # 모델 실행\n",
        "        logits = model(inputs)\n",
        "        # loss 계산\n",
        "        loss = loss_fn(logits.view(-1, logits.size(-1)), labels.view(-1))\n",
        "        loss.backward()\n",
        "        # model weight 변경\n",
        "        optimizer.step()\n",
        "        # loss 저장\n",
        "        loss_val = loss.item()\n",
        "        losses.append(loss_val)\n",
        "        # accuracy 계산 및 저장\n",
        "        acc_val = accuracy_fn(logits, labels)\n",
        "        access.append(acc_val)\n",
        "\n",
        "    return np.mean(losses), np.mean(access)"
      ],
      "metadata": {
        "id": "vn8Z1EKEwgmS"
      },
      "execution_count": null,
      "outputs": []
    },
    {
      "cell_type": "code",
      "source": [
        "def eval_epoch(model, loader, loss_fn):\n",
        "    \"\"\"\n",
        "    1 epoch 평가\n",
        "    :param args: 입력 arguments\n",
        "    :param model: 모델\n",
        "    :param loader: 데이터로더\n",
        "    :param loss_fn: loss 계산함수\n",
        "    \"\"\"\n",
        "    # model을 eval 모드로 전환\n",
        "    model.eval()\n",
        "    # loss 및 accuracy 저장\n",
        "    losses, access = [], []\n",
        "    # 실행시에 gradint 계산 비활성화\n",
        "    with torch.no_grad():\n",
        "        for batch in loader:\n",
        "            # batch 입력값 처리 (CPU or GPU)\n",
        "            inputs, labels = map(lambda v: v.to(device), batch)\n",
        "            # 모델 실행\n",
        "            logits = model(inputs)\n",
        "            # loss 계산\n",
        "            loss = loss_fn(logits.view(-1, logits.size(-1)), labels.view(-1))\n",
        "            # loss 저장\n",
        "            loss_val = loss.item()\n",
        "            losses.append(loss_val)\n",
        "            # accuracy 계산 및 저장\n",
        "            acc_val = accuracy_fn(logits, labels)\n",
        "            access.append(acc_val)\n",
        "\n",
        "    return np.mean(losses), np.mean(access)"
      ],
      "metadata": {
        "id": "1vyMfUSZypYO"
      },
      "execution_count": null,
      "outputs": []
    },
    {
      "cell_type": "code",
      "source": [
        "# 학습 history\n",
        "history = {\"train_loss\": [], \"train_acc\": [], \"valid_loss\": [], \"valid_acc\": []}\n",
        "# 가장 좋은 acc 값\n",
        "best_acc = 0"
      ],
      "metadata": {
        "id": "DRLkkxWgzL4u"
      },
      "execution_count": null,
      "outputs": []
    },
    {
      "cell_type": "code",
      "source": [
        "path='predicts.pth' # 저장경로"
      ],
      "metadata": {
        "id": "7PzMqgxQ0j0X"
      },
      "execution_count": null,
      "outputs": []
    },
    {
      "cell_type": "code",
      "source": [
        "# 학습 및 평가\n",
        "for e in range(200):\n",
        "    train_loss, train_acc = train_epoch(model, train_loader, loss_fn, optimizer)\n",
        "    valid_loss, valid_acc = eval_epoch(model, valid_loader, loss_fn)\n",
        "    # 학습 history 저장\n",
        "    history[\"train_loss\"].append(train_loss)\n",
        "    history[\"train_acc\"].append(train_acc)\n",
        "    history[\"valid_loss\"].append(valid_loss)\n",
        "    history[\"valid_acc\"].append(valid_acc)\n",
        "    # 학습과정 출력\n",
        "    print(f\"eopch: {e + 1:3d}, train_loss: {train_loss:.5f}, train_acc: {train_acc: .5f}, valid_loss: {valid_loss:.5f}, valid_acc: {valid_acc:.5f}\")\n",
        "    # best weight 저장\n",
        "    if best_acc < valid_acc:\n",
        "        best_acc = valid_acc\n",
        "        # 저장\n",
        "        torch.save(\n",
        "            {\"state_dict\": model.state_dict(), \"valid_acc\": valid_acc},path\n",
        "        )\n",
        "        # 저장내용 출력\n",
        "        print(f\"  >> save weights{path}\")"
      ],
      "metadata": {
        "colab": {
          "base_uri": "https://localhost:8080/"
        },
        "id": "KP48bnvMzQ-L",
        "outputId": "b0518a85-0f22-4da6-b541-37a5022fb18f"
      },
      "execution_count": null,
      "outputs": [
        {
          "output_type": "stream",
          "name": "stdout",
          "text": [
            "eopch:   1, train_loss: 0.47438, train_acc:  0.77500, valid_loss: 0.46834, valid_acc: 0.77500\n",
            "  >> save weightspredicts.pth\n",
            "eopch:   2, train_loss: 0.53751, train_acc:  0.73333, valid_loss: 0.46130, valid_acc: 0.77500\n",
            "eopch:   3, train_loss: 0.45972, train_acc:  0.77500, valid_loss: 0.45488, valid_acc: 0.77500\n",
            "eopch:   4, train_loss: 0.45727, train_acc:  0.77500, valid_loss: 0.44810, valid_acc: 0.77500\n",
            "eopch:   5, train_loss: 0.45004, train_acc:  0.77500, valid_loss: 0.44114, valid_acc: 0.77500\n",
            "eopch:   6, train_loss: 0.51540, train_acc:  0.73333, valid_loss: 0.43443, valid_acc: 0.77500\n",
            "eopch:   7, train_loss: 0.43582, train_acc:  0.77500, valid_loss: 0.42806, valid_acc: 0.77500\n",
            "eopch:   8, train_loss: 0.42905, train_acc:  0.77500, valid_loss: 0.42158, valid_acc: 0.77500\n",
            "eopch:   9, train_loss: 0.49932, train_acc:  0.73333, valid_loss: 0.41525, valid_acc: 0.77500\n",
            "eopch:  10, train_loss: 0.49388, train_acc:  0.73333, valid_loss: 0.40943, valid_acc: 0.77500\n",
            "eopch:  11, train_loss: 0.48852, train_acc:  0.73333, valid_loss: 0.40399, valid_acc: 0.77500\n",
            "eopch:  12, train_loss: 0.48324, train_acc:  0.73333, valid_loss: 0.39886, valid_acc: 0.77500\n",
            "eopch:  13, train_loss: 0.39883, train_acc:  0.77500, valid_loss: 0.39383, valid_acc: 0.77500\n",
            "eopch:  14, train_loss: 0.39260, train_acc:  0.77500, valid_loss: 0.38862, valid_acc: 0.77500\n",
            "eopch:  15, train_loss: 0.46838, train_acc:  0.73333, valid_loss: 0.38341, valid_acc: 0.77500\n",
            "eopch:  16, train_loss: 0.38222, train_acc:  0.77500, valid_loss: 0.37839, valid_acc: 0.77500\n",
            "eopch:  17, train_loss: 0.45882, train_acc:  0.73333, valid_loss: 0.37337, valid_acc: 0.77500\n",
            "eopch:  18, train_loss: 0.37212, train_acc:  0.77500, valid_loss: 0.36851, valid_acc: 0.93750\n",
            "  >> save weightspredicts.pth\n",
            "eopch:  19, train_loss: 0.44958, train_acc:  0.83333, valid_loss: 0.36364, valid_acc: 0.93750\n",
            "eopch:  20, train_loss: 0.36254, train_acc:  0.93750, valid_loss: 0.35895, valid_acc: 0.93750\n",
            "eopch:  21, train_loss: 0.35777, train_acc:  0.93750, valid_loss: 0.35416, valid_acc: 0.93750\n",
            "eopch:  22, train_loss: 0.43625, train_acc:  0.83333, valid_loss: 0.34943, valid_acc: 0.93750\n",
            "eopch:  23, train_loss: 0.43183, train_acc:  0.83333, valid_loss: 0.34497, valid_acc: 0.93750\n",
            "eopch:  24, train_loss: 0.42739, train_acc:  0.83333, valid_loss: 0.34075, valid_acc: 0.93750\n",
            "eopch:  25, train_loss: 0.33985, train_acc:  0.93750, valid_loss: 0.33664, valid_acc: 0.93750\n",
            "eopch:  26, train_loss: 0.33390, train_acc:  0.95000, valid_loss: 0.33240, valid_acc: 0.93750\n",
            "eopch:  27, train_loss: 0.41481, train_acc:  0.83333, valid_loss: 0.32815, valid_acc: 0.93750\n",
            "eopch:  28, train_loss: 0.32506, train_acc:  0.95000, valid_loss: 0.32403, valid_acc: 0.93750\n",
            "eopch:  29, train_loss: 0.32303, train_acc:  0.93750, valid_loss: 0.31985, valid_acc: 0.93750\n",
            "eopch:  30, train_loss: 0.31880, train_acc:  0.93750, valid_loss: 0.31562, valid_acc: 0.93750\n",
            "eopch:  31, train_loss: 0.39919, train_acc:  0.83333, valid_loss: 0.31147, valid_acc: 0.93750\n",
            "eopch:  32, train_loss: 0.39531, train_acc:  0.83333, valid_loss: 0.30756, valid_acc: 0.93750\n",
            "eopch:  33, train_loss: 0.30364, train_acc:  0.95000, valid_loss: 0.30378, valid_acc: 0.93750\n",
            "eopch:  34, train_loss: 0.38769, train_acc:  0.83333, valid_loss: 0.30000, valid_acc: 0.93750\n",
            "eopch:  35, train_loss: 0.29920, train_acc:  0.93750, valid_loss: 0.29637, valid_acc: 0.93750\n",
            "eopch:  36, train_loss: 0.38016, train_acc:  0.83333, valid_loss: 0.29274, valid_acc: 0.93750\n",
            "eopch:  37, train_loss: 0.37637, train_acc:  0.83333, valid_loss: 0.28930, valid_acc: 0.93750\n",
            "eopch:  38, train_loss: 0.37253, train_acc:  0.83333, valid_loss: 0.28603, valid_acc: 0.93750\n",
            "eopch:  39, train_loss: 0.36865, train_acc:  0.83333, valid_loss: 0.28289, valid_acc: 0.93750\n",
            "eopch:  40, train_loss: 0.36477, train_acc:  0.83333, valid_loss: 0.27986, valid_acc: 0.93750\n",
            "eopch:  41, train_loss: 0.36089, train_acc:  0.83333, valid_loss: 0.27694, valid_acc: 0.93750\n",
            "eopch:  42, train_loss: 0.27216, train_acc:  0.95000, valid_loss: 0.27403, valid_acc: 0.93750\n",
            "eopch:  43, train_loss: 0.26909, train_acc:  0.95000, valid_loss: 0.27098, valid_acc: 0.93750\n",
            "eopch:  44, train_loss: 0.27032, train_acc:  0.93750, valid_loss: 0.26784, valid_acc: 0.93750\n",
            "eopch:  45, train_loss: 0.26257, train_acc:  0.95000, valid_loss: 0.26462, valid_acc: 0.93750\n",
            "eopch:  46, train_loss: 0.34378, train_acc:  0.83333, valid_loss: 0.26143, valid_acc: 0.93750\n",
            "eopch:  47, train_loss: 0.34048, train_acc:  0.83333, valid_loss: 0.25840, valid_acc: 0.93750\n",
            "eopch:  48, train_loss: 0.25781, train_acc:  0.93750, valid_loss: 0.25547, valid_acc: 0.93750\n",
            "eopch:  49, train_loss: 0.24978, train_acc:  0.95000, valid_loss: 0.25247, valid_acc: 0.93750\n",
            "eopch:  50, train_loss: 0.33098, train_acc:  0.83333, valid_loss: 0.24948, valid_acc: 0.93750\n",
            "eopch:  51, train_loss: 0.24361, train_acc:  0.95000, valid_loss: 0.24658, valid_acc: 0.93750\n",
            "eopch:  52, train_loss: 0.32485, train_acc:  0.83333, valid_loss: 0.24370, valid_acc: 0.93750\n",
            "eopch:  53, train_loss: 0.32169, train_acc:  0.83333, valid_loss: 0.24096, valid_acc: 0.93750\n",
            "eopch:  54, train_loss: 0.24045, train_acc:  0.93750, valid_loss: 0.23830, valid_acc: 0.93750\n",
            "eopch:  55, train_loss: 0.23209, train_acc:  0.95000, valid_loss: 0.23556, valid_acc: 0.93750\n",
            "eopch:  56, train_loss: 0.22925, train_acc:  0.95000, valid_loss: 0.23279, valid_acc: 0.93750\n",
            "eopch:  57, train_loss: 0.23215, train_acc:  0.93750, valid_loss: 0.23002, valid_acc: 0.93750\n",
            "eopch:  58, train_loss: 0.30728, train_acc:  0.83333, valid_loss: 0.22728, valid_acc: 0.93750\n",
            "eopch:  59, train_loss: 0.30445, train_acc:  0.83333, valid_loss: 0.22468, valid_acc: 0.93750\n",
            "eopch:  60, train_loss: 0.22418, train_acc:  0.93750, valid_loss: 0.22217, valid_acc: 0.93750\n",
            "eopch:  61, train_loss: 0.29871, train_acc:  0.83333, valid_loss: 0.21966, valid_acc: 0.93750\n",
            "eopch:  62, train_loss: 0.29579, train_acc:  0.83333, valid_loss: 0.21727, valid_acc: 0.93750\n",
            "eopch:  63, train_loss: 0.21684, train_acc:  0.93750, valid_loss: 0.21493, valid_acc: 0.93750\n",
            "eopch:  64, train_loss: 0.21445, train_acc:  0.93750, valid_loss: 0.21255, valid_acc: 0.93750\n",
            "eopch:  65, train_loss: 0.21203, train_acc:  0.93750, valid_loss: 0.21015, valid_acc: 0.93750\n",
            "eopch:  66, train_loss: 0.20332, train_acc:  0.95000, valid_loss: 0.20771, valid_acc: 0.93750\n",
            "eopch:  67, train_loss: 0.28243, train_acc:  0.83333, valid_loss: 0.20532, valid_acc: 0.93750\n",
            "eopch:  68, train_loss: 0.27982, train_acc:  0.83333, valid_loss: 0.20304, valid_acc: 0.93750\n",
            "eopch:  69, train_loss: 0.19617, train_acc:  0.95000, valid_loss: 0.20080, valid_acc: 0.93750\n",
            "eopch:  70, train_loss: 0.20034, train_acc:  0.93750, valid_loss: 0.19856, valid_acc: 0.93750\n",
            "eopch:  71, train_loss: 0.19159, train_acc:  0.95000, valid_loss: 0.19630, valid_acc: 0.93750\n",
            "eopch:  72, train_loss: 0.18927, train_acc:  0.95000, valid_loss: 0.19403, valid_acc: 0.93750\n",
            "eopch:  73, train_loss: 0.26761, train_acc:  0.83333, valid_loss: 0.19181, valid_acc: 0.93750\n",
            "eopch:  74, train_loss: 0.26517, train_acc:  0.83333, valid_loss: 0.18969, valid_acc: 0.93750\n",
            "eopch:  75, train_loss: 0.18257, train_acc:  0.95000, valid_loss: 0.18761, valid_acc: 0.93750\n",
            "eopch:  76, train_loss: 0.18044, train_acc:  0.95000, valid_loss: 0.18553, valid_acc: 0.93750\n",
            "eopch:  77, train_loss: 0.25788, train_acc:  0.83333, valid_loss: 0.18347, valid_acc: 0.93750\n",
            "eopch:  78, train_loss: 0.18310, train_acc:  0.93750, valid_loss: 0.18148, valid_acc: 0.93750\n",
            "eopch:  79, train_loss: 0.17419, train_acc:  0.95000, valid_loss: 0.17946, valid_acc: 0.93750\n",
            "eopch:  80, train_loss: 0.17903, train_acc:  0.93750, valid_loss: 0.17745, valid_acc: 0.93750\n",
            "eopch:  81, train_loss: 0.17009, train_acc:  0.95000, valid_loss: 0.17545, valid_acc: 0.93750\n",
            "eopch:  82, train_loss: 0.16804, train_acc:  0.95000, valid_loss: 0.17345, valid_acc: 0.93750\n",
            "eopch:  83, train_loss: 0.17300, train_acc:  0.93750, valid_loss: 0.17149, valid_acc: 0.93750\n",
            "eopch:  84, train_loss: 0.24294, train_acc:  0.83333, valid_loss: 0.16956, valid_acc: 0.93750\n",
            "eopch:  85, train_loss: 0.16208, train_acc:  0.95000, valid_loss: 0.16768, valid_acc: 0.93750\n",
            "eopch:  86, train_loss: 0.16017, train_acc:  0.95000, valid_loss: 0.16581, valid_acc: 0.93750\n",
            "eopch:  87, train_loss: 0.15826, train_acc:  0.95000, valid_loss: 0.16397, valid_acc: 0.93750\n",
            "eopch:  88, train_loss: 0.23504, train_acc:  0.83333, valid_loss: 0.16216, valid_acc: 0.93750\n",
            "eopch:  89, train_loss: 0.15456, train_acc:  0.95000, valid_loss: 0.16039, valid_acc: 0.93750\n",
            "eopch:  90, train_loss: 0.15276, train_acc:  0.95000, valid_loss: 0.15864, valid_acc: 0.93750\n",
            "eopch:  91, train_loss: 0.15827, train_acc:  0.93750, valid_loss: 0.15691, valid_acc: 0.93750\n",
            "eopch:  92, train_loss: 0.15653, train_acc:  0.93750, valid_loss: 0.15519, valid_acc: 0.93750\n",
            "eopch:  93, train_loss: 0.22540, train_acc:  0.83333, valid_loss: 0.15350, valid_acc: 0.93750\n",
            "eopch:  94, train_loss: 0.15318, train_acc:  0.93750, valid_loss: 0.15185, valid_acc: 0.93750\n",
            "eopch:  95, train_loss: 0.14417, train_acc:  0.95000, valid_loss: 0.15020, valid_acc: 0.93750\n",
            "eopch:  96, train_loss: 0.14986, train_acc:  0.93750, valid_loss: 0.14858, valid_acc: 0.93750\n",
            "eopch:  97, train_loss: 0.21781, train_acc:  0.83333, valid_loss: 0.14698, valid_acc: 0.93750\n",
            "eopch:  98, train_loss: 0.21579, train_acc:  0.83333, valid_loss: 0.14541, valid_acc: 0.93750\n",
            "eopch:  99, train_loss: 0.14517, train_acc:  0.93750, valid_loss: 0.14388, valid_acc: 0.93750\n",
            "eopch: 100, train_loss: 0.21146, train_acc:  0.83333, valid_loss: 0.14235, valid_acc: 0.93750\n",
            "eopch: 101, train_loss: 0.14212, train_acc:  0.93750, valid_loss: 0.14085, valid_acc: 0.93750\n",
            "eopch: 102, train_loss: 0.20709, train_acc:  0.83333, valid_loss: 0.13937, valid_acc: 0.93750\n",
            "eopch: 103, train_loss: 0.13195, train_acc:  0.95000, valid_loss: 0.13790, valid_acc: 0.93750\n",
            "eopch: 104, train_loss: 0.13766, train_acc:  0.93750, valid_loss: 0.13645, valid_acc: 0.93750\n",
            "eopch: 105, train_loss: 0.12909, train_acc:  0.95000, valid_loss: 0.13500, valid_acc: 0.93750\n",
            "eopch: 106, train_loss: 0.19898, train_acc:  0.83333, valid_loss: 0.13357, valid_acc: 0.93750\n",
            "eopch: 107, train_loss: 0.13335, train_acc:  0.93750, valid_loss: 0.13217, valid_acc: 0.93750\n",
            "eopch: 108, train_loss: 0.19504, train_acc:  0.83333, valid_loss: 0.13078, valid_acc: 0.93750\n",
            "eopch: 109, train_loss: 0.13057, train_acc:  0.93750, valid_loss: 0.12940, valid_acc: 0.93750\n",
            "eopch: 110, train_loss: 0.19102, train_acc:  0.83333, valid_loss: 0.12804, valid_acc: 0.93750\n",
            "eopch: 111, train_loss: 0.18893, train_acc:  0.83333, valid_loss: 0.12669, valid_acc: 0.93750\n",
            "eopch: 112, train_loss: 0.18672, train_acc:  0.83333, valid_loss: 0.12537, valid_acc: 0.93750\n",
            "eopch: 113, train_loss: 0.18441, train_acc:  0.83333, valid_loss: 0.12407, valid_acc: 0.93750\n",
            "eopch: 114, train_loss: 0.11717, train_acc:  0.95000, valid_loss: 0.12278, valid_acc: 1.00000\n",
            "  >> save weightspredicts.pth\n",
            "eopch: 115, train_loss: 0.17990, train_acc:  1.00000, valid_loss: 0.12151, valid_acc: 1.00000\n",
            "eopch: 116, train_loss: 0.17768, train_acc:  1.00000, valid_loss: 0.12026, valid_acc: 1.00000\n",
            "eopch: 117, train_loss: 0.17540, train_acc:  1.00000, valid_loss: 0.11902, valid_acc: 1.00000\n",
            "eopch: 118, train_loss: 0.11892, train_acc:  1.00000, valid_loss: 0.11780, valid_acc: 1.00000\n",
            "eopch: 119, train_loss: 0.11117, train_acc:  1.00000, valid_loss: 0.11657, valid_acc: 1.00000\n",
            "eopch: 120, train_loss: 0.10998, train_acc:  1.00000, valid_loss: 0.11535, valid_acc: 1.00000\n",
            "eopch: 121, train_loss: 0.16734, train_acc:  1.00000, valid_loss: 0.11414, valid_acc: 1.00000\n",
            "eopch: 122, train_loss: 0.16548, train_acc:  1.00000, valid_loss: 0.11296, valid_acc: 1.00000\n",
            "eopch: 123, train_loss: 0.11282, train_acc:  1.00000, valid_loss: 0.11179, valid_acc: 1.00000\n",
            "eopch: 124, train_loss: 0.10535, train_acc:  1.00000, valid_loss: 0.11061, valid_acc: 1.00000\n",
            "eopch: 125, train_loss: 0.11041, train_acc:  1.00000, valid_loss: 0.10944, valid_acc: 1.00000\n",
            "eopch: 126, train_loss: 0.10307, train_acc:  1.00000, valid_loss: 0.10827, valid_acc: 1.00000\n",
            "eopch: 127, train_loss: 0.10192, train_acc:  1.00000, valid_loss: 0.10711, valid_acc: 1.00000\n",
            "eopch: 128, train_loss: 0.10079, train_acc:  1.00000, valid_loss: 0.10597, valid_acc: 1.00000\n",
            "eopch: 129, train_loss: 0.15441, train_acc:  1.00000, valid_loss: 0.10486, valid_acc: 1.00000\n",
            "eopch: 130, train_loss: 0.10467, train_acc:  1.00000, valid_loss: 0.10376, valid_acc: 1.00000\n",
            "eopch: 131, train_loss: 0.09749, train_acc:  1.00000, valid_loss: 0.10265, valid_acc: 1.00000\n",
            "eopch: 132, train_loss: 0.10244, train_acc:  1.00000, valid_loss: 0.10157, valid_acc: 1.00000\n",
            "eopch: 133, train_loss: 0.09535, train_acc:  1.00000, valid_loss: 0.10049, valid_acc: 1.00000\n",
            "eopch: 134, train_loss: 0.10026, train_acc:  1.00000, valid_loss: 0.09943, valid_acc: 1.00000\n",
            "eopch: 135, train_loss: 0.14655, train_acc:  1.00000, valid_loss: 0.09838, valid_acc: 1.00000\n",
            "eopch: 136, train_loss: 0.09225, train_acc:  1.00000, valid_loss: 0.09733, valid_acc: 1.00000\n",
            "eopch: 137, train_loss: 0.09714, train_acc:  1.00000, valid_loss: 0.09632, valid_acc: 1.00000\n",
            "eopch: 138, train_loss: 0.14267, train_acc:  1.00000, valid_loss: 0.09530, valid_acc: 1.00000\n",
            "eopch: 139, train_loss: 0.09513, train_acc:  1.00000, valid_loss: 0.09430, valid_acc: 1.00000\n",
            "eopch: 140, train_loss: 0.08833, train_acc:  1.00000, valid_loss: 0.09330, valid_acc: 1.00000\n",
            "eopch: 141, train_loss: 0.09311, train_acc:  1.00000, valid_loss: 0.09233, valid_acc: 1.00000\n",
            "eopch: 142, train_loss: 0.09213, train_acc:  1.00000, valid_loss: 0.09136, valid_acc: 1.00000\n",
            "eopch: 143, train_loss: 0.08550, train_acc:  1.00000, valid_loss: 0.09040, valid_acc: 1.00000\n",
            "eopch: 144, train_loss: 0.08458, train_acc:  1.00000, valid_loss: 0.08946, valid_acc: 1.00000\n",
            "eopch: 145, train_loss: 0.13421, train_acc:  1.00000, valid_loss: 0.08854, valid_acc: 1.00000\n",
            "eopch: 146, train_loss: 0.13297, train_acc:  1.00000, valid_loss: 0.08762, valid_acc: 1.00000\n",
            "eopch: 147, train_loss: 0.08749, train_acc:  1.00000, valid_loss: 0.08671, valid_acc: 1.00000\n",
            "eopch: 148, train_loss: 0.08105, train_acc:  1.00000, valid_loss: 0.08580, valid_acc: 1.00000\n",
            "eopch: 149, train_loss: 0.08018, train_acc:  1.00000, valid_loss: 0.08492, valid_acc: 1.00000\n",
            "eopch: 150, train_loss: 0.07932, train_acc:  1.00000, valid_loss: 0.08405, valid_acc: 1.00000\n",
            "eopch: 151, train_loss: 0.08389, train_acc:  1.00000, valid_loss: 0.08320, valid_acc: 1.00000\n",
            "eopch: 152, train_loss: 0.07765, train_acc:  1.00000, valid_loss: 0.08236, valid_acc: 1.00000\n",
            "eopch: 153, train_loss: 0.07683, train_acc:  1.00000, valid_loss: 0.08153, valid_acc: 1.00000\n",
            "eopch: 154, train_loss: 0.07602, train_acc:  1.00000, valid_loss: 0.08072, valid_acc: 1.00000\n",
            "eopch: 155, train_loss: 0.08056, train_acc:  1.00000, valid_loss: 0.07993, valid_acc: 1.00000\n",
            "eopch: 156, train_loss: 0.12193, train_acc:  1.00000, valid_loss: 0.07914, valid_acc: 1.00000\n",
            "eopch: 157, train_loss: 0.12083, train_acc:  1.00000, valid_loss: 0.07833, valid_acc: 1.00000\n",
            "eopch: 158, train_loss: 0.07822, train_acc:  1.00000, valid_loss: 0.07753, valid_acc: 1.00000\n",
            "eopch: 159, train_loss: 0.07740, train_acc:  1.00000, valid_loss: 0.07673, valid_acc: 1.00000\n",
            "eopch: 160, train_loss: 0.11722, train_acc:  1.00000, valid_loss: 0.07595, valid_acc: 1.00000\n",
            "eopch: 161, train_loss: 0.07069, train_acc:  1.00000, valid_loss: 0.07516, valid_acc: 1.00000\n",
            "eopch: 162, train_loss: 0.11480, train_acc:  1.00000, valid_loss: 0.07439, valid_acc: 1.00000\n",
            "eopch: 163, train_loss: 0.11352, train_acc:  1.00000, valid_loss: 0.07361, valid_acc: 1.00000\n",
            "eopch: 164, train_loss: 0.06851, train_acc:  1.00000, valid_loss: 0.07284, valid_acc: 1.00000\n",
            "eopch: 165, train_loss: 0.11087, train_acc:  1.00000, valid_loss: 0.07209, valid_acc: 1.00000\n",
            "eopch: 166, train_loss: 0.07201, train_acc:  1.00000, valid_loss: 0.07134, valid_acc: 1.00000\n",
            "eopch: 167, train_loss: 0.10827, train_acc:  1.00000, valid_loss: 0.07060, valid_acc: 1.00000\n",
            "eopch: 168, train_loss: 0.10695, train_acc:  1.00000, valid_loss: 0.06986, valid_acc: 1.00000\n",
            "eopch: 169, train_loss: 0.10558, train_acc:  1.00000, valid_loss: 0.06912, valid_acc: 1.00000\n",
            "eopch: 170, train_loss: 0.10415, train_acc:  1.00000, valid_loss: 0.06839, valid_acc: 1.00000\n",
            "eopch: 171, train_loss: 0.06834, train_acc:  1.00000, valid_loss: 0.06767, valid_acc: 1.00000\n",
            "eopch: 172, train_loss: 0.06759, train_acc:  1.00000, valid_loss: 0.06696, valid_acc: 1.00000\n",
            "eopch: 173, train_loss: 0.06687, train_acc:  1.00000, valid_loss: 0.06626, valid_acc: 1.00000\n",
            "eopch: 174, train_loss: 0.06615, train_acc:  1.00000, valid_loss: 0.06557, valid_acc: 1.00000\n",
            "eopch: 175, train_loss: 0.09804, train_acc:  1.00000, valid_loss: 0.06489, valid_acc: 1.00000\n",
            "eopch: 176, train_loss: 0.09695, train_acc:  1.00000, valid_loss: 0.06421, valid_acc: 1.00000\n",
            "eopch: 177, train_loss: 0.09579, train_acc:  1.00000, valid_loss: 0.06353, valid_acc: 1.00000\n",
            "eopch: 178, train_loss: 0.09458, train_acc:  1.00000, valid_loss: 0.06286, valid_acc: 1.00000\n",
            "eopch: 179, train_loss: 0.09334, train_acc:  1.00000, valid_loss: 0.06220, valid_acc: 1.00000\n",
            "eopch: 180, train_loss: 0.06214, train_acc:  1.00000, valid_loss: 0.06155, valid_acc: 1.00000\n",
            "eopch: 181, train_loss: 0.09091, train_acc:  1.00000, valid_loss: 0.06090, valid_acc: 1.00000\n",
            "eopch: 182, train_loss: 0.08975, train_acc:  1.00000, valid_loss: 0.06027, valid_acc: 1.00000\n",
            "eopch: 183, train_loss: 0.08856, train_acc:  1.00000, valid_loss: 0.05963, valid_acc: 1.00000\n",
            "eopch: 184, train_loss: 0.05566, train_acc:  1.00000, valid_loss: 0.05901, valid_acc: 1.00000\n",
            "eopch: 185, train_loss: 0.05508, train_acc:  1.00000, valid_loss: 0.05840, valid_acc: 1.00000\n",
            "eopch: 186, train_loss: 0.05450, train_acc:  1.00000, valid_loss: 0.05781, valid_acc: 1.00000\n",
            "eopch: 187, train_loss: 0.05394, train_acc:  1.00000, valid_loss: 0.05723, valid_acc: 1.00000\n",
            "eopch: 188, train_loss: 0.05714, train_acc:  1.00000, valid_loss: 0.05666, valid_acc: 1.00000\n",
            "eopch: 189, train_loss: 0.05284, train_acc:  1.00000, valid_loss: 0.05610, valid_acc: 1.00000\n",
            "eopch: 190, train_loss: 0.05230, train_acc:  1.00000, valid_loss: 0.05554, valid_acc: 1.00000\n",
            "eopch: 191, train_loss: 0.08141, train_acc:  1.00000, valid_loss: 0.05500, valid_acc: 1.00000\n",
            "eopch: 192, train_loss: 0.08065, train_acc:  1.00000, valid_loss: 0.05446, valid_acc: 1.00000\n",
            "eopch: 193, train_loss: 0.05073, train_acc:  1.00000, valid_loss: 0.05391, valid_acc: 1.00000\n",
            "eopch: 194, train_loss: 0.05021, train_acc:  1.00000, valid_loss: 0.05338, valid_acc: 1.00000\n",
            "eopch: 195, train_loss: 0.04970, train_acc:  1.00000, valid_loss: 0.05286, valid_acc: 1.00000\n",
            "eopch: 196, train_loss: 0.07763, train_acc:  1.00000, valid_loss: 0.05235, valid_acc: 1.00000\n",
            "eopch: 197, train_loss: 0.07688, train_acc:  1.00000, valid_loss: 0.05184, valid_acc: 1.00000\n",
            "eopch: 198, train_loss: 0.04822, train_acc:  1.00000, valid_loss: 0.05132, valid_acc: 1.00000\n",
            "eopch: 199, train_loss: 0.04773, train_acc:  1.00000, valid_loss: 0.05082, valid_acc: 1.00000\n",
            "eopch: 200, train_loss: 0.04725, train_acc:  1.00000, valid_loss: 0.05033, valid_acc: 1.00000\n"
          ]
        }
      ]
    },
    {
      "cell_type": "code",
      "source": [
        "def draw_history(history):\n",
        "    \"\"\"\n",
        "    학습과정 그래프 출력\n",
        "    :param history: 학습 이력\n",
        "    \"\"\"\n",
        "    plt.figure(figsize=(12, 4))\n",
        "\n",
        "    plt.subplot(1, 2, 1)\n",
        "    plt.plot(history[\"train_loss\"], \"b-\", label=\"train_loss\")\n",
        "    plt.plot(history[\"valid_loss\"], \"r--\", label=\"valid_loss\")\n",
        "    plt.xlabel(\"Epoch\")\n",
        "    plt.legend()\n",
        "\n",
        "    plt.subplot(1, 2, 2)\n",
        "    plt.plot(history[\"train_acc\"], \"k--\", label=\"train_acc\")\n",
        "    plt.plot(history[\"valid_acc\"], \"r--\", label=\"valid_acc\")\n",
        "    plt.xlabel(\"Epoch\")\n",
        "    plt.legend()\n",
        "\n",
        "    plt.show()"
      ],
      "metadata": {
        "id": "DwacIda-z4XY"
      },
      "execution_count": null,
      "outputs": []
    },
    {
      "cell_type": "code",
      "source": [
        "draw_history(history)"
      ],
      "metadata": {
        "colab": {
          "base_uri": "https://localhost:8080/",
          "height": 279
        },
        "id": "5SLawhVIz-p7",
        "outputId": "d14084c2-be50-450d-e683-fe530f6db168"
      },
      "execution_count": null,
      "outputs": [
        {
          "output_type": "display_data",
          "data": {
            "text/plain": [
              "<Figure size 864x288 with 2 Axes>"
            ],
            "image/png": "[encoded data removed]"
          },
          "metadata": {
            "needs_background": "light"
          }
        }
      ]
    },
    {
      "cell_type": "code",
      "source": [
        "# 테스트용 모델 생성\n",
        "model = SequencePrediction(len(word_to_id))\n",
        "model.to(device)\n",
        "\n",
        "print(model)"
      ],
      "metadata": {
        "id": "1ivxnxrGz_xh",
        "colab": {
          "base_uri": "https://localhost:8080/"
        },
        "outputId": "6cd78d06-c411-49c4-efe3-eb5d5cb3adc9"
      },
      "execution_count": null,
      "outputs": [
        {
          "output_type": "stream",
          "name": "stdout",
          "text": [
            "SequencePrediction(\n",
            "  (embed): Embedding(9, 4)\n",
            "  (linear): Linear(in_features=4, out_features=2, bias=True)\n",
            ")\n"
          ]
        }
      ]
    },
    {
      "cell_type": "code",
      "source": [
        "# 저장된 데이터 로드\n",
        "save_dict = torch.load(path)\n",
        "\n",
        "print(save_dict)"
      ],
      "metadata": {
        "id": "sRbshJjz0D9B",
        "colab": {
          "base_uri": "https://localhost:8080/"
        },
        "outputId": "135df7ce-9bfc-4c57-c4c2-3e0d93d20052"
      },
      "execution_count": null,
      "outputs": [
        {
          "output_type": "stream",
          "name": "stdout",
          "text": [
            "{'state_dict': OrderedDict([('embed.weight', tensor([[-0.6761, -0.0923,  1.2408,  0.8631],\n",
            "        [ 0.1825, -0.0737,  0.3147, -1.0369],\n",
            "        [ 1.4363,  0.6763,  0.4039, -0.4247],\n",
            "        [-2.1219,  0.6028,  0.4720, -0.0487],\n",
            "        [ 0.6925,  0.9276,  0.5715, -0.7990],\n",
            "        [ 0.1702,  0.0428,  1.6407,  1.5097],\n",
            "        [-1.4068, -0.5916, -1.7387, -2.5789],\n",
            "        [-1.3098,  1.5172,  0.9090,  0.0119],\n",
            "        [ 0.2526,  1.1006,  1.7099,  1.1954]], device='cuda:0')), ('linear.weight', tensor([[ 0.7735,  0.5543,  0.1758,  0.0710],\n",
            "        [-0.0578, -0.1202, -0.6983, -0.0582]], device='cuda:0')), ('linear.bias', tensor([ 0.5076, -0.4252], device='cuda:0'))]), 'valid_acc': 1.0}\n"
          ]
        }
      ]
    },
    {
      "cell_type": "code",
      "source": [
        "model.load_state_dict(save_dict['state_dict'])\n",
        "# 학습된 weights로 초기화 모델 평가\n",
        "valid_loss, valid_acc = eval_epoch(model, test_loader, loss_fn)\n",
        "\n",
        "print(valid_loss, valid_acc)"
      ],
      "metadata": {
        "id": "l7MbaIY31m2g",
        "colab": {
          "base_uri": "https://localhost:8080/"
        },
        "outputId": "98a20ceb-c187-46d3-ca9e-1df4a89c7f98"
      },
      "execution_count": null,
      "outputs": [
        {
          "output_type": "stream",
          "name": "stdout",
          "text": [
            "0.1227789968252182 1.0\n"
          ]
        }
      ]
    }
  ]
}
