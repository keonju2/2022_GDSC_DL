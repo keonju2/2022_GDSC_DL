{
  "nbformat": 4,
  "nbformat_minor": 0,
  "metadata": {
    "colab": {
      "provenance": [],
      "collapsed_sections": [],
      "authorship_tag": "ABX9TyOHoDZuEiyQKqj0D17IV9jb",
      "include_colab_link": true
    },
    "kernelspec": {
      "name": "python3",
      "display_name": "Python 3"
    },
    "language_info": {
      "name": "python"
    },
    "accelerator": "GPU",
    "gpuClass": "standard"
  },
  "cells": [
    {
      "cell_type": "markdown",
      "metadata": {
        "id": "view-in-github",
        "colab_type": "text"
      },
      "source": [
        "<a href=\"https://colab.research.google.com/github/keonju2/2022_GDSC_DL/blob/main/DL_4%EC%A3%BC%EC%B0%A8.ipynb\" target=\"_parent\"><img src=\"https://colab.research.google.com/assets/colab-badge.svg\" alt=\"Open In Colab\"/></a>"
      ]
    },
    {
      "cell_type": "markdown",
      "source": [
        "# Drop Out Layer 변화 확인"
      ],
      "metadata": {
        "id": "a9k1hjAs8iPj"
      }
    },
    {
      "cell_type": "code",
      "source": [
        "import torch\n",
        "m = torch.nn.Dropout(p=0.5)\n",
        "input = torch.randn(4, 4)\n",
        "output = m(input)\n",
        "\n",
        "print(input)\n",
        "print(output)"
      ],
      "metadata": {
        "id": "Nj9Sxobhy_MG",
        "colab": {
          "base_uri": "https://localhost:8080/"
        },
        "outputId": "081de43c-150e-40ce-c1c8-376655815b03"
      },
      "execution_count": 13,
      "outputs": [
        {
          "output_type": "stream",
          "name": "stdout",
          "text": [
            "tensor([[ 0.2254, -0.9062, -0.4299,  1.6463],\n",
            "        [-1.2291,  0.0869, -2.4453,  0.1378],\n",
            "        [-1.8000,  0.4146, -2.0549,  0.1246],\n",
            "        [ 0.4614, -0.4728, -0.4073, -0.2546]])\n",
            "tensor([[ 0.0000, -0.0000, -0.0000,  3.2925],\n",
            "        [-2.4583,  0.1739, -0.0000,  0.2756],\n",
            "        [-3.5999,  0.0000, -0.0000,  0.2491],\n",
            "        [ 0.9229, -0.0000, -0.8145, -0.5093]])\n"
          ]
        }
      ]
    },
    {
      "cell_type": "markdown",
      "source": [
        "# Batch Normalization 확인하기"
      ],
      "metadata": {
        "id": "fmld9U5rAmn4"
      }
    },
    {
      "cell_type": "code",
      "source": [
        "m = torch.nn.BatchNorm1d(5)\n",
        "input = torch.randn(5, 5)\n",
        "output = m(input)\n",
        "\n",
        "print(input)\n",
        "print(output)\n",
        "print(output.mean(axis=0),output.var(axis=0))"
      ],
      "metadata": {
        "colab": {
          "base_uri": "https://localhost:8080/"
        },
        "id": "ZFgrZWCdAmKc",
        "outputId": "757746c8-7003-4eb2-d821-f1eb179f3788"
      },
      "execution_count": 14,
      "outputs": [
        {
          "output_type": "stream",
          "name": "stdout",
          "text": [
            "tensor([[ 1.0672,  2.5851, -0.2334, -0.8594, -1.4586],\n",
            "        [ 2.3348,  0.4074,  0.5087, -0.7961, -0.0964],\n",
            "        [ 0.4114,  0.5845,  0.0160,  0.7535,  1.6147],\n",
            "        [-0.2029,  0.9544,  1.4395, -0.3954, -0.2244],\n",
            "        [ 1.4031, -0.0821,  0.7116,  1.0394, -0.6722]])\n",
            "tensor([[ 0.0745,  1.8610, -1.2384, -1.0155, -1.2777],\n",
            "        [ 1.5398, -0.5296,  0.0347, -0.9360,  0.0702],\n",
            "        [-0.6835, -0.3352, -0.8105,  1.0121,  1.7634],\n",
            "        [-1.3936,  0.0708,  1.6314, -0.4322, -0.0564],\n",
            "        [ 0.4628, -1.0670,  0.3828,  1.3716, -0.4995]],\n",
            "       grad_fn=<NativeBatchNormBackward0>)\n",
            "tensor([-1.9073e-07,  4.7684e-08,  1.1921e-08,  0.0000e+00, -3.4273e-08],\n",
            "       grad_fn=<MeanBackward1>) tensor([1.2500, 1.2500, 1.2500, 1.2500, 1.2500], grad_fn=<VarBackward0>)\n"
          ]
        }
      ]
    },
    {
      "cell_type": "markdown",
      "source": [
        "# Weight Decay"
      ],
      "metadata": {
        "id": "7DHDFqTZFuXh"
      }
    },
    {
      "cell_type": "code",
      "execution_count": 15,
      "metadata": {
        "id": "8-1GsKe_1D-1"
      },
      "outputs": [],
      "source": [
        "# 재료 준비\n",
        "import torch"
      ]
    },
    {
      "cell_type": "code",
      "source": [
        "# device 설정 (gpu & cpu)\n",
        "device = 'cuda' if torch.cuda.is_available() else 'cpu'\n",
        "\n",
        "# random seed 고정 (항상 같은 결과값이 나오게 하기 위함)\n",
        "torch. manual_seed(777)\n",
        "if device == 'cuda':\n",
        "  torch.cuda.manual_seed_all(777)"
      ],
      "metadata": {
        "id": "unIm_Ds3-TdP"
      },
      "execution_count": 16,
      "outputs": []
    },
    {
      "cell_type": "code",
      "source": [
        "# data 입력 (xor 문제)\n",
        "x = torch.FloatTensor([[0,0],[1,0],[0,1],[1,1]]).to(device)\n",
        "y = torch.FloatTensor([[0],[1],[1],[0]]).to(device)"
      ],
      "metadata": {
        "id": "PX2r9O94_FyF"
      },
      "execution_count": 17,
      "outputs": []
    },
    {
      "cell_type": "code",
      "source": [
        "# layer 정의: mlp 4개 + 활성화 함수\n",
        "linear1 = torch.nn.Linear(2, 10, bias = True) # input shape이 (4,2) -> 앞의 부분은 hidden layer에 입력으로 들어가는 shape인 2, 뒤에 부분은 hidden layer에서 출력되는 shape인 10\n",
        "linear2 = torch.nn.Linear(10, 10, bias = True) # 위에서 출력한 값이 입력으로 들어감\n",
        "linear3 = torch.nn.Linear(10, 10, bias = True) # 동일\n",
        "linear4 = torch.nn.Linear(10, 1, bias = True) # 최종 output은 y와 동일해야 하므로 출력되는 shape를 1로 설정\n",
        "sigmoid = torch.nn.Sigmoid() # 활성화 함수는 sigmoid 설정"
      ],
      "metadata": {
        "id": "7c00LnnA_mRv"
      },
      "execution_count": 18,
      "outputs": []
    },
    {
      "cell_type": "code",
      "source": [
        "# 실제로 모델을 만드는 부분\n",
        "# 제일 처음 입력한 layer, 즉 linear1에 x값이 들어감 (만약 linear2를 입력했다면 linear2에 들어가겠지만 shape이 다르니까 오류가 나겠죠?) -> 활성화 함수를 거치고 이 값이 linear2에 들어감 -> 끝날 때까지 반복\n",
        "model = torch.nn.Sequential(linear1, sigmoid, linear2, sigmoid, linear3, sigmoid, linear4, sigmoid).to(device) "
      ],
      "metadata": {
        "id": "2yXYIqpvAQZC"
      },
      "execution_count": 19,
      "outputs": []
    },
    {
      "cell_type": "code",
      "source": [
        "# loss function과 optimizer 선언\n",
        "criterion = torch.nn.BCELoss().to(device)\n",
        "optimizer = torch.optim.SGD(model.parameters(), lr=1) # learning rate 0.1(너무 작았음) -> 1(적당) -> 10(발산)"
      ],
      "metadata": {
        "id": "KUbwqdQqApdD"
      },
      "execution_count": 20,
      "outputs": []
    },
    {
      "cell_type": "code",
      "source": [
        "for epoch in range(10000):\n",
        "  optimizer.zero_grad() # optimizer에 저장된 gradient값을 0으로 초기화 \n",
        "  hypothesis = model(x) # 예측값 뽑아내기\n",
        "  cost = criterion(hypothesis, y) # loss 계산\n",
        "  l2_reg = 0\n",
        "  for param in model.parameters():\n",
        "      l2_reg += torch.norm(param)\n",
        "            \n",
        "  cost += l2_reg\n",
        "  cost.backward() # loss를 back propagation 연산\n",
        "  optimizer.step() # back propatation의 결과를 바탕으로 optimizer를 이용해 weight 업데이트\n",
        "\n",
        "  if epoch % 100 == 0:\n",
        "    print(epoch, cost.item()) # item은 숫자만 뽑아내기 위한 메소드"
      ],
      "metadata": {
        "colab": {
          "base_uri": "https://localhost:8080/"
        },
        "id": "dS8XK2tgBTq8",
        "outputId": "aaaea038-15ea-4673-d7c3-f84871636507"
      },
      "execution_count": 21,
      "outputs": [
        {
          "output_type": "stream",
          "name": "stdout",
          "text": [
            "0 9.699116706848145\n",
            "100 4.561418533325195\n",
            "200 4.247811317443848\n",
            "300 4.408544063568115\n",
            "400 4.224440574645996\n",
            "500 4.2232666015625\n",
            "600 5.137466907501221\n",
            "700 5.421236038208008\n",
            "800 5.697321891784668\n",
            "900 6.1138763427734375\n",
            "1000 4.403495788574219\n",
            "1100 4.599785804748535\n",
            "1200 4.611469268798828\n",
            "1300 5.572307586669922\n",
            "1400 5.482950687408447\n",
            "1500 5.324123382568359\n",
            "1600 4.999040603637695\n",
            "1700 5.091305732727051\n",
            "1800 4.793929100036621\n",
            "1900 4.853506088256836\n",
            "2000 5.676966667175293\n",
            "2100 5.59010124206543\n",
            "2200 5.546825885772705\n",
            "2300 5.656026840209961\n",
            "2400 5.597785472869873\n",
            "2500 5.799881935119629\n",
            "2600 3.6528677940368652\n",
            "2700 4.113516330718994\n",
            "2800 3.966050624847412\n",
            "2900 3.93380069732666\n",
            "3000 4.018319129943848\n",
            "3100 3.9154117107391357\n",
            "3200 4.851645469665527\n",
            "3300 4.6972856521606445\n",
            "3400 4.615104675292969\n",
            "3500 4.4547600746154785\n",
            "3600 4.274186134338379\n",
            "3700 4.040468215942383\n",
            "3800 4.1759796142578125\n",
            "3900 4.178628921508789\n",
            "4000 4.095881938934326\n",
            "4100 4.139564037322998\n",
            "4200 4.180917739868164\n",
            "4300 4.1452226638793945\n",
            "4400 4.758718013763428\n",
            "4500 5.054204940795898\n",
            "4600 5.100968360900879\n",
            "4700 5.28494930267334\n",
            "4800 5.503396034240723\n",
            "4900 4.530515193939209\n",
            "5000 3.9373233318328857\n",
            "5100 3.9073758125305176\n",
            "5200 4.089114665985107\n",
            "5300 3.9407217502593994\n",
            "5400 3.8056271076202393\n",
            "5500 3.816035032272339\n",
            "5600 4.71005916595459\n",
            "5700 4.600739002227783\n",
            "5800 4.442586898803711\n",
            "5900 4.298019886016846\n",
            "6000 4.091866970062256\n",
            "6100 3.848649263381958\n",
            "6200 4.160961627960205\n",
            "6300 4.149170875549316\n",
            "6400 3.980888605117798\n",
            "6500 3.9874727725982666\n",
            "6600 4.882864475250244\n",
            "6700 5.0413713455200195\n",
            "6800 5.022482872009277\n",
            "6900 5.181860446929932\n",
            "7000 5.440321445465088\n",
            "7100 4.066835880279541\n",
            "7200 3.950778007507324\n",
            "7300 3.8374617099761963\n",
            "7400 4.048215866088867\n",
            "7500 4.046469211578369\n",
            "7600 5.05034875869751\n",
            "7700 5.06440544128418\n",
            "7800 5.145502090454102\n",
            "7900 5.0735273361206055\n",
            "8000 4.733982086181641\n",
            "8100 4.943728446960449\n",
            "8200 5.062225341796875\n",
            "8300 4.93697452545166\n",
            "8400 5.847773551940918\n",
            "8500 5.807507514953613\n",
            "8600 5.627445220947266\n",
            "8700 5.8140363693237305\n",
            "8800 5.591312408447266\n",
            "8900 5.674295902252197\n",
            "9000 5.789063453674316\n",
            "9100 4.261878967285156\n",
            "9200 4.061345100402832\n",
            "9300 3.9870622158050537\n",
            "9400 4.156518459320068\n",
            "9500 4.127049922943115\n",
            "9600 3.956718921661377\n",
            "9700 4.911724090576172\n",
            "9800 4.776468276977539\n",
            "9900 4.751463890075684\n"
          ]
        }
      ]
    },
    {
      "cell_type": "markdown",
      "source": [
        "# Drop Out & BatchNormalization"
      ],
      "metadata": {
        "id": "iWvOdeFLNSr8"
      }
    },
    {
      "cell_type": "code",
      "source": [
        "import torch\n",
        "from torch import nn, optim\n",
        "from torch.utils.data import TensorDataset, DataLoader\n",
        "# 데이터를 훈련용과 테스트용으로 분리\n",
        "from sklearn.datasets import load_digits\n",
        "from sklearn.model_selection import train_test_split\n",
        "from tqdm import tqdm\n",
        "from torchsummary import summary\n",
        "import matplotlib.pyplot as plt\n",
        "\n",
        "# 전체의 20%는 검증용\n",
        "digits = load_digits()\n",
        "X = digits.data\n",
        "Y = digits.target\n",
        "X_train, X_test, Y_train, Y_test = train_test_split(X, Y, test_size = 0.2)\n",
        "\n",
        "X_train = torch.tensor(X_train, dtype=torch.float32).to(\"cuda:0\")\n",
        "Y_train = torch.tensor(Y_train, dtype=torch.int64).to(\"cuda:0\")\n",
        "X_test = torch.tensor(X_test, dtype=torch.float32).to(\"cuda:0\")\n",
        "Y_test = torch.tensor(Y_test, dtype=torch.int64).to(\"cuda:0\")"
      ],
      "metadata": {
        "id": "vbnbLtgJUxmK"
      },
      "execution_count": 25,
      "outputs": []
    },
    {
      "cell_type": "code",
      "source": [
        "model = nn.Sequential(\n",
        "    nn.Linear(64, 100),\n",
        "    nn.ReLU(),\n",
        "    nn.Dropout(0.5),\n",
        "    nn.Linear(100, 100),\n",
        "    nn.ReLU(),\n",
        "    nn.Dropout(0.5),\n",
        "    nn.Linear(100, 100),\n",
        "    nn.ReLU(),\n",
        "    nn.Dropout(0.5),\n",
        "    nn.Linear(100, 100),\n",
        "    nn.ReLU(),\n",
        "    nn.Dropout(0.5),\n",
        "    nn.Linear(100, 10),\n",
        ").to(\"cuda:0\")"
      ],
      "metadata": {
        "id": "bCGvbD-wVnMx"
      },
      "execution_count": 26,
      "outputs": []
    },
    {
      "cell_type": "code",
      "source": [
        "summary(model.to(\"cuda:0\"), (64,))"
      ],
      "metadata": {
        "colab": {
          "base_uri": "https://localhost:8080/"
        },
        "id": "AnjoiSXpVpDf",
        "outputId": "8ac8f305-f2e2-4003-ffcb-8f453591dcdd"
      },
      "execution_count": 29,
      "outputs": [
        {
          "output_type": "stream",
          "name": "stdout",
          "text": [
            "----------------------------------------------------------------\n",
            "        Layer (type)               Output Shape         Param #\n",
            "================================================================\n",
            "            Linear-1                  [-1, 100]           6,500\n",
            "              ReLU-2                  [-1, 100]               0\n",
            "           Dropout-3                  [-1, 100]               0\n",
            "            Linear-4                  [-1, 100]          10,100\n",
            "              ReLU-5                  [-1, 100]               0\n",
            "           Dropout-6                  [-1, 100]               0\n",
            "            Linear-7                  [-1, 100]          10,100\n",
            "              ReLU-8                  [-1, 100]               0\n",
            "           Dropout-9                  [-1, 100]               0\n",
            "           Linear-10                  [-1, 100]          10,100\n",
            "             ReLU-11                  [-1, 100]               0\n",
            "          Dropout-12                  [-1, 100]               0\n",
            "           Linear-13                   [-1, 10]           1,010\n",
            "================================================================\n",
            "Total params: 37,810\n",
            "Trainable params: 37,810\n",
            "Non-trainable params: 0\n",
            "----------------------------------------------------------------\n",
            "Input size (MB): 0.00\n",
            "Forward/backward pass size (MB): 0.01\n",
            "Params size (MB): 0.14\n",
            "Estimated Total Size (MB): 0.15\n",
            "----------------------------------------------------------------\n"
          ]
        }
      ]
    },
    {
      "cell_type": "code",
      "source": [
        "lossFunc = nn.CrossEntropyLoss()\n",
        "\n",
        "optimizer = optim.Adam(model.parameters())\n",
        "\n",
        "ds = TensorDataset(X_train, Y_train)\n",
        "loader = DataLoader(ds, batch_size=32, shuffle=True)\n",
        "\n",
        "trainLosses = []\n",
        "testLosses = []\n",
        "\n",
        "for epoch in tqdm(range(100)):\n",
        "    runningLoss = 0.0\n",
        "    # 신경망을 train 모드로 설정\n",
        "    model.train()\n",
        "    for i, (batchX, batchY) in enumerate(loader):\n",
        "        optimizer.zero_grad()\n",
        "        \n",
        "        yPred = model(batchX)\n",
        "        loss = lossFunc(yPred, batchY)\n",
        "        loss.backward()\n",
        "        optimizer.step()\n",
        "        runningLoss += loss.item()\n",
        "    trainLosses.append(runningLoss/i)\n",
        "    \n",
        "    # 신경망을 test 모드로 설정\n",
        "    model.eval()\n",
        "    yPred = model(X_test)\n",
        "    testLoss = lossFunc(yPred, Y_test)\n",
        "    testLosses.append(testLoss.item())\n",
        "\n",
        "plt.plot(range(100), trainLosses, label = \"train loss\")\n",
        "plt.plot(range(100), testLosses, label = \"test loss\")\n",
        "plt.legend()"
      ],
      "metadata": {
        "colab": {
          "base_uri": "https://localhost:8080/",
          "height": 302
        },
        "id": "7J4DlIiRVt1B",
        "outputId": "78e80627-8bb4-4eff-e303-c231c01646ba"
      },
      "execution_count": 30,
      "outputs": [
        {
          "output_type": "stream",
          "name": "stderr",
          "text": [
            "100%|██████████| 100/100 [00:14<00:00,  6.91it/s]\n"
          ]
        },
        {
          "output_type": "execute_result",
          "data": {
            "text/plain": [
              "<matplotlib.legend.Legend at 0x7fceb33b6510>"
            ]
          },
          "metadata": {},
          "execution_count": 30
        },
        {
          "output_type": "display_data",
          "data": {
            "text/plain": [
              "<Figure size 432x288 with 1 Axes>"
            ],
            "image/png": "[encoded data removed]"
          },
          "metadata": {
            "needs_background": "light"
          }
        }
      ]
    },
    {
      "cell_type": "code",
      "source": [
        "model = nn.Sequential(\n",
        "    nn.Linear(64, 100),\n",
        "    nn.ReLU(),\n",
        "    nn.BatchNorm1d(100),\n",
        "    nn.Dropout(0.5),\n",
        "    nn.Linear(100, 100),\n",
        "    nn.ReLU(),\n",
        "    nn.BatchNorm1d(100),\n",
        "    nn.Dropout(0.5),\n",
        "    nn.Linear(100, 100),\n",
        "    nn.ReLU(),\n",
        "    nn.BatchNorm1d(100),\n",
        "    nn.Dropout(0.5),\n",
        "    nn.Linear(100, 100),\n",
        "    nn.ReLU(),\n",
        "    nn.BatchNorm1d(100),\n",
        "    nn.Dropout(0.5),\n",
        "    nn.Linear(100, 10),\n",
        ").to(\"cuda:0\")"
      ],
      "metadata": {
        "id": "cHwu1nAvWKiR"
      },
      "execution_count": 31,
      "outputs": []
    },
    {
      "cell_type": "code",
      "source": [
        "summary(model.to(\"cuda:0\"), (64,))"
      ],
      "metadata": {
        "colab": {
          "base_uri": "https://localhost:8080/"
        },
        "id": "g8vdup7jWPpY",
        "outputId": "4f066dab-e328-4ef4-d0d9-07e945a1d157"
      },
      "execution_count": 32,
      "outputs": [
        {
          "output_type": "stream",
          "name": "stdout",
          "text": [
            "----------------------------------------------------------------\n",
            "        Layer (type)               Output Shape         Param #\n",
            "================================================================\n",
            "            Linear-1                  [-1, 100]           6,500\n",
            "              ReLU-2                  [-1, 100]               0\n",
            "       BatchNorm1d-3                  [-1, 100]             200\n",
            "           Dropout-4                  [-1, 100]               0\n",
            "            Linear-5                  [-1, 100]          10,100\n",
            "              ReLU-6                  [-1, 100]               0\n",
            "       BatchNorm1d-7                  [-1, 100]             200\n",
            "           Dropout-8                  [-1, 100]               0\n",
            "            Linear-9                  [-1, 100]          10,100\n",
            "             ReLU-10                  [-1, 100]               0\n",
            "      BatchNorm1d-11                  [-1, 100]             200\n",
            "          Dropout-12                  [-1, 100]               0\n",
            "           Linear-13                  [-1, 100]          10,100\n",
            "             ReLU-14                  [-1, 100]               0\n",
            "      BatchNorm1d-15                  [-1, 100]             200\n",
            "          Dropout-16                  [-1, 100]               0\n",
            "           Linear-17                   [-1, 10]           1,010\n",
            "================================================================\n",
            "Total params: 38,610\n",
            "Trainable params: 38,610\n",
            "Non-trainable params: 0\n",
            "----------------------------------------------------------------\n",
            "Input size (MB): 0.00\n",
            "Forward/backward pass size (MB): 0.01\n",
            "Params size (MB): 0.15\n",
            "Estimated Total Size (MB): 0.16\n",
            "----------------------------------------------------------------\n"
          ]
        }
      ]
    },
    {
      "cell_type": "code",
      "source": [
        "lossFunc = nn.CrossEntropyLoss()\n",
        "\n",
        "optimizer = optim.Adam(model.parameters())\n",
        "\n",
        "ds = TensorDataset(X_train, Y_train)\n",
        "loader = DataLoader(ds, batch_size=32, shuffle=True)\n",
        "\n",
        "trainLosses = []\n",
        "testLosses = []\n",
        "\n",
        "for epoch in tqdm(range(100)):\n",
        "    runningLoss = 0.0\n",
        "    # 신경망을 train 모드로 설정\n",
        "    model.train()\n",
        "    for i, (batchX, batchY) in enumerate(loader):\n",
        "        optimizer.zero_grad()\n",
        "        \n",
        "        yPred = model(batchX)\n",
        "        loss = lossFunc(yPred, batchY)\n",
        "        loss.backward()\n",
        "        optimizer.step()\n",
        "        runningLoss += loss.item()\n",
        "    trainLosses.append(runningLoss/i)\n",
        "    \n",
        "    # 신경망을 test 모드로 설정\n",
        "    model.eval()\n",
        "    yPred = model(X_test)\n",
        "    testLoss = lossFunc(yPred, Y_test)\n",
        "    testLosses.append(testLoss.item())\n",
        "\n",
        "plt.plot(range(100), trainLosses, label = \"train loss\")\n",
        "plt.plot(range(100), testLosses, label = \"test loss\")\n",
        "plt.legend()"
      ],
      "metadata": {
        "colab": {
          "base_uri": "https://localhost:8080/",
          "height": 302
        },
        "id": "ctSa9JydWRwl",
        "outputId": "16657b48-8408-4eed-b4bf-c3726416cdbc"
      },
      "execution_count": 33,
      "outputs": [
        {
          "output_type": "stream",
          "name": "stderr",
          "text": [
            "100%|██████████| 100/100 [00:18<00:00,  5.55it/s]\n"
          ]
        },
        {
          "output_type": "execute_result",
          "data": {
            "text/plain": [
              "<matplotlib.legend.Legend at 0x7fceb32d5e10>"
            ]
          },
          "metadata": {},
          "execution_count": 33
        },
        {
          "output_type": "display_data",
          "data": {
            "text/plain": [
              "<Figure size 432x288 with 1 Axes>"
            ],
            "image/png": "[encoded data removed]"
          },
          "metadata": {
            "needs_background": "light"
          }
        }
      ]
    }
  ]
}