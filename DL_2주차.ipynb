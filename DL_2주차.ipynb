{
  "nbformat": 4,
  "nbformat_minor": 0,
  "metadata": {
    "colab": {
      "provenance": [],
      "collapsed_sections": [
        "4udKIDPcW3s8",
        "qelqd1AWXDof"
      ]
    },
    "kernelspec": {
      "name": "python3",
      "display_name": "Python 3"
    },
    "language_info": {
      "name": "python"
    }
  },
  "cells": [
    {
      "cell_type": "markdown",
      "source": [
        "# Tensor 생성과 reshape"
      ],
      "metadata": {
        "id": "LxpeHJdk1SM4"
      }
    },
    {
      "cell_type": "code",
      "source": [
        "import torch"
      ],
      "metadata": {
        "id": "6fgH1B5eziGy"
      },
      "execution_count": null,
      "outputs": []
    },
    {
      "cell_type": "code",
      "source": [
        "x = torch.arange(12, dtype=torch.float32)\n",
        "x"
      ],
      "metadata": {
        "colab": {
          "base_uri": "https://localhost:8080/"
        },
        "id": "SNfsWL88z1yV",
        "outputId": "8da26d0a-a043-4bbd-cd06-1c24ed022d77"
      },
      "execution_count": null,
      "outputs": [
        {
          "output_type": "execute_result",
          "data": {
            "text/plain": [
              "tensor([ 0.,  1.,  2.,  3.,  4.,  5.,  6.,  7.,  8.,  9., 10., 11.])"
            ]
          },
          "metadata": {},
          "execution_count": 65
        }
      ]
    },
    {
      "cell_type": "code",
      "source": [
        "x.numel()"
      ],
      "metadata": {
        "colab": {
          "base_uri": "https://localhost:8080/"
        },
        "id": "kTmmKtkTz2YC",
        "outputId": "9afc65b4-abda-4c38-8a72-7f0aa1454096"
      },
      "execution_count": null,
      "outputs": [
        {
          "output_type": "execute_result",
          "data": {
            "text/plain": [
              "12"
            ]
          },
          "metadata": {},
          "execution_count": 66
        }
      ]
    },
    {
      "cell_type": "code",
      "source": [
        "x.shape"
      ],
      "metadata": {
        "colab": {
          "base_uri": "https://localhost:8080/"
        },
        "id": "LamR66Okz7j4",
        "outputId": "574b9bc1-72fc-450c-d65b-08977e1f7668"
      },
      "execution_count": null,
      "outputs": [
        {
          "output_type": "execute_result",
          "data": {
            "text/plain": [
              "torch.Size([12])"
            ]
          },
          "metadata": {},
          "execution_count": 67
        }
      ]
    },
    {
      "cell_type": "code",
      "source": [
        "X = x.reshape(3, 4)\n",
        "X"
      ],
      "metadata": {
        "colab": {
          "base_uri": "https://localhost:8080/"
        },
        "id": "r-yNsV3az9K9",
        "outputId": "5879ddb7-ec89-41b8-d69c-dd8fc949d654"
      },
      "execution_count": null,
      "outputs": [
        {
          "output_type": "execute_result",
          "data": {
            "text/plain": [
              "tensor([[ 0.,  1.,  2.,  3.],\n",
              "        [ 4.,  5.,  6.,  7.],\n",
              "        [ 8.,  9., 10., 11.]])"
            ]
          },
          "metadata": {},
          "execution_count": 68
        }
      ]
    },
    {
      "cell_type": "code",
      "source": [
        "torch.zeros((2, 3, 4))"
      ],
      "metadata": {
        "colab": {
          "base_uri": "https://localhost:8080/"
        },
        "id": "O8f6HZCYz-rv",
        "outputId": "375b78fe-dcdc-440c-9e0f-dba66451b061"
      },
      "execution_count": null,
      "outputs": [
        {
          "output_type": "execute_result",
          "data": {
            "text/plain": [
              "tensor([[[0., 0., 0., 0.],\n",
              "         [0., 0., 0., 0.],\n",
              "         [0., 0., 0., 0.]],\n",
              "\n",
              "        [[0., 0., 0., 0.],\n",
              "         [0., 0., 0., 0.],\n",
              "         [0., 0., 0., 0.]]])"
            ]
          },
          "metadata": {},
          "execution_count": 69
        }
      ]
    },
    {
      "cell_type": "code",
      "source": [
        "torch.ones((2, 3, 4))"
      ],
      "metadata": {
        "colab": {
          "base_uri": "https://localhost:8080/"
        },
        "id": "IcQwqwE60AAG",
        "outputId": "81def3c4-3fae-463f-9450-383b6a4f839b"
      },
      "execution_count": null,
      "outputs": [
        {
          "output_type": "execute_result",
          "data": {
            "text/plain": [
              "tensor([[[1., 1., 1., 1.],\n",
              "         [1., 1., 1., 1.],\n",
              "         [1., 1., 1., 1.]],\n",
              "\n",
              "        [[1., 1., 1., 1.],\n",
              "         [1., 1., 1., 1.],\n",
              "         [1., 1., 1., 1.]]])"
            ]
          },
          "metadata": {},
          "execution_count": 70
        }
      ]
    },
    {
      "cell_type": "code",
      "source": [
        "torch.randn(3, 4)"
      ],
      "metadata": {
        "colab": {
          "base_uri": "https://localhost:8080/"
        },
        "id": "H3VlyscB0A6g",
        "outputId": "96d728e0-daa0-42c3-d55d-5bf87eafcd27"
      },
      "execution_count": null,
      "outputs": [
        {
          "output_type": "execute_result",
          "data": {
            "text/plain": [
              "tensor([[-0.6143, -1.2878,  1.1617,  0.5511],\n",
              "        [ 1.4779,  0.9450, -0.9396, -1.1675],\n",
              "        [-2.0257, -0.3953,  0.5466,  0.3413]])"
            ]
          },
          "metadata": {},
          "execution_count": 71
        }
      ]
    },
    {
      "cell_type": "code",
      "source": [
        "torch.tensor([[2, 1, 4, 3], [1, 2, 3, 4], [4, 3, 2, 1]])"
      ],
      "metadata": {
        "colab": {
          "base_uri": "https://localhost:8080/"
        },
        "id": "TPaKdJpF0Cfx",
        "outputId": "733b9ef3-5e02-40e9-cb99-9d882c245019"
      },
      "execution_count": null,
      "outputs": [
        {
          "output_type": "execute_result",
          "data": {
            "text/plain": [
              "tensor([[2, 1, 4, 3],\n",
              "        [1, 2, 3, 4],\n",
              "        [4, 3, 2, 1]])"
            ]
          },
          "metadata": {},
          "execution_count": 72
        }
      ]
    },
    {
      "cell_type": "markdown",
      "source": [
        "# 인덱싱과 슬라이싱"
      ],
      "metadata": {
        "id": "xQ1wnElA1P2t"
      }
    },
    {
      "cell_type": "code",
      "source": [
        "print(X[-1])\n",
        "print(X[1:3])"
      ],
      "metadata": {
        "colab": {
          "base_uri": "https://localhost:8080/"
        },
        "id": "_L-AfD4Q1OMN",
        "outputId": "890a90d6-9fc0-473e-ee66-ef605ef07450"
      },
      "execution_count": null,
      "outputs": [
        {
          "output_type": "stream",
          "name": "stdout",
          "text": [
            "tensor([ 8.,  9., 10., 11.])\n",
            "tensor([[ 4.,  5.,  6.,  7.],\n",
            "        [ 8.,  9., 10., 11.]])\n"
          ]
        }
      ]
    },
    {
      "cell_type": "code",
      "source": [
        "X[1, 2] = 17\n",
        "X"
      ],
      "metadata": {
        "colab": {
          "base_uri": "https://localhost:8080/"
        },
        "id": "LpW1dCD71WyI",
        "outputId": "a68a3b48-672d-4403-a4b3-22ec691f8e72"
      },
      "execution_count": null,
      "outputs": [
        {
          "output_type": "execute_result",
          "data": {
            "text/plain": [
              "tensor([[ 0.,  1.,  2.,  3.],\n",
              "        [ 4.,  5., 17.,  7.],\n",
              "        [ 8.,  9., 10., 11.]])"
            ]
          },
          "metadata": {},
          "execution_count": 74
        }
      ]
    },
    {
      "cell_type": "code",
      "source": [
        "X[:2, :] = 12\n",
        "X"
      ],
      "metadata": {
        "colab": {
          "base_uri": "https://localhost:8080/"
        },
        "id": "k_y2XRdH1jyy",
        "outputId": "20bcdf91-42e0-4289-d594-b066455ddb96"
      },
      "execution_count": null,
      "outputs": [
        {
          "output_type": "execute_result",
          "data": {
            "text/plain": [
              "tensor([[12., 12., 12., 12.],\n",
              "        [12., 12., 12., 12.],\n",
              "        [ 8.,  9., 10., 11.]])"
            ]
          },
          "metadata": {},
          "execution_count": 75
        }
      ]
    },
    {
      "cell_type": "markdown",
      "source": [
        "# Operation"
      ],
      "metadata": {
        "id": "QL3YQYkM17RU"
      }
    },
    {
      "cell_type": "code",
      "source": [
        "torch.exp(X)"
      ],
      "metadata": {
        "colab": {
          "base_uri": "https://localhost:8080/"
        },
        "id": "GMROKz_A15sC",
        "outputId": "96233f5d-3978-423b-d498-f0f2c3ef903c"
      },
      "execution_count": null,
      "outputs": [
        {
          "output_type": "execute_result",
          "data": {
            "text/plain": [
              "tensor([[162754.7969, 162754.7969, 162754.7969, 162754.7969],\n",
              "        [162754.7969, 162754.7969, 162754.7969, 162754.7969],\n",
              "        [  2980.9580,   8103.0840,  22026.4648,  59874.1406]])"
            ]
          },
          "metadata": {},
          "execution_count": 76
        }
      ]
    },
    {
      "cell_type": "code",
      "source": [
        "x = torch.tensor([1.0, 2, 4, 8])\n",
        "y = torch.tensor([2, 2, 2, 2])\n",
        "x + y, x - y, x * y, x / y, x ** y"
      ],
      "metadata": {
        "id": "jlkv20sK195k",
        "outputId": "f090af5e-28e9-4b24-bcc9-392947cb0d59",
        "colab": {
          "base_uri": "https://localhost:8080/"
        }
      },
      "execution_count": null,
      "outputs": [
        {
          "output_type": "execute_result",
          "data": {
            "text/plain": [
              "(tensor([ 3.,  4.,  6., 10.]),\n",
              " tensor([-1.,  0.,  2.,  6.]),\n",
              " tensor([ 2.,  4.,  8., 16.]),\n",
              " tensor([0.5000, 1.0000, 2.0000, 4.0000]),\n",
              " tensor([ 1.,  4., 16., 64.]))"
            ]
          },
          "metadata": {},
          "execution_count": 77
        }
      ]
    },
    {
      "cell_type": "code",
      "source": [
        "x == y"
      ],
      "metadata": {
        "colab": {
          "base_uri": "https://localhost:8080/"
        },
        "id": "p7dV67UVnOwS",
        "outputId": "6b422cce-1b47-4d9a-c4ee-bcac510c4cb0"
      },
      "execution_count": null,
      "outputs": [
        {
          "output_type": "execute_result",
          "data": {
            "text/plain": [
              "tensor([False,  True, False, False])"
            ]
          },
          "metadata": {},
          "execution_count": 78
        }
      ]
    },
    {
      "cell_type": "code",
      "source": [
        "x.sum()"
      ],
      "metadata": {
        "colab": {
          "base_uri": "https://localhost:8080/"
        },
        "id": "07LaGImhnQAD",
        "outputId": "2311a7a1-ce8f-4f3d-df24-a43d1d80d82a"
      },
      "execution_count": null,
      "outputs": [
        {
          "output_type": "execute_result",
          "data": {
            "text/plain": [
              "tensor(15.)"
            ]
          },
          "metadata": {},
          "execution_count": 79
        }
      ]
    },
    {
      "cell_type": "markdown",
      "source": [
        "# 텐서 조작"
      ],
      "metadata": {
        "id": "YQBkKXHYCfFg"
      }
    },
    {
      "cell_type": "code",
      "source": [
        "import numpy as np\n",
        "\n",
        "t = np.array([[[0, 1, 2],\n",
        "               [3, 4, 5]],\n",
        "              [[6, 7, 8],\n",
        "               [9, 10, 11]]])\n",
        "ft = torch.FloatTensor(t)"
      ],
      "metadata": {
        "id": "5UjhtuJjCDQq"
      },
      "execution_count": null,
      "outputs": []
    },
    {
      "cell_type": "code",
      "source": [
        "print(ft.shape)"
      ],
      "metadata": {
        "colab": {
          "base_uri": "https://localhost:8080/"
        },
        "id": "S0dc0U84CKC2",
        "outputId": "133c1fb5-d789-4fac-8fd7-dcfbbacd155f"
      },
      "execution_count": null,
      "outputs": [
        {
          "output_type": "stream",
          "name": "stdout",
          "text": [
            "torch.Size([2, 2, 3])\n"
          ]
        }
      ]
    },
    {
      "cell_type": "code",
      "source": [
        "print(ft.view([-1, 3]))\n",
        "print(ft.view([-1, 3]).shape)"
      ],
      "metadata": {
        "colab": {
          "base_uri": "https://localhost:8080/"
        },
        "id": "SgBrJWZvCQCg",
        "outputId": "02aec4e7-5e36-4462-dac9-d9ad4524a560"
      },
      "execution_count": null,
      "outputs": [
        {
          "output_type": "stream",
          "name": "stdout",
          "text": [
            "tensor([[ 0.,  1.,  2.],\n",
            "        [ 3.,  4.,  5.],\n",
            "        [ 6.,  7.,  8.],\n",
            "        [ 9., 10., 11.]])\n",
            "torch.Size([4, 3])\n"
          ]
        }
      ]
    },
    {
      "cell_type": "code",
      "source": [
        "print(ft.view([-1, 1, 3]))\n",
        "print(ft.view([-1, 1, 3]).shape)"
      ],
      "metadata": {
        "colab": {
          "base_uri": "https://localhost:8080/"
        },
        "id": "IY8YjASsCSrR",
        "outputId": "657da23d-9b7b-4cda-92ae-cbf7114df7b3"
      },
      "execution_count": null,
      "outputs": [
        {
          "output_type": "stream",
          "name": "stdout",
          "text": [
            "tensor([[[ 0.,  1.,  2.]],\n",
            "\n",
            "        [[ 3.,  4.,  5.]],\n",
            "\n",
            "        [[ 6.,  7.,  8.]],\n",
            "\n",
            "        [[ 9., 10., 11.]]])\n",
            "torch.Size([4, 1, 3])\n"
          ]
        }
      ]
    },
    {
      "cell_type": "code",
      "source": [
        "ft = torch.FloatTensor([[0], [1], [2]])\n",
        "print(ft)\n",
        "print(ft.shape)"
      ],
      "metadata": {
        "colab": {
          "base_uri": "https://localhost:8080/"
        },
        "id": "ipprzjf1CaBm",
        "outputId": "b4641967-e3d5-4967-ba6e-ce07a869442d"
      },
      "execution_count": null,
      "outputs": [
        {
          "output_type": "stream",
          "name": "stdout",
          "text": [
            "tensor([[0.],\n",
            "        [1.],\n",
            "        [2.]])\n",
            "torch.Size([3, 1])\n"
          ]
        }
      ]
    },
    {
      "cell_type": "code",
      "source": [
        "print(ft.squeeze())\n",
        "print(ft.squeeze().shape)"
      ],
      "metadata": {
        "colab": {
          "base_uri": "https://localhost:8080/"
        },
        "id": "g4MoHypNCiqs",
        "outputId": "af27ad2d-6d7d-4c40-e5db-bd040ee87aaa"
      },
      "execution_count": null,
      "outputs": [
        {
          "output_type": "stream",
          "name": "stdout",
          "text": [
            "tensor([0., 1., 2.])\n",
            "torch.Size([3])\n"
          ]
        }
      ]
    },
    {
      "cell_type": "code",
      "source": [
        "ft = torch.Tensor([0, 1, 2])\n",
        "print(ft.shape)"
      ],
      "metadata": {
        "colab": {
          "base_uri": "https://localhost:8080/"
        },
        "id": "ukNyGB9yCoFg",
        "outputId": "4cf9915e-897c-416f-d1fd-312f030f6fbe"
      },
      "execution_count": null,
      "outputs": [
        {
          "output_type": "stream",
          "name": "stdout",
          "text": [
            "torch.Size([3])\n"
          ]
        }
      ]
    },
    {
      "cell_type": "code",
      "source": [
        "print(ft.unsqueeze(0))\n",
        "print(ft.unsqueeze(0).shape)"
      ],
      "metadata": {
        "colab": {
          "base_uri": "https://localhost:8080/"
        },
        "id": "Yl3hJLMbCqTs",
        "outputId": "8268b7f2-9bf1-410a-9db1-2c60fa10e00a"
      },
      "execution_count": null,
      "outputs": [
        {
          "output_type": "stream",
          "name": "stdout",
          "text": [
            "tensor([[0., 1., 2.]])\n",
            "torch.Size([1, 3])\n"
          ]
        }
      ]
    },
    {
      "cell_type": "code",
      "source": [
        "print(ft.view(1, -1))\n",
        "print(ft.view(1, -1).shape)"
      ],
      "metadata": {
        "colab": {
          "base_uri": "https://localhost:8080/"
        },
        "id": "gmfp48kOCtEZ",
        "outputId": "a46a348a-0856-4026-cf69-148ec3e286d8"
      },
      "execution_count": null,
      "outputs": [
        {
          "output_type": "stream",
          "name": "stdout",
          "text": [
            "tensor([[0., 1., 2.]])\n",
            "torch.Size([1, 3])\n"
          ]
        }
      ]
    },
    {
      "cell_type": "code",
      "source": [
        "print(ft.unsqueeze(1))\n",
        "print(ft.unsqueeze(1).shape)"
      ],
      "metadata": {
        "colab": {
          "base_uri": "https://localhost:8080/"
        },
        "id": "5xfl4imkCuUs",
        "outputId": "2c863a38-2c78-487b-d3e2-7207adbaf2a7"
      },
      "execution_count": null,
      "outputs": [
        {
          "output_type": "stream",
          "name": "stdout",
          "text": [
            "tensor([[0.],\n",
            "        [1.],\n",
            "        [2.]])\n",
            "torch.Size([3, 1])\n"
          ]
        }
      ]
    },
    {
      "cell_type": "code",
      "source": [
        "print(ft.unsqueeze(-1))\n",
        "print(ft.unsqueeze(-1).shape)"
      ],
      "metadata": {
        "colab": {
          "base_uri": "https://localhost:8080/"
        },
        "id": "yk_cI1WmCv5F",
        "outputId": "9c27bab4-32a0-44f0-bbbc-0594f5ed86c0"
      },
      "execution_count": null,
      "outputs": [
        {
          "output_type": "stream",
          "name": "stdout",
          "text": [
            "tensor([[0.],\n",
            "        [1.],\n",
            "        [2.]])\n",
            "torch.Size([3, 1])\n"
          ]
        }
      ]
    },
    {
      "cell_type": "markdown",
      "source": [
        "# Concatenate와 Stacking"
      ],
      "metadata": {
        "id": "n9cOPYXdEtxr"
      }
    },
    {
      "cell_type": "code",
      "source": [
        "x = torch.FloatTensor([[1, 2], [3, 4]])\n",
        "y = torch.FloatTensor([[5, 6], [7, 8]])"
      ],
      "metadata": {
        "id": "qOQwVcMDEsaC"
      },
      "execution_count": null,
      "outputs": []
    },
    {
      "cell_type": "code",
      "source": [
        "print(torch.cat([x, y], dim=0))"
      ],
      "metadata": {
        "colab": {
          "base_uri": "https://localhost:8080/"
        },
        "id": "VjhVOoZIExtU",
        "outputId": "ce4a5346-c356-4c21-92de-2c61ceafa758"
      },
      "execution_count": null,
      "outputs": [
        {
          "output_type": "stream",
          "name": "stdout",
          "text": [
            "tensor([[1., 2.],\n",
            "        [3., 4.],\n",
            "        [5., 6.],\n",
            "        [7., 8.]])\n"
          ]
        }
      ]
    },
    {
      "cell_type": "code",
      "source": [
        "print(torch.cat([x, y], dim=1))"
      ],
      "metadata": {
        "colab": {
          "base_uri": "https://localhost:8080/"
        },
        "id": "TnTT_fFbEzs_",
        "outputId": "816cf964-2a69-4409-b2c7-2dcacdf4044e"
      },
      "execution_count": null,
      "outputs": [
        {
          "output_type": "stream",
          "name": "stdout",
          "text": [
            "tensor([[1., 2., 5., 6.],\n",
            "        [3., 4., 7., 8.]])\n"
          ]
        }
      ]
    },
    {
      "cell_type": "code",
      "source": [
        "x = torch.FloatTensor([1, 4])\n",
        "y = torch.FloatTensor([2, 5])\n",
        "z = torch.FloatTensor([3, 6])"
      ],
      "metadata": {
        "id": "sQLKdoiLE-CN"
      },
      "execution_count": null,
      "outputs": []
    },
    {
      "cell_type": "code",
      "source": [
        "print(torch.stack([x, y, z]))"
      ],
      "metadata": {
        "colab": {
          "base_uri": "https://localhost:8080/"
        },
        "id": "zerI37fwFA1L",
        "outputId": "239d16ca-6a76-4399-9466-12f6abeea4db"
      },
      "execution_count": null,
      "outputs": [
        {
          "output_type": "stream",
          "name": "stdout",
          "text": [
            "tensor([[1., 4.],\n",
            "        [2., 5.],\n",
            "        [3., 6.]])\n"
          ]
        }
      ]
    },
    {
      "cell_type": "code",
      "source": [
        "print(torch.cat([x.unsqueeze(0), y.unsqueeze(0), z.unsqueeze(0)], dim=0))"
      ],
      "metadata": {
        "colab": {
          "base_uri": "https://localhost:8080/"
        },
        "id": "z6vHh3B7FCuX",
        "outputId": "79a3a717-b4dc-4d8f-e5b2-0d84674b0319"
      },
      "execution_count": null,
      "outputs": [
        {
          "output_type": "stream",
          "name": "stdout",
          "text": [
            "tensor([[1., 4.],\n",
            "        [2., 5.],\n",
            "        [3., 6.]])\n"
          ]
        }
      ]
    },
    {
      "cell_type": "code",
      "source": [
        "print(torch.stack([x, y, z], dim=1))"
      ],
      "metadata": {
        "colab": {
          "base_uri": "https://localhost:8080/"
        },
        "id": "Iwd9-XnpFD_5",
        "outputId": "1e3cdd2f-7ecb-42a8-ed1f-4aefb98cb0b9"
      },
      "execution_count": null,
      "outputs": [
        {
          "output_type": "stream",
          "name": "stdout",
          "text": [
            "tensor([[1., 2., 3.],\n",
            "        [4., 5., 6.]])\n"
          ]
        }
      ]
    },
    {
      "cell_type": "markdown",
      "source": [
        "# Chunk와 Split"
      ],
      "metadata": {
        "id": "8rXflGKk1a4_"
      }
    },
    {
      "cell_type": "code",
      "source": [
        "tensor = torch.rand(3,6)\n",
        "print(tensor)\n",
        "\n",
        "t1, t2, t3 = torch.chunk(tensor, 3, dim=1)\n",
        "\n",
        "print(t1)\n",
        "print(t2)\n",
        "print(t3)"
      ],
      "metadata": {
        "colab": {
          "base_uri": "https://localhost:8080/"
        },
        "id": "RF4axXLQ65o6",
        "outputId": "7136c74f-0bf8-4764-a673-db496c0ce23a"
      },
      "execution_count": null,
      "outputs": [
        {
          "output_type": "stream",
          "name": "stdout",
          "text": [
            "tensor([[0.4781, 0.5637, 0.8298, 0.5770, 0.8945, 0.1730],\n",
            "        [0.0842, 0.9400, 0.4412, 0.5418, 0.4221, 0.9162],\n",
            "        [0.4873, 0.2343, 0.9809, 0.2266, 0.4837, 0.1247]])\n",
            "tensor([[0.4781, 0.5637],\n",
            "        [0.0842, 0.9400],\n",
            "        [0.4873, 0.2343]])\n",
            "tensor([[0.8298, 0.5770],\n",
            "        [0.4412, 0.5418],\n",
            "        [0.9809, 0.2266]])\n",
            "tensor([[0.8945, 0.1730],\n",
            "        [0.4221, 0.9162],\n",
            "        [0.4837, 0.1247]])\n"
          ]
        }
      ]
    },
    {
      "cell_type": "code",
      "source": [
        "tensor = torch.rand(3,6)\n",
        "print(tensor)\n",
        "\n",
        "t1, t2 = torch.split(tensor, 3, dim=1)\n",
        "\n",
        "print(t1)\n",
        "print(t2)"
      ],
      "metadata": {
        "colab": {
          "base_uri": "https://localhost:8080/"
        },
        "id": "MqLluAlA7dC1",
        "outputId": "53acecb2-7e5a-4a35-a077-c2cdd721af03"
      },
      "execution_count": null,
      "outputs": [
        {
          "output_type": "stream",
          "name": "stdout",
          "text": [
            "tensor([[0.9334, 0.9826, 0.6916, 0.0438, 0.3663, 0.8715],\n",
            "        [0.3733, 0.5030, 0.3766, 0.9069, 0.2888, 0.3816],\n",
            "        [0.6876, 0.7043, 0.9731, 0.3248, 0.5779, 0.0869]])\n",
            "tensor([[0.9334, 0.9826, 0.6916],\n",
            "        [0.3733, 0.5030, 0.3766],\n",
            "        [0.6876, 0.7043, 0.9731]])\n",
            "tensor([[0.0438, 0.3663, 0.8715],\n",
            "        [0.9069, 0.2888, 0.3816],\n",
            "        [0.3248, 0.5779, 0.0869]])\n"
          ]
        }
      ]
    },
    {
      "cell_type": "markdown",
      "source": [
        "# Transpose"
      ],
      "metadata": {
        "id": "A3WdNhfaQqMt"
      }
    },
    {
      "cell_type": "code",
      "source": [
        "A = torch.arange(6).reshape(3, 2)\n",
        "A"
      ],
      "metadata": {
        "colab": {
          "base_uri": "https://localhost:8080/"
        },
        "id": "gTpfKTLKQ4Nc",
        "outputId": "d4b755fe-f97d-4df6-f9fa-2a0ae438b88a"
      },
      "execution_count": null,
      "outputs": [
        {
          "output_type": "execute_result",
          "data": {
            "text/plain": [
              "tensor([[0, 1],\n",
              "        [2, 3],\n",
              "        [4, 5]])"
            ]
          },
          "metadata": {},
          "execution_count": 100
        }
      ]
    },
    {
      "cell_type": "code",
      "source": [
        "A.T"
      ],
      "metadata": {
        "colab": {
          "base_uri": "https://localhost:8080/"
        },
        "id": "TPyNV1c7Q87V",
        "outputId": "1961b216-7585-41f7-dfb8-f6faa545a645"
      },
      "execution_count": null,
      "outputs": [
        {
          "output_type": "execute_result",
          "data": {
            "text/plain": [
              "tensor([[0, 2, 4],\n",
              "        [1, 3, 5]])"
            ]
          },
          "metadata": {},
          "execution_count": 101
        }
      ]
    },
    {
      "cell_type": "code",
      "source": [
        "A = torch.tensor([[1, 2, 3], [2, 0, 4], [3, 4, 5]])\n",
        "A == A.T"
      ],
      "metadata": {
        "colab": {
          "base_uri": "https://localhost:8080/"
        },
        "id": "FiE-j-wlQ-aL",
        "outputId": "bf58c6c7-d8e5-4fa8-9388-d191b1b4cdf8"
      },
      "execution_count": null,
      "outputs": [
        {
          "output_type": "execute_result",
          "data": {
            "text/plain": [
              "tensor([[True, True, True],\n",
              "        [True, True, True],\n",
              "        [True, True, True]])"
            ]
          },
          "metadata": {},
          "execution_count": 102
        }
      ]
    },
    {
      "cell_type": "markdown",
      "source": [
        "# Reduction, Non-reduction\n"
      ],
      "metadata": {
        "id": "iGTbzO0oR0Rh"
      }
    },
    {
      "cell_type": "code",
      "source": [
        "A"
      ],
      "metadata": {
        "colab": {
          "base_uri": "https://localhost:8080/"
        },
        "id": "ACKlZlGTS3EE",
        "outputId": "77f3f42c-ffe9-4c45-eb66-1c0abdbf08d0"
      },
      "execution_count": null,
      "outputs": [
        {
          "output_type": "execute_result",
          "data": {
            "text/plain": [
              "tensor([[1, 2, 3],\n",
              "        [2, 0, 4],\n",
              "        [3, 4, 5]])"
            ]
          },
          "metadata": {},
          "execution_count": 103
        }
      ]
    },
    {
      "cell_type": "code",
      "source": [
        "A.sum()"
      ],
      "metadata": {
        "colab": {
          "base_uri": "https://localhost:8080/"
        },
        "id": "Q-21NytHR7OF",
        "outputId": "8870112f-1400-4019-9bcd-c218e0f18785"
      },
      "execution_count": null,
      "outputs": [
        {
          "output_type": "execute_result",
          "data": {
            "text/plain": [
              "tensor(24)"
            ]
          },
          "metadata": {},
          "execution_count": 104
        }
      ]
    },
    {
      "cell_type": "code",
      "source": [
        "A.shape, A.sum(axis=0)"
      ],
      "metadata": {
        "colab": {
          "base_uri": "https://localhost:8080/"
        },
        "id": "Sgl_XlYZSdgq",
        "outputId": "c08e9427-24ae-44e6-f3a8-f2a6744ff768"
      },
      "execution_count": null,
      "outputs": [
        {
          "output_type": "execute_result",
          "data": {
            "text/plain": [
              "(torch.Size([3, 3]), tensor([ 6,  6, 12]))"
            ]
          },
          "metadata": {},
          "execution_count": 105
        }
      ]
    },
    {
      "cell_type": "code",
      "source": [
        "A.shape, A.sum(axis=1)"
      ],
      "metadata": {
        "colab": {
          "base_uri": "https://localhost:8080/"
        },
        "id": "p6eT8DohSmyu",
        "outputId": "e8f21679-513a-416c-9180-1452ad974950"
      },
      "execution_count": null,
      "outputs": [
        {
          "output_type": "execute_result",
          "data": {
            "text/plain": [
              "(torch.Size([3, 3]), tensor([ 6,  6, 12]))"
            ]
          },
          "metadata": {},
          "execution_count": 106
        }
      ]
    },
    {
      "cell_type": "code",
      "source": [
        "A.sum(axis=[0, 1]) == A.sum()"
      ],
      "metadata": {
        "colab": {
          "base_uri": "https://localhost:8080/"
        },
        "id": "eNb8IewZSpBi",
        "outputId": "7813a157-c870-41c1-f75d-c986e8cbef55"
      },
      "execution_count": null,
      "outputs": [
        {
          "output_type": "execute_result",
          "data": {
            "text/plain": [
              "tensor(True)"
            ]
          },
          "metadata": {},
          "execution_count": 107
        }
      ]
    },
    {
      "cell_type": "code",
      "source": [
        "sum_A = A.sum(axis=1, keepdims=True)\n",
        "sum_A, sum_A.shape"
      ],
      "metadata": {
        "colab": {
          "base_uri": "https://localhost:8080/"
        },
        "id": "ieQKlcDMSBf4",
        "outputId": "5f4de159-b736-4d16-cb1b-a3621b2635bd"
      },
      "execution_count": null,
      "outputs": [
        {
          "output_type": "execute_result",
          "data": {
            "text/plain": [
              "(tensor([[ 6],\n",
              "         [ 6],\n",
              "         [12]]), torch.Size([3, 1]))"
            ]
          },
          "metadata": {},
          "execution_count": 108
        }
      ]
    },
    {
      "cell_type": "code",
      "source": [
        "A / sum_A"
      ],
      "metadata": {
        "colab": {
          "base_uri": "https://localhost:8080/"
        },
        "id": "-K0EVHK_Sz2C",
        "outputId": "ba4ea8c9-2adf-4cb2-d3af-7f7721a11fc6"
      },
      "execution_count": null,
      "outputs": [
        {
          "output_type": "execute_result",
          "data": {
            "text/plain": [
              "tensor([[0.1667, 0.3333, 0.5000],\n",
              "        [0.3333, 0.0000, 0.6667],\n",
              "        [0.2500, 0.3333, 0.4167]])"
            ]
          },
          "metadata": {},
          "execution_count": 109
        }
      ]
    },
    {
      "cell_type": "code",
      "source": [
        "A.cumsum(axis=0)"
      ],
      "metadata": {
        "colab": {
          "base_uri": "https://localhost:8080/"
        },
        "id": "LxWRGowGS78M",
        "outputId": "7871d916-a52e-4f7c-b38a-269482a23fb7"
      },
      "execution_count": null,
      "outputs": [
        {
          "output_type": "execute_result",
          "data": {
            "text/plain": [
              "tensor([[ 1,  2,  3],\n",
              "        [ 3,  2,  7],\n",
              "        [ 6,  6, 12]])"
            ]
          },
          "metadata": {},
          "execution_count": 110
        }
      ]
    },
    {
      "cell_type": "markdown",
      "source": [
        "# Dot Product,Matrix-Vector Products, Matrix-Matrix Multiplication"
      ],
      "metadata": {
        "id": "P9607Ri_S-J-"
      }
    },
    {
      "cell_type": "code",
      "source": [
        "x = torch.arange(3, dtype=torch.float32)\n",
        "y = torch.ones(3, dtype = torch.float32)\n",
        "x, y, torch.dot(x, y)"
      ],
      "metadata": {
        "colab": {
          "base_uri": "https://localhost:8080/"
        },
        "id": "m-mCDevJTAT7",
        "outputId": "e822cfb4-a335-4108-bb9c-f26b2af9bcf0"
      },
      "execution_count": null,
      "outputs": [
        {
          "output_type": "execute_result",
          "data": {
            "text/plain": [
              "(tensor([0., 1., 2.]), tensor([1., 1., 1.]), tensor(3.))"
            ]
          },
          "metadata": {},
          "execution_count": 111
        }
      ]
    },
    {
      "cell_type": "code",
      "source": [
        "A = torch.arange(6, dtype=torch.float32).reshape(2, 3)\n",
        "\n",
        "A.shape, x.shape, torch.mv(A, x), A@x"
      ],
      "metadata": {
        "colab": {
          "base_uri": "https://localhost:8080/"
        },
        "id": "Bv68KaGuTJ5G",
        "outputId": "a5522211-759c-400a-f6a5-0964bd17f7b7"
      },
      "execution_count": null,
      "outputs": [
        {
          "output_type": "execute_result",
          "data": {
            "text/plain": [
              "(torch.Size([2, 3]), torch.Size([3]), tensor([ 5., 14.]), tensor([ 5., 14.]))"
            ]
          },
          "metadata": {},
          "execution_count": 112
        }
      ]
    },
    {
      "cell_type": "code",
      "source": [
        "B = torch.ones(3, 4)\n",
        "torch.mm(A, B), A@B"
      ],
      "metadata": {
        "colab": {
          "base_uri": "https://localhost:8080/"
        },
        "id": "Wupeq7F9TVwj",
        "outputId": "b0ee2ea7-7cc6-49b8-f147-c8682a0f666e"
      },
      "execution_count": null,
      "outputs": [
        {
          "output_type": "execute_result",
          "data": {
            "text/plain": [
              "(tensor([[ 3.,  3.,  3.,  3.],\n",
              "         [12., 12., 12., 12.]]), tensor([[ 3.,  3.,  3.,  3.],\n",
              "         [12., 12., 12., 12.]]))"
            ]
          },
          "metadata": {},
          "execution_count": 113
        }
      ]
    },
    {
      "cell_type": "markdown",
      "source": [
        "# Norm"
      ],
      "metadata": {
        "id": "mhxO2MPpTpX8"
      }
    },
    {
      "cell_type": "code",
      "source": [
        "u = torch.tensor([3.0, -4.0])\n",
        "torch.norm(u)"
      ],
      "metadata": {
        "colab": {
          "base_uri": "https://localhost:8080/"
        },
        "id": "N8hz19j-Tq5E",
        "outputId": "8f474389-8f01-4aad-e1c1-bff233b94454"
      },
      "execution_count": null,
      "outputs": [
        {
          "output_type": "execute_result",
          "data": {
            "text/plain": [
              "tensor(5.)"
            ]
          },
          "metadata": {},
          "execution_count": 114
        }
      ]
    },
    {
      "cell_type": "code",
      "source": [
        "torch.abs(u).sum()"
      ],
      "metadata": {
        "colab": {
          "base_uri": "https://localhost:8080/"
        },
        "id": "pXDplCh1Tsn8",
        "outputId": "8d02cd78-863d-450f-88bd-5ddf3f02c286"
      },
      "execution_count": null,
      "outputs": [
        {
          "output_type": "execute_result",
          "data": {
            "text/plain": [
              "tensor(7.)"
            ]
          },
          "metadata": {},
          "execution_count": 115
        }
      ]
    },
    {
      "cell_type": "code",
      "source": [
        "torch.ones((4, 9))"
      ],
      "metadata": {
        "colab": {
          "base_uri": "https://localhost:8080/"
        },
        "id": "73sc6z_NT7YA",
        "outputId": "525adde1-e7bf-4cea-f55b-085b2b36a707"
      },
      "execution_count": null,
      "outputs": [
        {
          "output_type": "execute_result",
          "data": {
            "text/plain": [
              "tensor([[1., 1., 1., 1., 1., 1., 1., 1., 1.],\n",
              "        [1., 1., 1., 1., 1., 1., 1., 1., 1.],\n",
              "        [1., 1., 1., 1., 1., 1., 1., 1., 1.],\n",
              "        [1., 1., 1., 1., 1., 1., 1., 1., 1.]])"
            ]
          },
          "metadata": {},
          "execution_count": 116
        }
      ]
    },
    {
      "cell_type": "code",
      "source": [
        "torch.norm(torch.ones((4, 9)))"
      ],
      "metadata": {
        "colab": {
          "base_uri": "https://localhost:8080/"
        },
        "id": "G3Ww4fg-Txj_",
        "outputId": "4ccdec6d-7ff0-4a4f-b9ed-f221f2f817e3"
      },
      "execution_count": null,
      "outputs": [
        {
          "output_type": "execute_result",
          "data": {
            "text/plain": [
              "tensor(6.)"
            ]
          },
          "metadata": {},
          "execution_count": 117
        }
      ]
    },
    {
      "cell_type": "markdown",
      "source": [
        "# Autograd"
      ],
      "metadata": {
        "id": "flIE3JU8Uojq"
      }
    },
    {
      "cell_type": "code",
      "source": [
        "x = torch.arange(4.0)\n",
        "x"
      ],
      "metadata": {
        "colab": {
          "base_uri": "https://localhost:8080/"
        },
        "id": "xkpzg17uUnYc",
        "outputId": "a4cc0502-3e5a-4b87-a63f-fd53c4ba8db5"
      },
      "execution_count": null,
      "outputs": [
        {
          "output_type": "execute_result",
          "data": {
            "text/plain": [
              "tensor([0., 1., 2., 3.])"
            ]
          },
          "metadata": {},
          "execution_count": 118
        }
      ]
    },
    {
      "cell_type": "code",
      "source": [
        "x.requires_grad_(True)\n",
        "x.grad "
      ],
      "metadata": {
        "id": "ECPrW2L-UuAc"
      },
      "execution_count": null,
      "outputs": []
    },
    {
      "cell_type": "code",
      "source": [
        "y = 2 * torch.dot(x, x)\n",
        "y"
      ],
      "metadata": {
        "colab": {
          "base_uri": "https://localhost:8080/"
        },
        "id": "uZNVEt_lUv3S",
        "outputId": "55338779-8d52-4700-ea60-3bccd6ec01ef"
      },
      "execution_count": null,
      "outputs": [
        {
          "output_type": "execute_result",
          "data": {
            "text/plain": [
              "tensor(28., grad_fn=<MulBackward0>)"
            ]
          },
          "metadata": {},
          "execution_count": 120
        }
      ]
    },
    {
      "cell_type": "code",
      "source": [
        "y.backward()\n",
        "x.grad"
      ],
      "metadata": {
        "colab": {
          "base_uri": "https://localhost:8080/"
        },
        "id": "oKq_HJvjUxj6",
        "outputId": "e919e80c-0f95-4267-f9d1-52abe3282771"
      },
      "execution_count": null,
      "outputs": [
        {
          "output_type": "execute_result",
          "data": {
            "text/plain": [
              "tensor([ 0.,  4.,  8., 12.])"
            ]
          },
          "metadata": {},
          "execution_count": 121
        }
      ]
    },
    {
      "cell_type": "code",
      "source": [
        "x.grad == 4 * x"
      ],
      "metadata": {
        "colab": {
          "base_uri": "https://localhost:8080/"
        },
        "id": "Va-9wORWU1aF",
        "outputId": "e4e65f7b-24ce-42f7-fbed-7cddfddb9cc3"
      },
      "execution_count": null,
      "outputs": [
        {
          "output_type": "execute_result",
          "data": {
            "text/plain": [
              "tensor([True, True, True, True])"
            ]
          },
          "metadata": {},
          "execution_count": 122
        }
      ]
    },
    {
      "cell_type": "code",
      "source": [
        "x.grad.zero_()  # Reset the gradient\n",
        "y = x.sum()\n",
        "y.backward()\n",
        "x.grad"
      ],
      "metadata": {
        "colab": {
          "base_uri": "https://localhost:8080/"
        },
        "id": "_1xNHalKU5Zn",
        "outputId": "44c3d56b-1e31-4fe5-b3b7-db9a84c5ac81"
      },
      "execution_count": null,
      "outputs": [
        {
          "output_type": "execute_result",
          "data": {
            "text/plain": [
              "tensor([1., 1., 1., 1.])"
            ]
          },
          "metadata": {},
          "execution_count": 123
        }
      ]
    },
    {
      "cell_type": "code",
      "source": [
        "x.grad.zero_()\n",
        "y = x * x\n",
        "y.backward(gradient=torch.ones(len(y)))  # Faster: y.sum().backward()\n",
        "x.grad"
      ],
      "metadata": {
        "colab": {
          "base_uri": "https://localhost:8080/"
        },
        "id": "Cjt0McscVsiO",
        "outputId": "9f01719b-9b1b-4dc0-dcb5-3234690fa275"
      },
      "execution_count": null,
      "outputs": [
        {
          "output_type": "execute_result",
          "data": {
            "text/plain": [
              "tensor([0., 2., 4., 6.])"
            ]
          },
          "metadata": {},
          "execution_count": 124
        }
      ]
    },
    {
      "cell_type": "code",
      "source": [
        "x.grad.zero_()\n",
        "y = x * x\n",
        "u = y.detach()\n",
        "z = u * x\n",
        "\n",
        "z.sum().backward()\n",
        "x.grad == u"
      ],
      "metadata": {
        "colab": {
          "base_uri": "https://localhost:8080/"
        },
        "id": "PqDwhX-kVxMT",
        "outputId": "1eeadf1f-476e-4281-a380-0af8b39a958a"
      },
      "execution_count": null,
      "outputs": [
        {
          "output_type": "execute_result",
          "data": {
            "text/plain": [
              "tensor([True, True, True, True])"
            ]
          },
          "metadata": {},
          "execution_count": 125
        }
      ]
    },
    {
      "cell_type": "code",
      "source": [
        "def f(a):\n",
        "    b = a * 2\n",
        "    while b.norm() < 1000:\n",
        "        b = b * 2\n",
        "    if b.sum() > 0:\n",
        "        c = b\n",
        "    else:\n",
        "        c = 100 * b\n",
        "    return c\n"
      ],
      "metadata": {
        "id": "zfAQ0cRCWsty"
      },
      "execution_count": null,
      "outputs": []
    },
    {
      "cell_type": "code",
      "source": [
        "a = torch.randn(size=(), requires_grad=True)\n",
        "d = f(a)\n",
        "d.backward()"
      ],
      "metadata": {
        "id": "lVCCEEZBWuqO"
      },
      "execution_count": null,
      "outputs": []
    },
    {
      "cell_type": "code",
      "source": [
        "a.grad == d / a"
      ],
      "metadata": {
        "colab": {
          "base_uri": "https://localhost:8080/"
        },
        "id": "APTi6CTjWxpI",
        "outputId": "b4485353-117d-4dcd-bfa0-6a19db8f2a88"
      },
      "execution_count": null,
      "outputs": [
        {
          "output_type": "execute_result",
          "data": {
            "text/plain": [
              "tensor(True)"
            ]
          },
          "metadata": {},
          "execution_count": 128
        }
      ]
    },
    {
      "cell_type": "markdown",
      "source": [
        "# 데이터 다루기"
      ],
      "metadata": {
        "id": "m0HAc1-T-V_0"
      }
    },
    {
      "cell_type": "code",
      "source": [
        "import os\n",
        "\n",
        "os.makedirs(os.path.join('..', 'data'), exist_ok=True)\n",
        "data_file = os.path.join('..', 'data', 'house_tiny.csv')\n",
        "with open(data_file, 'w') as f:\n",
        "    f.write('''NumRooms,RoofType,Price\n",
        "NA,NA,127500\n",
        "2,NA,106000\n",
        "4,Slate,178100\n",
        "NA,NA,140000''')"
      ],
      "metadata": {
        "id": "NQ9XAhQoQXON"
      },
      "execution_count": null,
      "outputs": []
    },
    {
      "cell_type": "code",
      "source": [
        "import pandas as pd\n",
        "\n",
        "data = pd.read_csv(data_file)\n",
        "print(data)"
      ],
      "metadata": {
        "colab": {
          "base_uri": "https://localhost:8080/"
        },
        "id": "PAmPWF0nQbNI",
        "outputId": "5645ae6d-d13b-4928-aec4-0411c7cc28f1"
      },
      "execution_count": null,
      "outputs": [
        {
          "output_type": "stream",
          "name": "stdout",
          "text": [
            "   NumRooms RoofType   Price\n",
            "0       NaN      NaN  127500\n",
            "1       2.0      NaN  106000\n",
            "2       4.0    Slate  178100\n",
            "3       NaN      NaN  140000\n"
          ]
        }
      ]
    },
    {
      "cell_type": "code",
      "source": [
        "inputs, targets = data.iloc[:, 0:2], data.iloc[:, 2]\n",
        "inputs = pd.get_dummies(inputs, dummy_na=True)\n",
        "print(inputs)"
      ],
      "metadata": {
        "colab": {
          "base_uri": "https://localhost:8080/"
        },
        "id": "twvWmq7EQjj4",
        "outputId": "1c8134d5-ecd3-457d-85b9-74b173b98fc0"
      },
      "execution_count": null,
      "outputs": [
        {
          "output_type": "stream",
          "name": "stdout",
          "text": [
            "   NumRooms  RoofType_Slate  RoofType_nan\n",
            "0       NaN               0             1\n",
            "1       2.0               0             1\n",
            "2       4.0               1             0\n",
            "3       NaN               0             1\n"
          ]
        }
      ]
    },
    {
      "cell_type": "code",
      "source": [
        "inputs = inputs.fillna(inputs.mean())\n",
        "print(inputs)"
      ],
      "metadata": {
        "colab": {
          "base_uri": "https://localhost:8080/"
        },
        "id": "74xuQloZQmNe",
        "outputId": "c82c7182-b505-4ca8-c3c4-8a1f4861fef5"
      },
      "execution_count": null,
      "outputs": [
        {
          "output_type": "stream",
          "name": "stdout",
          "text": [
            "   NumRooms  RoofType_Slate  RoofType_nan\n",
            "0       3.0               0             1\n",
            "1       2.0               0             1\n",
            "2       4.0               1             0\n",
            "3       3.0               0             1\n"
          ]
        }
      ]
    },
    {
      "cell_type": "code",
      "source": [
        "X, y = torch.tensor(inputs.values), torch.tensor(targets.values)\n",
        "X, y"
      ],
      "metadata": {
        "colab": {
          "base_uri": "https://localhost:8080/"
        },
        "id": "uSO5rbzBQnq2",
        "outputId": "1273c59f-5cf0-45c7-f666-1d526d84e33c"
      },
      "execution_count": null,
      "outputs": [
        {
          "output_type": "execute_result",
          "data": {
            "text/plain": [
              "(tensor([[3., 0., 1.],\n",
              "         [2., 0., 1.],\n",
              "         [4., 1., 0.],\n",
              "         [3., 0., 1.]], dtype=torch.float64),\n",
              " tensor([127500, 106000, 178100, 140000]))"
            ]
          },
          "metadata": {},
          "execution_count": 133
        }
      ]
    },
    {
      "cell_type": "markdown",
      "source": [
        "# 실습"
      ],
      "metadata": {
        "id": "4udKIDPcW3s8"
      }
    },
    {
      "cell_type": "markdown",
      "source": [
        "## (2,3) 형태의 0~1 사이의 무작위 값으로 이루어진 텐서를 생성해보세요."
      ],
      "metadata": {
        "id": "qelqd1AWXDof"
      }
    },
    {
      "cell_type": "code",
      "source": [
        "x = torch.randn(2, 3)\n",
        "x"
      ],
      "metadata": {
        "colab": {
          "base_uri": "https://localhost:8080/"
        },
        "id": "HXWk51suW7OK",
        "outputId": "7e885c65-da1a-4798-895a-9f401a175a19"
      },
      "execution_count": null,
      "outputs": [
        {
          "output_type": "execute_result",
          "data": {
            "text/plain": [
              "tensor([[ 0.0975, -1.0158, -1.1122],\n",
              "        [ 0.0283,  0.0347,  0.1580]])"
            ]
          },
          "metadata": {},
          "execution_count": 2
        }
      ]
    },
    {
      "cell_type": "markdown",
      "source": [
        "## 위 텐서의 타입을 출력해보세요.(dtype)"
      ],
      "metadata": {
        "id": "gNCai2HMXSzt"
      }
    },
    {
      "cell_type": "code",
      "source": [
        "x.dtype"
      ],
      "metadata": {
        "colab": {
          "base_uri": "https://localhost:8080/"
        },
        "id": "XN20ye3QY6Jb",
        "outputId": "54458de3-3588-4931-da98-1bd32f49dbc3"
      },
      "execution_count": null,
      "outputs": [
        {
          "output_type": "execute_result",
          "data": {
            "text/plain": [
              "torch.float32"
            ]
          },
          "metadata": {},
          "execution_count": 3
        }
      ]
    },
    {
      "cell_type": "markdown",
      "source": [
        "## 1부터 4까지 순서대로 이루어진 int type의 텐서를 생성해보세요."
      ],
      "metadata": {
        "id": "o9MgB2VxX6DI"
      }
    },
    {
      "cell_type": "code",
      "source": [
        "y = torch.arange(1,4, dtype=torch.int64)\n",
        "y"
      ],
      "metadata": {
        "colab": {
          "base_uri": "https://localhost:8080/"
        },
        "id": "nDvbvEhLYDtD",
        "outputId": "240e9876-0d1c-4a48-ebf9-340a0cd08a5e"
      },
      "execution_count": null,
      "outputs": [
        {
          "output_type": "execute_result",
          "data": {
            "text/plain": [
              "tensor([1, 2, 3])"
            ]
          },
          "metadata": {},
          "execution_count": 4
        }
      ]
    },
    {
      "cell_type": "markdown",
      "source": [
        "## 첫번째 생성한 텐서와 두번째 생성한 텐서의 곱을 하고 연산이 되는 이유는 무엇인가요?"
      ],
      "metadata": {
        "id": "E18vDx3UY-YL"
      }
    },
    {
      "cell_type": "code",
      "source": [
        "x*y"
      ],
      "metadata": {
        "colab": {
          "base_uri": "https://localhost:8080/"
        },
        "id": "_-Td23SwYMTK",
        "outputId": "f5c0052b-8c17-4fb3-dfd9-b62980fa2f74"
      },
      "execution_count": null,
      "outputs": [
        {
          "output_type": "execute_result",
          "data": {
            "text/plain": [
              "tensor([[ 0.0975, -2.0316, -3.3366],\n",
              "        [ 0.0283,  0.0694,  0.4741]])"
            ]
          },
          "metadata": {},
          "execution_count": 5
        }
      ]
    },
    {
      "cell_type": "markdown",
      "source": [
        "## 첫번째 생성한 텐서를 Transpose하고 첫번째 생성한 텐서와 행렬곱을 진행해보세요"
      ],
      "metadata": {
        "id": "OXZmP3S3ZYoX"
      }
    },
    {
      "cell_type": "code",
      "source": [
        "z = x.T\n",
        "z"
      ],
      "metadata": {
        "colab": {
          "base_uri": "https://localhost:8080/"
        },
        "id": "mVcIR0vZZc_r",
        "outputId": "25b3b8b4-5004-489c-fc60-6124d27bd111"
      },
      "execution_count": null,
      "outputs": [
        {
          "output_type": "execute_result",
          "data": {
            "text/plain": [
              "tensor([[ 0.0975,  0.0283],\n",
              "        [-1.0158,  0.0347],\n",
              "        [-1.1122,  0.1580]])"
            ]
          },
          "metadata": {},
          "execution_count": 8
        }
      ]
    },
    {
      "cell_type": "code",
      "source": [
        "z@x"
      ],
      "metadata": {
        "colab": {
          "base_uri": "https://localhost:8080/"
        },
        "id": "0REv17gLZvzR",
        "outputId": "4c8e83ce-e94a-4de9-cb71-a0db3b35cec2"
      },
      "execution_count": null,
      "outputs": [
        {
          "output_type": "execute_result",
          "data": {
            "text/plain": [
              "tensor([[ 0.0103, -0.0980, -0.1039],\n",
              "        [-0.0980,  1.0330,  1.1352],\n",
              "        [-0.1039,  1.1352,  1.2620]])"
            ]
          },
          "metadata": {},
          "execution_count": 9
        }
      ]
    },
    {
      "cell_type": "markdown",
      "source": [
        "## 행렬곱을 진행한 텐서와 첫번째 생성한 텐서를 Concatenate하세요"
      ],
      "metadata": {
        "id": "Z7whiC1-a5Jv"
      }
    },
    {
      "cell_type": "code",
      "source": [
        "x"
      ],
      "metadata": {
        "colab": {
          "base_uri": "https://localhost:8080/"
        },
        "id": "XQbo-bgFbTuF",
        "outputId": "fdc2ff79-27c5-4062-a381-625664194b4a"
      },
      "execution_count": null,
      "outputs": [
        {
          "output_type": "execute_result",
          "data": {
            "text/plain": [
              "tensor([[ 0.0975, -1.0158, -1.1122],\n",
              "        [ 0.0283,  0.0347,  0.1580]])"
            ]
          },
          "metadata": {},
          "execution_count": 11
        }
      ]
    },
    {
      "cell_type": "code",
      "source": [
        "print(torch.cat([z@x, x], dim=0))"
      ],
      "metadata": {
        "colab": {
          "base_uri": "https://localhost:8080/"
        },
        "id": "Q6idkyhNbEeW",
        "outputId": "0ace12a6-1096-41aa-e3b4-29b3d362b3e3"
      },
      "execution_count": null,
      "outputs": [
        {
          "output_type": "stream",
          "name": "stdout",
          "text": [
            "tensor([[ 0.0103, -0.0980, -0.1039],\n",
            "        [-0.0980,  1.0330,  1.1352],\n",
            "        [-0.1039,  1.1352,  1.2620],\n",
            "        [ 0.0975, -1.0158, -1.1122],\n",
            "        [ 0.0283,  0.0347,  0.1580]])\n"
          ]
        }
      ]
    },
    {
      "cell_type": "markdown",
      "source": [
        "## 두번째에 만든 텐서를 unsqueeze하고 shape를 출력하세요 (dim=1)"
      ],
      "metadata": {
        "id": "KnjJBQGdbDjm"
      }
    },
    {
      "cell_type": "code",
      "source": [
        "print(y.unsqueeze(1))"
      ],
      "metadata": {
        "colab": {
          "base_uri": "https://localhost:8080/"
        },
        "id": "z0dqip1ucIV_",
        "outputId": "acd5ac70-2bad-4db9-d3db-2a443a9ae415"
      },
      "execution_count": null,
      "outputs": [
        {
          "output_type": "stream",
          "name": "stdout",
          "text": [
            "tensor([[1],\n",
            "        [2],\n",
            "        [3]])\n"
          ]
        }
      ]
    },
    {
      "cell_type": "markdown",
      "source": [
        "## unsqueeze한 텐서를 squeeze하세요 shape를 출력하세요 (dim=1)"
      ],
      "metadata": {
        "id": "7EJBOY-5czDl"
      }
    },
    {
      "cell_type": "code",
      "source": [
        "k = y.unsqueeze(1)\n",
        "k.squeeze(1)"
      ],
      "metadata": {
        "colab": {
          "base_uri": "https://localhost:8080/"
        },
        "id": "-nnUk8socSLT",
        "outputId": "5301484a-8596-454e-b957-d04d3a4c866f"
      },
      "execution_count": null,
      "outputs": [
        {
          "output_type": "execute_result",
          "data": {
            "text/plain": [
              "tensor([1, 2, 3])"
            ]
          },
          "metadata": {},
          "execution_count": 15
        }
      ]
    },
    {
      "cell_type": "markdown",
      "source": [
        "## 1부터 6의 숫자로 이루어진 (2,3)형태의 텐서고 Norm을 구해주세요\n",
        "\n"
      ],
      "metadata": {
        "id": "08wa3woMdKkW"
      }
    },
    {
      "cell_type": "code",
      "source": [
        "A = torch.arange(6, dtype=torch.float32).reshape(2, 3)\n",
        "A"
      ],
      "metadata": {
        "colab": {
          "base_uri": "https://localhost:8080/"
        },
        "id": "DIkbLnEPdK-u",
        "outputId": "82644872-82f1-4cd2-f05e-db71b8df5f72"
      },
      "execution_count": null,
      "outputs": [
        {
          "output_type": "execute_result",
          "data": {
            "text/plain": [
              "tensor([[0., 1., 2.],\n",
              "        [3., 4., 5.]])"
            ]
          },
          "metadata": {},
          "execution_count": 16
        }
      ]
    },
    {
      "cell_type": "code",
      "source": [
        "torch.norm(A)"
      ],
      "metadata": {
        "colab": {
          "base_uri": "https://localhost:8080/"
        },
        "id": "-jffRMT9dSL9",
        "outputId": "5793ea76-bd7e-4d68-b129-41b8cd615066"
      },
      "execution_count": null,
      "outputs": [
        {
          "output_type": "execute_result",
          "data": {
            "text/plain": [
              "tensor(7.4162)"
            ]
          },
          "metadata": {},
          "execution_count": 17
        }
      ]
    },
    {
      "cell_type": "markdown",
      "source": [
        "## 해당 코드가 돌아가도록 알맞은 파라미터를 추가해주세요![image.png](data:image/png;base64,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)"
      ],
      "metadata": {
        "id": "u2kJUxVyeQit"
      }
    },
    {
      "cell_type": "code",
      "source": [
        "import torch\n",
        "\n",
        "x = torch.ones(5)  # input tensor\n",
        "y = torch.zeros(3)  # expected output\n",
        "w = torch.randn(5, 3,requires_grad=True)\n",
        "b = torch.randn(3,requires_grad=True)\n",
        "z = torch.matmul(x, w)+b\n",
        "loss = torch.nn.functional.binary_cross_entropy_with_logits(z, y)"
      ],
      "metadata": {
        "id": "_pXyY68Ad0O6"
      },
      "execution_count": null,
      "outputs": []
    },
    {
      "cell_type": "code",
      "source": [
        "print(f\"Gradient function for z = {z.grad_fn}\")\n",
        "print(f\"Gradient function for loss = {loss.grad_fn}\")"
      ],
      "metadata": {
        "colab": {
          "base_uri": "https://localhost:8080/"
        },
        "id": "uKYjPfeBeNkL",
        "outputId": "033d5976-b74d-4acb-8dea-210314703b96"
      },
      "execution_count": null,
      "outputs": [
        {
          "output_type": "stream",
          "name": "stdout",
          "text": [
            "Gradient function for z = <AddBackward0 object at 0x7f4d18cc3990>\n",
            "Gradient function for loss = <BinaryCrossEntropyWithLogitsBackward0 object at 0x7f4d18cc3550>\n"
          ]
        }
      ]
    },
    {
      "cell_type": "code",
      "source": [
        "loss.backward()\n",
        "print(w.grad)\n",
        "print(b.grad)"
      ],
      "metadata": {
        "colab": {
          "base_uri": "https://localhost:8080/"
        },
        "id": "HDyqFRcgeQM0",
        "outputId": "dca55963-6694-413d-be0a-023fcff53116"
      },
      "execution_count": null,
      "outputs": [
        {
          "output_type": "stream",
          "name": "stdout",
          "text": [
            "tensor([[0.3050, 0.2969, 0.1634],\n",
            "        [0.3050, 0.2969, 0.1634],\n",
            "        [0.3050, 0.2969, 0.1634],\n",
            "        [0.3050, 0.2969, 0.1634],\n",
            "        [0.3050, 0.2969, 0.1634]])\n",
            "tensor([0.3050, 0.2969, 0.1634])\n"
          ]
        }
      ]
    },
    {
      "cell_type": "markdown",
      "source": [
        "## 아래 False가 나온 결과와 같은 결과가 나오도록 코드를 완성해주세요."
      ],
      "metadata": {
        "id": "wGlhypEfes_z"
      }
    },
    {
      "cell_type": "code",
      "source": [
        "z = torch.matmul(x, w)+b\n",
        "print(z.requires_grad)\n",
        "\n",
        "with torch.no_grad():\n",
        "    z = torch.matmul(x, w)+b\n",
        "print(z.requires_grad)"
      ],
      "metadata": {
        "colab": {
          "base_uri": "https://localhost:8080/"
        },
        "id": "VLe5RLiiesJE",
        "outputId": "53313583-565c-4cae-dbee-9e9dda6111ac"
      },
      "execution_count": null,
      "outputs": [
        {
          "output_type": "stream",
          "name": "stdout",
          "text": [
            "True\n",
            "False\n"
          ]
        }
      ]
    },
    {
      "cell_type": "code",
      "source": [
        "z = torch.matmul(x, w)+b\n",
        "z_det = z.detach()\n",
        "print(z_det.requires_grad)"
      ],
      "metadata": {
        "id": "GUYhyVWbexyo",
        "colab": {
          "base_uri": "https://localhost:8080/"
        },
        "outputId": "42286bf1-a71b-415f-84de-2bf5106e9379"
      },
      "execution_count": null,
      "outputs": [
        {
          "output_type": "stream",
          "name": "stdout",
          "text": [
            "False\n"
          ]
        }
      ]
    },
    {
      "cell_type": "markdown",
      "source": [
        "## 코랩 Sample data의 california_housing_train에서 median_house_value를 target으로 하고 Tensor형태로 변환해보세요"
      ],
      "metadata": {
        "id": "z9n-TKsPe31e"
      }
    },
    {
      "cell_type": "code",
      "source": [
        "import pandas as pd\n",
        "\n",
        "data = pd.read_csv('/content/sample_data/california_housing_train.csv')\n",
        "print(data)"
      ],
      "metadata": {
        "colab": {
          "base_uri": "https://localhost:8080/"
        },
        "id": "qdti4c-ue5pQ",
        "outputId": "35d937c2-015a-4ddb-9854-332b7a3878a2"
      },
      "execution_count": null,
      "outputs": [
        {
          "output_type": "stream",
          "name": "stdout",
          "text": [
            "       longitude  latitude  housing_median_age  total_rooms  total_bedrooms  \\\n",
            "0        -114.31     34.19                15.0       5612.0          1283.0   \n",
            "1        -114.47     34.40                19.0       7650.0          1901.0   \n",
            "2        -114.56     33.69                17.0        720.0           174.0   \n",
            "3        -114.57     33.64                14.0       1501.0           337.0   \n",
            "4        -114.57     33.57                20.0       1454.0           326.0   \n",
            "...          ...       ...                 ...          ...             ...   \n",
            "16995    -124.26     40.58                52.0       2217.0           394.0   \n",
            "16996    -124.27     40.69                36.0       2349.0           528.0   \n",
            "16997    -124.30     41.84                17.0       2677.0           531.0   \n",
            "16998    -124.30     41.80                19.0       2672.0           552.0   \n",
            "16999    -124.35     40.54                52.0       1820.0           300.0   \n",
            "\n",
            "       population  households  median_income  median_house_value  \n",
            "0          1015.0       472.0         1.4936             66900.0  \n",
            "1          1129.0       463.0         1.8200             80100.0  \n",
            "2           333.0       117.0         1.6509             85700.0  \n",
            "3           515.0       226.0         3.1917             73400.0  \n",
            "4           624.0       262.0         1.9250             65500.0  \n",
            "...           ...         ...            ...                 ...  \n",
            "16995       907.0       369.0         2.3571            111400.0  \n",
            "16996      1194.0       465.0         2.5179             79000.0  \n",
            "16997      1244.0       456.0         3.0313            103600.0  \n",
            "16998      1298.0       478.0         1.9797             85800.0  \n",
            "16999       806.0       270.0         3.0147             94600.0  \n",
            "\n",
            "[17000 rows x 9 columns]\n"
          ]
        }
      ]
    },
    {
      "cell_type": "code",
      "source": [
        "data.columns"
      ],
      "metadata": {
        "colab": {
          "base_uri": "https://localhost:8080/"
        },
        "id": "uTc1dnvZfRtv",
        "outputId": "3d0f2775-9338-4fa9-cb89-f811fde81947"
      },
      "execution_count": null,
      "outputs": [
        {
          "output_type": "execute_result",
          "data": {
            "text/plain": [
              "Index(['longitude', 'latitude', 'housing_median_age', 'total_rooms',\n",
              "       'total_bedrooms', 'population', 'households', 'median_income',\n",
              "       'median_house_value'],\n",
              "      dtype='object')"
            ]
          },
          "metadata": {},
          "execution_count": 24
        }
      ]
    },
    {
      "cell_type": "code",
      "source": [
        "inputs, targets = data.iloc[:, 0:-1], data.iloc[:, -1]\n",
        "inputs = pd.get_dummies(inputs, dummy_na=True)\n",
        "print(inputs)"
      ],
      "metadata": {
        "colab": {
          "base_uri": "https://localhost:8080/"
        },
        "id": "Amc-0nBtfDgN",
        "outputId": "33a7fb4e-f891-44d2-f2c4-c82200b684a4"
      },
      "execution_count": null,
      "outputs": [
        {
          "output_type": "stream",
          "name": "stdout",
          "text": [
            "       longitude  latitude  housing_median_age  total_rooms  total_bedrooms  \\\n",
            "0        -114.31     34.19                15.0       5612.0          1283.0   \n",
            "1        -114.47     34.40                19.0       7650.0          1901.0   \n",
            "2        -114.56     33.69                17.0        720.0           174.0   \n",
            "3        -114.57     33.64                14.0       1501.0           337.0   \n",
            "4        -114.57     33.57                20.0       1454.0           326.0   \n",
            "...          ...       ...                 ...          ...             ...   \n",
            "16995    -124.26     40.58                52.0       2217.0           394.0   \n",
            "16996    -124.27     40.69                36.0       2349.0           528.0   \n",
            "16997    -124.30     41.84                17.0       2677.0           531.0   \n",
            "16998    -124.30     41.80                19.0       2672.0           552.0   \n",
            "16999    -124.35     40.54                52.0       1820.0           300.0   \n",
            "\n",
            "       population  households  median_income  \n",
            "0          1015.0       472.0         1.4936  \n",
            "1          1129.0       463.0         1.8200  \n",
            "2           333.0       117.0         1.6509  \n",
            "3           515.0       226.0         3.1917  \n",
            "4           624.0       262.0         1.9250  \n",
            "...           ...         ...            ...  \n",
            "16995       907.0       369.0         2.3571  \n",
            "16996      1194.0       465.0         2.5179  \n",
            "16997      1244.0       456.0         3.0313  \n",
            "16998      1298.0       478.0         1.9797  \n",
            "16999       806.0       270.0         3.0147  \n",
            "\n",
            "[17000 rows x 8 columns]\n"
          ]
        }
      ]
    },
    {
      "cell_type": "code",
      "source": [
        "inputs = inputs.fillna(inputs.mean())\n",
        "print(inputs)"
      ],
      "metadata": {
        "colab": {
          "base_uri": "https://localhost:8080/"
        },
        "outputId": "de81d2f6-63c3-40de-9807-6725d6f4c748",
        "id": "qan6-FZWfKVS"
      },
      "execution_count": null,
      "outputs": [
        {
          "output_type": "stream",
          "name": "stdout",
          "text": [
            "       longitude  latitude  housing_median_age  total_rooms  total_bedrooms  \\\n",
            "0        -114.31     34.19                15.0       5612.0          1283.0   \n",
            "1        -114.47     34.40                19.0       7650.0          1901.0   \n",
            "2        -114.56     33.69                17.0        720.0           174.0   \n",
            "3        -114.57     33.64                14.0       1501.0           337.0   \n",
            "4        -114.57     33.57                20.0       1454.0           326.0   \n",
            "...          ...       ...                 ...          ...             ...   \n",
            "16995    -124.26     40.58                52.0       2217.0           394.0   \n",
            "16996    -124.27     40.69                36.0       2349.0           528.0   \n",
            "16997    -124.30     41.84                17.0       2677.0           531.0   \n",
            "16998    -124.30     41.80                19.0       2672.0           552.0   \n",
            "16999    -124.35     40.54                52.0       1820.0           300.0   \n",
            "\n",
            "       population  households  median_income  \n",
            "0          1015.0       472.0         1.4936  \n",
            "1          1129.0       463.0         1.8200  \n",
            "2           333.0       117.0         1.6509  \n",
            "3           515.0       226.0         3.1917  \n",
            "4           624.0       262.0         1.9250  \n",
            "...           ...         ...            ...  \n",
            "16995       907.0       369.0         2.3571  \n",
            "16996      1194.0       465.0         2.5179  \n",
            "16997      1244.0       456.0         3.0313  \n",
            "16998      1298.0       478.0         1.9797  \n",
            "16999       806.0       270.0         3.0147  \n",
            "\n",
            "[17000 rows x 8 columns]\n"
          ]
        }
      ]
    },
    {
      "cell_type": "code",
      "source": [
        "X, y = torch.tensor(inputs.values), torch.tensor(targets.values)\n",
        "X, y"
      ],
      "metadata": {
        "colab": {
          "base_uri": "https://localhost:8080/"
        },
        "outputId": "be59d804-25a2-4a6a-a8e1-33712d862bfd",
        "id": "XUYREHJUfKVT"
      },
      "execution_count": null,
      "outputs": [
        {
          "output_type": "execute_result",
          "data": {
            "text/plain": [
              "(tensor([[-114.3100,   34.1900,   15.0000,  ..., 1015.0000,  472.0000,\n",
              "             1.4936],\n",
              "         [-114.4700,   34.4000,   19.0000,  ..., 1129.0000,  463.0000,\n",
              "             1.8200],\n",
              "         [-114.5600,   33.6900,   17.0000,  ...,  333.0000,  117.0000,\n",
              "             1.6509],\n",
              "         ...,\n",
              "         [-124.3000,   41.8400,   17.0000,  ..., 1244.0000,  456.0000,\n",
              "             3.0313],\n",
              "         [-124.3000,   41.8000,   19.0000,  ..., 1298.0000,  478.0000,\n",
              "             1.9797],\n",
              "         [-124.3500,   40.5400,   52.0000,  ...,  806.0000,  270.0000,\n",
              "             3.0147]], dtype=torch.float64),\n",
              " tensor([ 66900.,  80100.,  85700.,  ..., 103600.,  85800.,  94600.],\n",
              "        dtype=torch.float64))"
            ]
          },
          "metadata": {},
          "execution_count": 27
        }
      ]
    }
  ]
}
