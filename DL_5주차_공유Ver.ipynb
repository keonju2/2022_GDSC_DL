{
  "nbformat": 4,
  "nbformat_minor": 0,
  "metadata": {
    "colab": {
      "provenance": [],
      "collapsed_sections": [],
      "include_colab_link": true
    },
    "kernelspec": {
      "name": "python3",
      "display_name": "Python 3"
    },
    "language_info": {
      "name": "python"
    },
    "widgets": {
      "application/vnd.jupyter.widget-state+json": {
        "0d3f1badfcd8455e8195a79edaa2e814": {
          "model_module": "@jupyter-widgets/controls",
          "model_name": "HBoxModel",
          "model_module_version": "1.5.0",
          "state": {
            "_dom_classes": [],
            "_model_module": "@jupyter-widgets/controls",
            "_model_module_version": "1.5.0",
            "_model_name": "HBoxModel",
            "_view_count": null,
            "_view_module": "@jupyter-widgets/controls",
            "_view_module_version": "1.5.0",
            "_view_name": "HBoxView",
            "box_style": "",
            "children": [
              "IPY_MODEL_6c69f149eeab4c6baff5e193db9f2605",
              "IPY_MODEL_acbafd978f5047dab9d055b565fde7c8",
              "IPY_MODEL_a98c32f6e02e4761b5678672d784f31d"
            ],
            "layout": "IPY_MODEL_373ec9884eb34311a929bcff2cc9a03c"
          }
        },
        "6c69f149eeab4c6baff5e193db9f2605": {
          "model_module": "@jupyter-widgets/controls",
          "model_name": "HTMLModel",
          "model_module_version": "1.5.0",
          "state": {
            "_dom_classes": [],
            "_model_module": "@jupyter-widgets/controls",
            "_model_module_version": "1.5.0",
            "_model_name": "HTMLModel",
            "_view_count": null,
            "_view_module": "@jupyter-widgets/controls",
            "_view_module_version": "1.5.0",
            "_view_name": "HTMLView",
            "description": "",
            "description_tooltip": null,
            "layout": "IPY_MODEL_00266d4456e44e6fa2f8f5b44710f764",
            "placeholder": "​",
            "style": "IPY_MODEL_19ea7a3610b84acc93193915fdccebdc",
            "value": "100%"
          }
        },
        "acbafd978f5047dab9d055b565fde7c8": {
          "model_module": "@jupyter-widgets/controls",
          "model_name": "FloatProgressModel",
          "model_module_version": "1.5.0",
          "state": {
            "_dom_classes": [],
            "_model_module": "@jupyter-widgets/controls",
            "_model_module_version": "1.5.0",
            "_model_name": "FloatProgressModel",
            "_view_count": null,
            "_view_module": "@jupyter-widgets/controls",
            "_view_module_version": "1.5.0",
            "_view_name": "ProgressView",
            "bar_style": "success",
            "description": "",
            "description_tooltip": null,
            "layout": "IPY_MODEL_061fb29d2ff942b4a28e619a31d1b8c7",
            "max": 9912422,
            "min": 0,
            "orientation": "horizontal",
            "style": "IPY_MODEL_c962c940520b4a16996f70f853b41a38",
            "value": 9912422
          }
        },
        "a98c32f6e02e4761b5678672d784f31d": {
          "model_module": "@jupyter-widgets/controls",
          "model_name": "HTMLModel",
          "model_module_version": "1.5.0",
          "state": {
            "_dom_classes": [],
            "_model_module": "@jupyter-widgets/controls",
            "_model_module_version": "1.5.0",
            "_model_name": "HTMLModel",
            "_view_count": null,
            "_view_module": "@jupyter-widgets/controls",
            "_view_module_version": "1.5.0",
            "_view_name": "HTMLView",
            "description": "",
            "description_tooltip": null,
            "layout": "IPY_MODEL_b8d3ef626370426c970903cca319bdb7",
            "placeholder": "​",
            "style": "IPY_MODEL_f057e9f67004430ea61bfa1c14f78fa3",
            "value": " 9912422/9912422 [00:00&lt;00:00, 114424573.94it/s]"
          }
        },
        "373ec9884eb34311a929bcff2cc9a03c": {
          "model_module": "@jupyter-widgets/base",
          "model_name": "LayoutModel",
          "model_module_version": "1.2.0",
          "state": {
            "_model_module": "@jupyter-widgets/base",
            "_model_module_version": "1.2.0",
            "_model_name": "LayoutModel",
            "_view_count": null,
            "_view_module": "@jupyter-widgets/base",
            "_view_module_version": "1.2.0",
            "_view_name": "LayoutView",
            "align_content": null,
            "align_items": null,
            "align_self": null,
            "border": null,
            "bottom": null,
            "display": null,
            "flex": null,
            "flex_flow": null,
            "grid_area": null,
            "grid_auto_columns": null,
            "grid_auto_flow": null,
            "grid_auto_rows": null,
            "grid_column": null,
            "grid_gap": null,
            "grid_row": null,
            "grid_template_areas": null,
            "grid_template_columns": null,
            "grid_template_rows": null,
            "height": null,
            "justify_content": null,
            "justify_items": null,
            "left": null,
            "margin": null,
            "max_height": null,
            "max_width": null,
            "min_height": null,
            "min_width": null,
            "object_fit": null,
            "object_position": null,
            "order": null,
            "overflow": null,
            "overflow_x": null,
            "overflow_y": null,
            "padding": null,
            "right": null,
            "top": null,
            "visibility": null,
            "width": null
          }
        },
        "00266d4456e44e6fa2f8f5b44710f764": {
          "model_module": "@jupyter-widgets/base",
          "model_name": "LayoutModel",
          "model_module_version": "1.2.0",
          "state": {
            "_model_module": "@jupyter-widgets/base",
            "_model_module_version": "1.2.0",
            "_model_name": "LayoutModel",
            "_view_count": null,
            "_view_module": "@jupyter-widgets/base",
            "_view_module_version": "1.2.0",
            "_view_name": "LayoutView",
            "align_content": null,
            "align_items": null,
            "align_self": null,
            "border": null,
            "bottom": null,
            "display": null,
            "flex": null,
            "flex_flow": null,
            "grid_area": null,
            "grid_auto_columns": null,
            "grid_auto_flow": null,
            "grid_auto_rows": null,
            "grid_column": null,
            "grid_gap": null,
            "grid_row": null,
            "grid_template_areas": null,
            "grid_template_columns": null,
            "grid_template_rows": null,
            "height": null,
            "justify_content": null,
            "justify_items": null,
            "left": null,
            "margin": null,
            "max_height": null,
            "max_width": null,
            "min_height": null,
            "min_width": null,
            "object_fit": null,
            "object_position": null,
            "order": null,
            "overflow": null,
            "overflow_x": null,
            "overflow_y": null,
            "padding": null,
            "right": null,
            "top": null,
            "visibility": null,
            "width": null
          }
        },
        "19ea7a3610b84acc93193915fdccebdc": {
          "model_module": "@jupyter-widgets/controls",
          "model_name": "DescriptionStyleModel",
          "model_module_version": "1.5.0",
          "state": {
            "_model_module": "@jupyter-widgets/controls",
            "_model_module_version": "1.5.0",
            "_model_name": "DescriptionStyleModel",
            "_view_count": null,
            "_view_module": "@jupyter-widgets/base",
            "_view_module_version": "1.2.0",
            "_view_name": "StyleView",
            "description_width": ""
          }
        },
        "061fb29d2ff942b4a28e619a31d1b8c7": {
          "model_module": "@jupyter-widgets/base",
          "model_name": "LayoutModel",
          "model_module_version": "1.2.0",
          "state": {
            "_model_module": "@jupyter-widgets/base",
            "_model_module_version": "1.2.0",
            "_model_name": "LayoutModel",
            "_view_count": null,
            "_view_module": "@jupyter-widgets/base",
            "_view_module_version": "1.2.0",
            "_view_name": "LayoutView",
            "align_content": null,
            "align_items": null,
            "align_self": null,
            "border": null,
            "bottom": null,
            "display": null,
            "flex": null,
            "flex_flow": null,
            "grid_area": null,
            "grid_auto_columns": null,
            "grid_auto_flow": null,
            "grid_auto_rows": null,
            "grid_column": null,
            "grid_gap": null,
            "grid_row": null,
            "grid_template_areas": null,
            "grid_template_columns": null,
            "grid_template_rows": null,
            "height": null,
            "justify_content": null,
            "justify_items": null,
            "left": null,
            "margin": null,
            "max_height": null,
            "max_width": null,
            "min_height": null,
            "min_width": null,
            "object_fit": null,
            "object_position": null,
            "order": null,
            "overflow": null,
            "overflow_x": null,
            "overflow_y": null,
            "padding": null,
            "right": null,
            "top": null,
            "visibility": null,
            "width": null
          }
        },
        "c962c940520b4a16996f70f853b41a38": {
          "model_module": "@jupyter-widgets/controls",
          "model_name": "ProgressStyleModel",
          "model_module_version": "1.5.0",
          "state": {
            "_model_module": "@jupyter-widgets/controls",
            "_model_module_version": "1.5.0",
            "_model_name": "ProgressStyleModel",
            "_view_count": null,
            "_view_module": "@jupyter-widgets/base",
            "_view_module_version": "1.2.0",
            "_view_name": "StyleView",
            "bar_color": null,
            "description_width": ""
          }
        },
        "b8d3ef626370426c970903cca319bdb7": {
          "model_module": "@jupyter-widgets/base",
          "model_name": "LayoutModel",
          "model_module_version": "1.2.0",
          "state": {
            "_model_module": "@jupyter-widgets/base",
            "_model_module_version": "1.2.0",
            "_model_name": "LayoutModel",
            "_view_count": null,
            "_view_module": "@jupyter-widgets/base",
            "_view_module_version": "1.2.0",
            "_view_name": "LayoutView",
            "align_content": null,
            "align_items": null,
            "align_self": null,
            "border": null,
            "bottom": null,
            "display": null,
            "flex": null,
            "flex_flow": null,
            "grid_area": null,
            "grid_auto_columns": null,
            "grid_auto_flow": null,
            "grid_auto_rows": null,
            "grid_column": null,
            "grid_gap": null,
            "grid_row": null,
            "grid_template_areas": null,
            "grid_template_columns": null,
            "grid_template_rows": null,
            "height": null,
            "justify_content": null,
            "justify_items": null,
            "left": null,
            "margin": null,
            "max_height": null,
            "max_width": null,
            "min_height": null,
            "min_width": null,
            "object_fit": null,
            "object_position": null,
            "order": null,
            "overflow": null,
            "overflow_x": null,
            "overflow_y": null,
            "padding": null,
            "right": null,
            "top": null,
            "visibility": null,
            "width": null
          }
        },
        "f057e9f67004430ea61bfa1c14f78fa3": {
          "model_module": "@jupyter-widgets/controls",
          "model_name": "DescriptionStyleModel",
          "model_module_version": "1.5.0",
          "state": {
            "_model_module": "@jupyter-widgets/controls",
            "_model_module_version": "1.5.0",
            "_model_name": "DescriptionStyleModel",
            "_view_count": null,
            "_view_module": "@jupyter-widgets/base",
            "_view_module_version": "1.2.0",
            "_view_name": "StyleView",
            "description_width": ""
          }
        },
        "322d3ea45ab9418199f56be2f6799460": {
          "model_module": "@jupyter-widgets/controls",
          "model_name": "HBoxModel",
          "model_module_version": "1.5.0",
          "state": {
            "_dom_classes": [],
            "_model_module": "@jupyter-widgets/controls",
            "_model_module_version": "1.5.0",
            "_model_name": "HBoxModel",
            "_view_count": null,
            "_view_module": "@jupyter-widgets/controls",
            "_view_module_version": "1.5.0",
            "_view_name": "HBoxView",
            "box_style": "",
            "children": [
              "IPY_MODEL_67475c9a66e14aeb8886a6e1b3ac3f12",
              "IPY_MODEL_48fbc5b083fd4214a475cefd669f6b54",
              "IPY_MODEL_483c1aabe37d41a0aec62312590fbca9"
            ],
            "layout": "IPY_MODEL_fcf5756e66b0457bab980cc913eed5b6"
          }
        },
        "67475c9a66e14aeb8886a6e1b3ac3f12": {
          "model_module": "@jupyter-widgets/controls",
          "model_name": "HTMLModel",
          "model_module_version": "1.5.0",
          "state": {
            "_dom_classes": [],
            "_model_module": "@jupyter-widgets/controls",
            "_model_module_version": "1.5.0",
            "_model_name": "HTMLModel",
            "_view_count": null,
            "_view_module": "@jupyter-widgets/controls",
            "_view_module_version": "1.5.0",
            "_view_name": "HTMLView",
            "description": "",
            "description_tooltip": null,
            "layout": "IPY_MODEL_0a1d4eb6a8e34fb0aa851e87282f9528",
            "placeholder": "​",
            "style": "IPY_MODEL_049032c2a831410799f7d88be2a57721",
            "value": "100%"
          }
        },
        "48fbc5b083fd4214a475cefd669f6b54": {
          "model_module": "@jupyter-widgets/controls",
          "model_name": "FloatProgressModel",
          "model_module_version": "1.5.0",
          "state": {
            "_dom_classes": [],
            "_model_module": "@jupyter-widgets/controls",
            "_model_module_version": "1.5.0",
            "_model_name": "FloatProgressModel",
            "_view_count": null,
            "_view_module": "@jupyter-widgets/controls",
            "_view_module_version": "1.5.0",
            "_view_name": "ProgressView",
            "bar_style": "success",
            "description": "",
            "description_tooltip": null,
            "layout": "IPY_MODEL_65e2fac686564160aa366aaf0abce435",
            "max": 28881,
            "min": 0,
            "orientation": "horizontal",
            "style": "IPY_MODEL_d4de5cf13e2444368ad7152c5af23204",
            "value": 28881
          }
        },
        "483c1aabe37d41a0aec62312590fbca9": {
          "model_module": "@jupyter-widgets/controls",
          "model_name": "HTMLModel",
          "model_module_version": "1.5.0",
          "state": {
            "_dom_classes": [],
            "_model_module": "@jupyter-widgets/controls",
            "_model_module_version": "1.5.0",
            "_model_name": "HTMLModel",
            "_view_count": null,
            "_view_module": "@jupyter-widgets/controls",
            "_view_module_version": "1.5.0",
            "_view_name": "HTMLView",
            "description": "",
            "description_tooltip": null,
            "layout": "IPY_MODEL_bb73b2bedead44a5bb54fac297f610d2",
            "placeholder": "​",
            "style": "IPY_MODEL_26e71010f7384af58631e6d6b0bb3db4",
            "value": " 28881/28881 [00:00&lt;00:00, 912173.24it/s]"
          }
        },
        "fcf5756e66b0457bab980cc913eed5b6": {
          "model_module": "@jupyter-widgets/base",
          "model_name": "LayoutModel",
          "model_module_version": "1.2.0",
          "state": {
            "_model_module": "@jupyter-widgets/base",
            "_model_module_version": "1.2.0",
            "_model_name": "LayoutModel",
            "_view_count": null,
            "_view_module": "@jupyter-widgets/base",
            "_view_module_version": "1.2.0",
            "_view_name": "LayoutView",
            "align_content": null,
            "align_items": null,
            "align_self": null,
            "border": null,
            "bottom": null,
            "display": null,
            "flex": null,
            "flex_flow": null,
            "grid_area": null,
            "grid_auto_columns": null,
            "grid_auto_flow": null,
            "grid_auto_rows": null,
            "grid_column": null,
            "grid_gap": null,
            "grid_row": null,
            "grid_template_areas": null,
            "grid_template_columns": null,
            "grid_template_rows": null,
            "height": null,
            "justify_content": null,
            "justify_items": null,
            "left": null,
            "margin": null,
            "max_height": null,
            "max_width": null,
            "min_height": null,
            "min_width": null,
            "object_fit": null,
            "object_position": null,
            "order": null,
            "overflow": null,
            "overflow_x": null,
            "overflow_y": null,
            "padding": null,
            "right": null,
            "top": null,
            "visibility": null,
            "width": null
          }
        },
        "0a1d4eb6a8e34fb0aa851e87282f9528": {
          "model_module": "@jupyter-widgets/base",
          "model_name": "LayoutModel",
          "model_module_version": "1.2.0",
          "state": {
            "_model_module": "@jupyter-widgets/base",
            "_model_module_version": "1.2.0",
            "_model_name": "LayoutModel",
            "_view_count": null,
            "_view_module": "@jupyter-widgets/base",
            "_view_module_version": "1.2.0",
            "_view_name": "LayoutView",
            "align_content": null,
            "align_items": null,
            "align_self": null,
            "border": null,
            "bottom": null,
            "display": null,
            "flex": null,
            "flex_flow": null,
            "grid_area": null,
            "grid_auto_columns": null,
            "grid_auto_flow": null,
            "grid_auto_rows": null,
            "grid_column": null,
            "grid_gap": null,
            "grid_row": null,
            "grid_template_areas": null,
            "grid_template_columns": null,
            "grid_template_rows": null,
            "height": null,
            "justify_content": null,
            "justify_items": null,
            "left": null,
            "margin": null,
            "max_height": null,
            "max_width": null,
            "min_height": null,
            "min_width": null,
            "object_fit": null,
            "object_position": null,
            "order": null,
            "overflow": null,
            "overflow_x": null,
            "overflow_y": null,
            "padding": null,
            "right": null,
            "top": null,
            "visibility": null,
            "width": null
          }
        },
        "049032c2a831410799f7d88be2a57721": {
          "model_module": "@jupyter-widgets/controls",
          "model_name": "DescriptionStyleModel",
          "model_module_version": "1.5.0",
          "state": {
            "_model_module": "@jupyter-widgets/controls",
            "_model_module_version": "1.5.0",
            "_model_name": "DescriptionStyleModel",
            "_view_count": null,
            "_view_module": "@jupyter-widgets/base",
            "_view_module_version": "1.2.0",
            "_view_name": "StyleView",
            "description_width": ""
          }
        },
        "65e2fac686564160aa366aaf0abce435": {
          "model_module": "@jupyter-widgets/base",
          "model_name": "LayoutModel",
          "model_module_version": "1.2.0",
          "state": {
            "_model_module": "@jupyter-widgets/base",
            "_model_module_version": "1.2.0",
            "_model_name": "LayoutModel",
            "_view_count": null,
            "_view_module": "@jupyter-widgets/base",
            "_view_module_version": "1.2.0",
            "_view_name": "LayoutView",
            "align_content": null,
            "align_items": null,
            "align_self": null,
            "border": null,
            "bottom": null,
            "display": null,
            "flex": null,
            "flex_flow": null,
            "grid_area": null,
            "grid_auto_columns": null,
            "grid_auto_flow": null,
            "grid_auto_rows": null,
            "grid_column": null,
            "grid_gap": null,
            "grid_row": null,
            "grid_template_areas": null,
            "grid_template_columns": null,
            "grid_template_rows": null,
            "height": null,
            "justify_content": null,
            "justify_items": null,
            "left": null,
            "margin": null,
            "max_height": null,
            "max_width": null,
            "min_height": null,
            "min_width": null,
            "object_fit": null,
            "object_position": null,
            "order": null,
            "overflow": null,
            "overflow_x": null,
            "overflow_y": null,
            "padding": null,
            "right": null,
            "top": null,
            "visibility": null,
            "width": null
          }
        },
        "d4de5cf13e2444368ad7152c5af23204": {
          "model_module": "@jupyter-widgets/controls",
          "model_name": "ProgressStyleModel",
          "model_module_version": "1.5.0",
          "state": {
            "_model_module": "@jupyter-widgets/controls",
            "_model_module_version": "1.5.0",
            "_model_name": "ProgressStyleModel",
            "_view_count": null,
            "_view_module": "@jupyter-widgets/base",
            "_view_module_version": "1.2.0",
            "_view_name": "StyleView",
            "bar_color": null,
            "description_width": ""
          }
        },
        "bb73b2bedead44a5bb54fac297f610d2": {
          "model_module": "@jupyter-widgets/base",
          "model_name": "LayoutModel",
          "model_module_version": "1.2.0",
          "state": {
            "_model_module": "@jupyter-widgets/base",
            "_model_module_version": "1.2.0",
            "_model_name": "LayoutModel",
            "_view_count": null,
            "_view_module": "@jupyter-widgets/base",
            "_view_module_version": "1.2.0",
            "_view_name": "LayoutView",
            "align_content": null,
            "align_items": null,
            "align_self": null,
            "border": null,
            "bottom": null,
            "display": null,
            "flex": null,
            "flex_flow": null,
            "grid_area": null,
            "grid_auto_columns": null,
            "grid_auto_flow": null,
            "grid_auto_rows": null,
            "grid_column": null,
            "grid_gap": null,
            "grid_row": null,
            "grid_template_areas": null,
            "grid_template_columns": null,
            "grid_template_rows": null,
            "height": null,
            "justify_content": null,
            "justify_items": null,
            "left": null,
            "margin": null,
            "max_height": null,
            "max_width": null,
            "min_height": null,
            "min_width": null,
            "object_fit": null,
            "object_position": null,
            "order": null,
            "overflow": null,
            "overflow_x": null,
            "overflow_y": null,
            "padding": null,
            "right": null,
            "top": null,
            "visibility": null,
            "width": null
          }
        },
        "26e71010f7384af58631e6d6b0bb3db4": {
          "model_module": "@jupyter-widgets/controls",
          "model_name": "DescriptionStyleModel",
          "model_module_version": "1.5.0",
          "state": {
            "_model_module": "@jupyter-widgets/controls",
            "_model_module_version": "1.5.0",
            "_model_name": "DescriptionStyleModel",
            "_view_count": null,
            "_view_module": "@jupyter-widgets/base",
            "_view_module_version": "1.2.0",
            "_view_name": "StyleView",
            "description_width": ""
          }
        },
        "0bf29c59b42949c1ac0464ced8b9a756": {
          "model_module": "@jupyter-widgets/controls",
          "model_name": "HBoxModel",
          "model_module_version": "1.5.0",
          "state": {
            "_dom_classes": [],
            "_model_module": "@jupyter-widgets/controls",
            "_model_module_version": "1.5.0",
            "_model_name": "HBoxModel",
            "_view_count": null,
            "_view_module": "@jupyter-widgets/controls",
            "_view_module_version": "1.5.0",
            "_view_name": "HBoxView",
            "box_style": "",
            "children": [
              "IPY_MODEL_c317de6cd9424e99a771c11572545e11",
              "IPY_MODEL_77dc6078bfc645e2b077c0ea4c0422c9",
              "IPY_MODEL_69f11a984acd44dc893589350d6340ba"
            ],
            "layout": "IPY_MODEL_cec09dde11c94257971e9f9d969c3059"
          }
        },
        "c317de6cd9424e99a771c11572545e11": {
          "model_module": "@jupyter-widgets/controls",
          "model_name": "HTMLModel",
          "model_module_version": "1.5.0",
          "state": {
            "_dom_classes": [],
            "_model_module": "@jupyter-widgets/controls",
            "_model_module_version": "1.5.0",
            "_model_name": "HTMLModel",
            "_view_count": null,
            "_view_module": "@jupyter-widgets/controls",
            "_view_module_version": "1.5.0",
            "_view_name": "HTMLView",
            "description": "",
            "description_tooltip": null,
            "layout": "IPY_MODEL_f7b51ca5a9984a4ea5937d6edd43f568",
            "placeholder": "​",
            "style": "IPY_MODEL_26b4ab10dc2c4835999cb6dce129d81f",
            "value": "100%"
          }
        },
        "77dc6078bfc645e2b077c0ea4c0422c9": {
          "model_module": "@jupyter-widgets/controls",
          "model_name": "FloatProgressModel",
          "model_module_version": "1.5.0",
          "state": {
            "_dom_classes": [],
            "_model_module": "@jupyter-widgets/controls",
            "_model_module_version": "1.5.0",
            "_model_name": "FloatProgressModel",
            "_view_count": null,
            "_view_module": "@jupyter-widgets/controls",
            "_view_module_version": "1.5.0",
            "_view_name": "ProgressView",
            "bar_style": "success",
            "description": "",
            "description_tooltip": null,
            "layout": "IPY_MODEL_31d9d5c68a2a467d88773f0f7b21f751",
            "max": 1648877,
            "min": 0,
            "orientation": "horizontal",
            "style": "IPY_MODEL_f5fbab52596a4413a724c5f4c91aedfb",
            "value": 1648877
          }
        },
        "69f11a984acd44dc893589350d6340ba": {
          "model_module": "@jupyter-widgets/controls",
          "model_name": "HTMLModel",
          "model_module_version": "1.5.0",
          "state": {
            "_dom_classes": [],
            "_model_module": "@jupyter-widgets/controls",
            "_model_module_version": "1.5.0",
            "_model_name": "HTMLModel",
            "_view_count": null,
            "_view_module": "@jupyter-widgets/controls",
            "_view_module_version": "1.5.0",
            "_view_name": "HTMLView",
            "description": "",
            "description_tooltip": null,
            "layout": "IPY_MODEL_41c212090dbc403380f1d9e98caf3678",
            "placeholder": "​",
            "style": "IPY_MODEL_2ebbe95a09664495ba456af0a46f5455",
            "value": " 1648877/1648877 [00:00&lt;00:00, 44207100.33it/s]"
          }
        },
        "cec09dde11c94257971e9f9d969c3059": {
          "model_module": "@jupyter-widgets/base",
          "model_name": "LayoutModel",
          "model_module_version": "1.2.0",
          "state": {
            "_model_module": "@jupyter-widgets/base",
            "_model_module_version": "1.2.0",
            "_model_name": "LayoutModel",
            "_view_count": null,
            "_view_module": "@jupyter-widgets/base",
            "_view_module_version": "1.2.0",
            "_view_name": "LayoutView",
            "align_content": null,
            "align_items": null,
            "align_self": null,
            "border": null,
            "bottom": null,
            "display": null,
            "flex": null,
            "flex_flow": null,
            "grid_area": null,
            "grid_auto_columns": null,
            "grid_auto_flow": null,
            "grid_auto_rows": null,
            "grid_column": null,
            "grid_gap": null,
            "grid_row": null,
            "grid_template_areas": null,
            "grid_template_columns": null,
            "grid_template_rows": null,
            "height": null,
            "justify_content": null,
            "justify_items": null,
            "left": null,
            "margin": null,
            "max_height": null,
            "max_width": null,
            "min_height": null,
            "min_width": null,
            "object_fit": null,
            "object_position": null,
            "order": null,
            "overflow": null,
            "overflow_x": null,
            "overflow_y": null,
            "padding": null,
            "right": null,
            "top": null,
            "visibility": null,
            "width": null
          }
        },
        "f7b51ca5a9984a4ea5937d6edd43f568": {
          "model_module": "@jupyter-widgets/base",
          "model_name": "LayoutModel",
          "model_module_version": "1.2.0",
          "state": {
            "_model_module": "@jupyter-widgets/base",
            "_model_module_version": "1.2.0",
            "_model_name": "LayoutModel",
            "_view_count": null,
            "_view_module": "@jupyter-widgets/base",
            "_view_module_version": "1.2.0",
            "_view_name": "LayoutView",
            "align_content": null,
            "align_items": null,
            "align_self": null,
            "border": null,
            "bottom": null,
            "display": null,
            "flex": null,
            "flex_flow": null,
            "grid_area": null,
            "grid_auto_columns": null,
            "grid_auto_flow": null,
            "grid_auto_rows": null,
            "grid_column": null,
            "grid_gap": null,
            "grid_row": null,
            "grid_template_areas": null,
            "grid_template_columns": null,
            "grid_template_rows": null,
            "height": null,
            "justify_content": null,
            "justify_items": null,
            "left": null,
            "margin": null,
            "max_height": null,
            "max_width": null,
            "min_height": null,
            "min_width": null,
            "object_fit": null,
            "object_position": null,
            "order": null,
            "overflow": null,
            "overflow_x": null,
            "overflow_y": null,
            "padding": null,
            "right": null,
            "top": null,
            "visibility": null,
            "width": null
          }
        },
        "26b4ab10dc2c4835999cb6dce129d81f": {
          "model_module": "@jupyter-widgets/controls",
          "model_name": "DescriptionStyleModel",
          "model_module_version": "1.5.0",
          "state": {
            "_model_module": "@jupyter-widgets/controls",
            "_model_module_version": "1.5.0",
            "_model_name": "DescriptionStyleModel",
            "_view_count": null,
            "_view_module": "@jupyter-widgets/base",
            "_view_module_version": "1.2.0",
            "_view_name": "StyleView",
            "description_width": ""
          }
        },
        "31d9d5c68a2a467d88773f0f7b21f751": {
          "model_module": "@jupyter-widgets/base",
          "model_name": "LayoutModel",
          "model_module_version": "1.2.0",
          "state": {
            "_model_module": "@jupyter-widgets/base",
            "_model_module_version": "1.2.0",
            "_model_name": "LayoutModel",
            "_view_count": null,
            "_view_module": "@jupyter-widgets/base",
            "_view_module_version": "1.2.0",
            "_view_name": "LayoutView",
            "align_content": null,
            "align_items": null,
            "align_self": null,
            "border": null,
            "bottom": null,
            "display": null,
            "flex": null,
            "flex_flow": null,
            "grid_area": null,
            "grid_auto_columns": null,
            "grid_auto_flow": null,
            "grid_auto_rows": null,
            "grid_column": null,
            "grid_gap": null,
            "grid_row": null,
            "grid_template_areas": null,
            "grid_template_columns": null,
            "grid_template_rows": null,
            "height": null,
            "justify_content": null,
            "justify_items": null,
            "left": null,
            "margin": null,
            "max_height": null,
            "max_width": null,
            "min_height": null,
            "min_width": null,
            "object_fit": null,
            "object_position": null,
            "order": null,
            "overflow": null,
            "overflow_x": null,
            "overflow_y": null,
            "padding": null,
            "right": null,
            "top": null,
            "visibility": null,
            "width": null
          }
        },
        "f5fbab52596a4413a724c5f4c91aedfb": {
          "model_module": "@jupyter-widgets/controls",
          "model_name": "ProgressStyleModel",
          "model_module_version": "1.5.0",
          "state": {
            "_model_module": "@jupyter-widgets/controls",
            "_model_module_version": "1.5.0",
            "_model_name": "ProgressStyleModel",
            "_view_count": null,
            "_view_module": "@jupyter-widgets/base",
            "_view_module_version": "1.2.0",
            "_view_name": "StyleView",
            "bar_color": null,
            "description_width": ""
          }
        },
        "41c212090dbc403380f1d9e98caf3678": {
          "model_module": "@jupyter-widgets/base",
          "model_name": "LayoutModel",
          "model_module_version": "1.2.0",
          "state": {
            "_model_module": "@jupyter-widgets/base",
            "_model_module_version": "1.2.0",
            "_model_name": "LayoutModel",
            "_view_count": null,
            "_view_module": "@jupyter-widgets/base",
            "_view_module_version": "1.2.0",
            "_view_name": "LayoutView",
            "align_content": null,
            "align_items": null,
            "align_self": null,
            "border": null,
            "bottom": null,
            "display": null,
            "flex": null,
            "flex_flow": null,
            "grid_area": null,
            "grid_auto_columns": null,
            "grid_auto_flow": null,
            "grid_auto_rows": null,
            "grid_column": null,
            "grid_gap": null,
            "grid_row": null,
            "grid_template_areas": null,
            "grid_template_columns": null,
            "grid_template_rows": null,
            "height": null,
            "justify_content": null,
            "justify_items": null,
            "left": null,
            "margin": null,
            "max_height": null,
            "max_width": null,
            "min_height": null,
            "min_width": null,
            "object_fit": null,
            "object_position": null,
            "order": null,
            "overflow": null,
            "overflow_x": null,
            "overflow_y": null,
            "padding": null,
            "right": null,
            "top": null,
            "visibility": null,
            "width": null
          }
        },
        "2ebbe95a09664495ba456af0a46f5455": {
          "model_module": "@jupyter-widgets/controls",
          "model_name": "DescriptionStyleModel",
          "model_module_version": "1.5.0",
          "state": {
            "_model_module": "@jupyter-widgets/controls",
            "_model_module_version": "1.5.0",
            "_model_name": "DescriptionStyleModel",
            "_view_count": null,
            "_view_module": "@jupyter-widgets/base",
            "_view_module_version": "1.2.0",
            "_view_name": "StyleView",
            "description_width": ""
          }
        },
        "95cffbe71db445c58395597135bfb06a": {
          "model_module": "@jupyter-widgets/controls",
          "model_name": "HBoxModel",
          "model_module_version": "1.5.0",
          "state": {
            "_dom_classes": [],
            "_model_module": "@jupyter-widgets/controls",
            "_model_module_version": "1.5.0",
            "_model_name": "HBoxModel",
            "_view_count": null,
            "_view_module": "@jupyter-widgets/controls",
            "_view_module_version": "1.5.0",
            "_view_name": "HBoxView",
            "box_style": "",
            "children": [
              "IPY_MODEL_1f392b826419494a80aa8035df231a42",
              "IPY_MODEL_5726aece220a40e0a5ac0adfadc34aa8",
              "IPY_MODEL_eb9a18545a384f0191ef768a368b5681"
            ],
            "layout": "IPY_MODEL_98b40af1fb48407faa0598957b5cdb0d"
          }
        },
        "1f392b826419494a80aa8035df231a42": {
          "model_module": "@jupyter-widgets/controls",
          "model_name": "HTMLModel",
          "model_module_version": "1.5.0",
          "state": {
            "_dom_classes": [],
            "_model_module": "@jupyter-widgets/controls",
            "_model_module_version": "1.5.0",
            "_model_name": "HTMLModel",
            "_view_count": null,
            "_view_module": "@jupyter-widgets/controls",
            "_view_module_version": "1.5.0",
            "_view_name": "HTMLView",
            "description": "",
            "description_tooltip": null,
            "layout": "IPY_MODEL_acea59bc29244658b2c5462abd1d0873",
            "placeholder": "​",
            "style": "IPY_MODEL_91972cdf4b8243eb97a5c8b5191968e3",
            "value": "100%"
          }
        },
        "5726aece220a40e0a5ac0adfadc34aa8": {
          "model_module": "@jupyter-widgets/controls",
          "model_name": "FloatProgressModel",
          "model_module_version": "1.5.0",
          "state": {
            "_dom_classes": [],
            "_model_module": "@jupyter-widgets/controls",
            "_model_module_version": "1.5.0",
            "_model_name": "FloatProgressModel",
            "_view_count": null,
            "_view_module": "@jupyter-widgets/controls",
            "_view_module_version": "1.5.0",
            "_view_name": "ProgressView",
            "bar_style": "success",
            "description": "",
            "description_tooltip": null,
            "layout": "IPY_MODEL_52d4475546664224aa956eaedac31d3b",
            "max": 4542,
            "min": 0,
            "orientation": "horizontal",
            "style": "IPY_MODEL_a2186d95124b414bad32040652237a9b",
            "value": 4542
          }
        },
        "eb9a18545a384f0191ef768a368b5681": {
          "model_module": "@jupyter-widgets/controls",
          "model_name": "HTMLModel",
          "model_module_version": "1.5.0",
          "state": {
            "_dom_classes": [],
            "_model_module": "@jupyter-widgets/controls",
            "_model_module_version": "1.5.0",
            "_model_name": "HTMLModel",
            "_view_count": null,
            "_view_module": "@jupyter-widgets/controls",
            "_view_module_version": "1.5.0",
            "_view_name": "HTMLView",
            "description": "",
            "description_tooltip": null,
            "layout": "IPY_MODEL_5bd45176c44a4e10810849f33b16692d",
            "placeholder": "​",
            "style": "IPY_MODEL_0247e6096b124b41b3e3f72e270a2355",
            "value": " 4542/4542 [00:00&lt;00:00, 148166.66it/s]"
          }
        },
        "98b40af1fb48407faa0598957b5cdb0d": {
          "model_module": "@jupyter-widgets/base",
          "model_name": "LayoutModel",
          "model_module_version": "1.2.0",
          "state": {
            "_model_module": "@jupyter-widgets/base",
            "_model_module_version": "1.2.0",
            "_model_name": "LayoutModel",
            "_view_count": null,
            "_view_module": "@jupyter-widgets/base",
            "_view_module_version": "1.2.0",
            "_view_name": "LayoutView",
            "align_content": null,
            "align_items": null,
            "align_self": null,
            "border": null,
            "bottom": null,
            "display": null,
            "flex": null,
            "flex_flow": null,
            "grid_area": null,
            "grid_auto_columns": null,
            "grid_auto_flow": null,
            "grid_auto_rows": null,
            "grid_column": null,
            "grid_gap": null,
            "grid_row": null,
            "grid_template_areas": null,
            "grid_template_columns": null,
            "grid_template_rows": null,
            "height": null,
            "justify_content": null,
            "justify_items": null,
            "left": null,
            "margin": null,
            "max_height": null,
            "max_width": null,
            "min_height": null,
            "min_width": null,
            "object_fit": null,
            "object_position": null,
            "order": null,
            "overflow": null,
            "overflow_x": null,
            "overflow_y": null,
            "padding": null,
            "right": null,
            "top": null,
            "visibility": null,
            "width": null
          }
        },
        "acea59bc29244658b2c5462abd1d0873": {
          "model_module": "@jupyter-widgets/base",
          "model_name": "LayoutModel",
          "model_module_version": "1.2.0",
          "state": {
            "_model_module": "@jupyter-widgets/base",
            "_model_module_version": "1.2.0",
            "_model_name": "LayoutModel",
            "_view_count": null,
            "_view_module": "@jupyter-widgets/base",
            "_view_module_version": "1.2.0",
            "_view_name": "LayoutView",
            "align_content": null,
            "align_items": null,
            "align_self": null,
            "border": null,
            "bottom": null,
            "display": null,
            "flex": null,
            "flex_flow": null,
            "grid_area": null,
            "grid_auto_columns": null,
            "grid_auto_flow": null,
            "grid_auto_rows": null,
            "grid_column": null,
            "grid_gap": null,
            "grid_row": null,
            "grid_template_areas": null,
            "grid_template_columns": null,
            "grid_template_rows": null,
            "height": null,
            "justify_content": null,
            "justify_items": null,
            "left": null,
            "margin": null,
            "max_height": null,
            "max_width": null,
            "min_height": null,
            "min_width": null,
            "object_fit": null,
            "object_position": null,
            "order": null,
            "overflow": null,
            "overflow_x": null,
            "overflow_y": null,
            "padding": null,
            "right": null,
            "top": null,
            "visibility": null,
            "width": null
          }
        },
        "91972cdf4b8243eb97a5c8b5191968e3": {
          "model_module": "@jupyter-widgets/controls",
          "model_name": "DescriptionStyleModel",
          "model_module_version": "1.5.0",
          "state": {
            "_model_module": "@jupyter-widgets/controls",
            "_model_module_version": "1.5.0",
            "_model_name": "DescriptionStyleModel",
            "_view_count": null,
            "_view_module": "@jupyter-widgets/base",
            "_view_module_version": "1.2.0",
            "_view_name": "StyleView",
            "description_width": ""
          }
        },
        "52d4475546664224aa956eaedac31d3b": {
          "model_module": "@jupyter-widgets/base",
          "model_name": "LayoutModel",
          "model_module_version": "1.2.0",
          "state": {
            "_model_module": "@jupyter-widgets/base",
            "_model_module_version": "1.2.0",
            "_model_name": "LayoutModel",
            "_view_count": null,
            "_view_module": "@jupyter-widgets/base",
            "_view_module_version": "1.2.0",
            "_view_name": "LayoutView",
            "align_content": null,
            "align_items": null,
            "align_self": null,
            "border": null,
            "bottom": null,
            "display": null,
            "flex": null,
            "flex_flow": null,
            "grid_area": null,
            "grid_auto_columns": null,
            "grid_auto_flow": null,
            "grid_auto_rows": null,
            "grid_column": null,
            "grid_gap": null,
            "grid_row": null,
            "grid_template_areas": null,
            "grid_template_columns": null,
            "grid_template_rows": null,
            "height": null,
            "justify_content": null,
            "justify_items": null,
            "left": null,
            "margin": null,
            "max_height": null,
            "max_width": null,
            "min_height": null,
            "min_width": null,
            "object_fit": null,
            "object_position": null,
            "order": null,
            "overflow": null,
            "overflow_x": null,
            "overflow_y": null,
            "padding": null,
            "right": null,
            "top": null,
            "visibility": null,
            "width": null
          }
        },
        "a2186d95124b414bad32040652237a9b": {
          "model_module": "@jupyter-widgets/controls",
          "model_name": "ProgressStyleModel",
          "model_module_version": "1.5.0",
          "state": {
            "_model_module": "@jupyter-widgets/controls",
            "_model_module_version": "1.5.0",
            "_model_name": "ProgressStyleModel",
            "_view_count": null,
            "_view_module": "@jupyter-widgets/base",
            "_view_module_version": "1.2.0",
            "_view_name": "StyleView",
            "bar_color": null,
            "description_width": ""
          }
        },
        "5bd45176c44a4e10810849f33b16692d": {
          "model_module": "@jupyter-widgets/base",
          "model_name": "LayoutModel",
          "model_module_version": "1.2.0",
          "state": {
            "_model_module": "@jupyter-widgets/base",
            "_model_module_version": "1.2.0",
            "_model_name": "LayoutModel",
            "_view_count": null,
            "_view_module": "@jupyter-widgets/base",
            "_view_module_version": "1.2.0",
            "_view_name": "LayoutView",
            "align_content": null,
            "align_items": null,
            "align_self": null,
            "border": null,
            "bottom": null,
            "display": null,
            "flex": null,
            "flex_flow": null,
            "grid_area": null,
            "grid_auto_columns": null,
            "grid_auto_flow": null,
            "grid_auto_rows": null,
            "grid_column": null,
            "grid_gap": null,
            "grid_row": null,
            "grid_template_areas": null,
            "grid_template_columns": null,
            "grid_template_rows": null,
            "height": null,
            "justify_content": null,
            "justify_items": null,
            "left": null,
            "margin": null,
            "max_height": null,
            "max_width": null,
            "min_height": null,
            "min_width": null,
            "object_fit": null,
            "object_position": null,
            "order": null,
            "overflow": null,
            "overflow_x": null,
            "overflow_y": null,
            "padding": null,
            "right": null,
            "top": null,
            "visibility": null,
            "width": null
          }
        },
        "0247e6096b124b41b3e3f72e270a2355": {
          "model_module": "@jupyter-widgets/controls",
          "model_name": "DescriptionStyleModel",
          "model_module_version": "1.5.0",
          "state": {
            "_model_module": "@jupyter-widgets/controls",
            "_model_module_version": "1.5.0",
            "_model_name": "DescriptionStyleModel",
            "_view_count": null,
            "_view_module": "@jupyter-widgets/base",
            "_view_module_version": "1.2.0",
            "_view_name": "StyleView",
            "description_width": ""
          }
        }
      }
    },
    "accelerator": "GPU"
  },
  "cells": [
    {
      "cell_type": "markdown",
      "metadata": {
        "id": "view-in-github",
        "colab_type": "text"
      },
      "source": [
        "<a href=\"https://colab.research.google.com/github/keonju2/2022_GDSC_DL/blob/main/DL_5%EC%A3%BC%EC%B0%A8_%EA%B3%B5%EC%9C%A0Ver.ipynb\" target=\"_parent\"><img src=\"https://colab.research.google.com/assets/colab-badge.svg\" alt=\"Open In Colab\"/></a>"
      ]
    },
    {
      "cell_type": "markdown",
      "source": [
        "# Linear Regression"
      ],
      "metadata": {
        "id": "su_J3PzggLKN"
      }
    },
    {
      "cell_type": "code",
      "execution_count": null,
      "metadata": {
        "id": "Et0Iwt4OfWlX"
      },
      "outputs": [],
      "source": [
        "# pytorch와 각종 필요한 재료 Import\n",
        "import torch\n",
        "import random"
      ]
    },
    {
      "cell_type": "code",
      "source": [
        "device = 'cuda' if torch.cuda.is_available() else 'cpu'\n",
        "\n",
        "# 동일한 결과를 출력하기 위한 코드\n",
        "random.seed(777)\n",
        "torch.manual_seed(777)\n",
        "if device == 'cuda':\n",
        "    torch.cuda.manual_seed_all(777)"
      ],
      "metadata": {
        "id": "N_I0-EcmhFgH"
      },
      "execution_count": null,
      "outputs": []
    },
    {
      "cell_type": "code",
      "source": [
        "# 입력 데이터 쌍 생성 (x, y)\n",
        "\n",
        "x_train = torch.FloatTensor([[1], [2], [3]])\n",
        "y_train = torch.FloatTensor([[3], [5], [7]]) # y = 2x+1"
      ],
      "metadata": {
        "id": "3_QzHxXEfs0T"
      },
      "execution_count": null,
      "outputs": []
    },
    {
      "cell_type": "code",
      "source": [
        "# weight, bias 초기화\n",
        "# requires_grad: Backpropagation 과정에서 이루어지는 연산(Autograd 연산)을 모두 추적해야 한다 = 결과를 저장하고 있어라!\n",
        "\n",
        "W = torch.zeros(1, requires_grad=True)\n",
        "b = torch.zeros(1, requires_grad=True)"
      ],
      "metadata": {
        "id": "ySeICobKf2Hm"
      },
      "execution_count": null,
      "outputs": []
    },
    {
      "cell_type": "code",
      "source": [
        "# 선형 회귀 모델 생성\n",
        "y_hat = x_train*W + b"
      ],
      "metadata": {
        "id": "Lr6F3ZUHf7oO"
      },
      "execution_count": null,
      "outputs": []
    },
    {
      "cell_type": "code",
      "source": [
        "# cost 함수와 optimizer 선언\n",
        "cost = torch.nn.MSELoss() # MSE loss\n",
        "optimizer = torch.optim.SGD([W, b], lr = 0.01) # Stochastic Gradient Descent\n",
        "\n",
        "\"\"\" < Optimizer parameter 설정 방법 >\n",
        "1. torch.optim.SGD([W, b], lr=0.01) -> 우리가 모델의 관계식을 직접 설정해줄 때\n",
        "2. torch.optim.SGD(model.parameters(), lr=0.01) -> torch가 모델에 대한 정보를 이미 알고 있을 때\n",
        "\n",
        "* learning rate\n",
        ": 각 optimizer에서 자주 쓰는 learning rate가 default로 이미 저장 \n",
        "-> SGD의 경우 우리가 직접 설정해줘야 함 (https://pytorch.org/docs/stable/generated/torch.optim.SGD.html)\n",
        "\"\"\" \n"
      ],
      "metadata": {
        "id": "7YbcwnARgAQS",
        "colab": {
          "base_uri": "https://localhost:8080/",
          "height": 71
        },
        "outputId": "bcfd15f1-db25-4bd0-9573-726bbb7da732"
      },
      "execution_count": null,
      "outputs": [
        {
          "output_type": "execute_result",
          "data": {
            "text/plain": [
              "' < Optimizer parameter 설정 방법 >\\n1. torch.optim.SGD([W, b], lr=0.01) -> 우리가 모델의 관계식을 직접 설정해줄 때\\n2. torch.optim.SGD(model.parameters(), lr=0.01) -> torch가 모델에 대한 정보를 이미 알고 있을 때\\n\\n* learning rate\\n: 각 optimizer에서 자주 쓰는 learning rate가 default로 이미 저장 \\n-> SGD의 경우 우리가 직접 설정해줘야 함 (https://pytorch.org/docs/stable/generated/torch.optim.SGD.html)\\n'"
            ],
            "application/vnd.google.colaboratory.intrinsic+json": {
              "type": "string"
            }
          },
          "metadata": {},
          "execution_count": 7
        }
      ]
    },
    {
      "cell_type": "code",
      "source": [
        "for epoch in range(10001):\n",
        "    # y_hat 계산\n",
        "    y_hat = x_train*W + b\n",
        "\n",
        "    # cost 계산\n",
        "    loss = cost(y_hat, y_train)\n",
        "\n",
        "    # cost로 모델 개선\n",
        "    optimizer.zero_grad()\n",
        "    loss.backward()\n",
        "    optimizer.step()\n",
        "\n",
        "    # 100번마다 로그 출력\n",
        "    if epoch % 100 == 0:\n",
        "      print('Epoch {:4d}/{} W: {:.3f}, b: {:.3f} cost: {:.6f}'.format(\n",
        "          epoch, 10001, W.item(), b.item(), loss.item()\n",
        "      ))\n",
        "\n",
        "    # item 메소드: torch.tensor 형태로 나타나는 tensor 값에서 우리가 필요한 값(cost, bias, weight 등)만 뽑아내줌"
      ],
      "metadata": {
        "id": "sOEQWi5DgFti",
        "colab": {
          "base_uri": "https://localhost:8080/"
        },
        "outputId": "04e7fab5-6d22-488b-fb40-2af50ebe3d1e"
      },
      "execution_count": null,
      "outputs": [
        {
          "output_type": "stream",
          "name": "stdout",
          "text": [
            "Epoch    0/10001 W: 0.227, b: 0.100 cost: 27.666666\n",
            "Epoch  100/10001 W: 2.035, b: 0.921 cost: 0.000899\n",
            "Epoch  200/10001 W: 2.027, b: 0.938 cost: 0.000556\n",
            "Epoch  300/10001 W: 2.021, b: 0.951 cost: 0.000343\n",
            "Epoch  400/10001 W: 2.017, b: 0.962 cost: 0.000212\n",
            "Epoch  500/10001 W: 2.013, b: 0.970 cost: 0.000131\n",
            "Epoch  600/10001 W: 2.010, b: 0.976 cost: 0.000081\n",
            "Epoch  700/10001 W: 2.008, b: 0.981 cost: 0.000050\n",
            "Epoch  800/10001 W: 2.006, b: 0.985 cost: 0.000031\n",
            "Epoch  900/10001 W: 2.005, b: 0.988 cost: 0.000019\n",
            "Epoch 1000/10001 W: 2.004, b: 0.991 cost: 0.000012\n",
            "Epoch 1100/10001 W: 2.003, b: 0.993 cost: 0.000007\n",
            "Epoch 1200/10001 W: 2.002, b: 0.994 cost: 0.000005\n",
            "Epoch 1300/10001 W: 2.002, b: 0.996 cost: 0.000003\n",
            "Epoch 1400/10001 W: 2.002, b: 0.997 cost: 0.000002\n",
            "Epoch 1500/10001 W: 2.001, b: 0.997 cost: 0.000001\n",
            "Epoch 1600/10001 W: 2.001, b: 0.998 cost: 0.000001\n",
            "Epoch 1700/10001 W: 2.001, b: 0.998 cost: 0.000000\n",
            "Epoch 1800/10001 W: 2.001, b: 0.999 cost: 0.000000\n",
            "Epoch 1900/10001 W: 2.000, b: 0.999 cost: 0.000000\n",
            "Epoch 2000/10001 W: 2.000, b: 0.999 cost: 0.000000\n",
            "Epoch 2100/10001 W: 2.000, b: 0.999 cost: 0.000000\n",
            "Epoch 2200/10001 W: 2.000, b: 0.999 cost: 0.000000\n",
            "Epoch 2300/10001 W: 2.000, b: 1.000 cost: 0.000000\n",
            "Epoch 2400/10001 W: 2.000, b: 1.000 cost: 0.000000\n",
            "Epoch 2500/10001 W: 2.000, b: 1.000 cost: 0.000000\n",
            "Epoch 2600/10001 W: 2.000, b: 1.000 cost: 0.000000\n",
            "Epoch 2700/10001 W: 2.000, b: 1.000 cost: 0.000000\n",
            "Epoch 2800/10001 W: 2.000, b: 1.000 cost: 0.000000\n",
            "Epoch 2900/10001 W: 2.000, b: 1.000 cost: 0.000000\n",
            "Epoch 3000/10001 W: 2.000, b: 1.000 cost: 0.000000\n",
            "Epoch 3100/10001 W: 2.000, b: 1.000 cost: 0.000000\n",
            "Epoch 3200/10001 W: 2.000, b: 1.000 cost: 0.000000\n",
            "Epoch 3300/10001 W: 2.000, b: 1.000 cost: 0.000000\n",
            "Epoch 3400/10001 W: 2.000, b: 1.000 cost: 0.000000\n",
            "Epoch 3500/10001 W: 2.000, b: 1.000 cost: 0.000000\n",
            "Epoch 3600/10001 W: 2.000, b: 1.000 cost: 0.000000\n",
            "Epoch 3700/10001 W: 2.000, b: 1.000 cost: 0.000000\n",
            "Epoch 3800/10001 W: 2.000, b: 1.000 cost: 0.000000\n",
            "Epoch 3900/10001 W: 2.000, b: 1.000 cost: 0.000000\n",
            "Epoch 4000/10001 W: 2.000, b: 1.000 cost: 0.000000\n",
            "Epoch 4100/10001 W: 2.000, b: 1.000 cost: 0.000000\n",
            "Epoch 4200/10001 W: 2.000, b: 1.000 cost: 0.000000\n",
            "Epoch 4300/10001 W: 2.000, b: 1.000 cost: 0.000000\n",
            "Epoch 4400/10001 W: 2.000, b: 1.000 cost: 0.000000\n",
            "Epoch 4500/10001 W: 2.000, b: 1.000 cost: 0.000000\n",
            "Epoch 4600/10001 W: 2.000, b: 1.000 cost: 0.000000\n",
            "Epoch 4700/10001 W: 2.000, b: 1.000 cost: 0.000000\n",
            "Epoch 4800/10001 W: 2.000, b: 1.000 cost: 0.000000\n",
            "Epoch 4900/10001 W: 2.000, b: 1.000 cost: 0.000000\n",
            "Epoch 5000/10001 W: 2.000, b: 1.000 cost: 0.000000\n",
            "Epoch 5100/10001 W: 2.000, b: 1.000 cost: 0.000000\n",
            "Epoch 5200/10001 W: 2.000, b: 1.000 cost: 0.000000\n",
            "Epoch 5300/10001 W: 2.000, b: 1.000 cost: 0.000000\n",
            "Epoch 5400/10001 W: 2.000, b: 1.000 cost: 0.000000\n",
            "Epoch 5500/10001 W: 2.000, b: 1.000 cost: 0.000000\n",
            "Epoch 5600/10001 W: 2.000, b: 1.000 cost: 0.000000\n",
            "Epoch 5700/10001 W: 2.000, b: 1.000 cost: 0.000000\n",
            "Epoch 5800/10001 W: 2.000, b: 1.000 cost: 0.000000\n",
            "Epoch 5900/10001 W: 2.000, b: 1.000 cost: 0.000000\n",
            "Epoch 6000/10001 W: 2.000, b: 1.000 cost: 0.000000\n",
            "Epoch 6100/10001 W: 2.000, b: 1.000 cost: 0.000000\n",
            "Epoch 6200/10001 W: 2.000, b: 1.000 cost: 0.000000\n",
            "Epoch 6300/10001 W: 2.000, b: 1.000 cost: 0.000000\n",
            "Epoch 6400/10001 W: 2.000, b: 1.000 cost: 0.000000\n",
            "Epoch 6500/10001 W: 2.000, b: 1.000 cost: 0.000000\n",
            "Epoch 6600/10001 W: 2.000, b: 1.000 cost: 0.000000\n",
            "Epoch 6700/10001 W: 2.000, b: 1.000 cost: 0.000000\n",
            "Epoch 6800/10001 W: 2.000, b: 1.000 cost: 0.000000\n",
            "Epoch 6900/10001 W: 2.000, b: 1.000 cost: 0.000000\n",
            "Epoch 7000/10001 W: 2.000, b: 1.000 cost: 0.000000\n",
            "Epoch 7100/10001 W: 2.000, b: 1.000 cost: 0.000000\n",
            "Epoch 7200/10001 W: 2.000, b: 1.000 cost: 0.000000\n",
            "Epoch 7300/10001 W: 2.000, b: 1.000 cost: 0.000000\n",
            "Epoch 7400/10001 W: 2.000, b: 1.000 cost: 0.000000\n",
            "Epoch 7500/10001 W: 2.000, b: 1.000 cost: 0.000000\n",
            "Epoch 7600/10001 W: 2.000, b: 1.000 cost: 0.000000\n",
            "Epoch 7700/10001 W: 2.000, b: 1.000 cost: 0.000000\n",
            "Epoch 7800/10001 W: 2.000, b: 1.000 cost: 0.000000\n",
            "Epoch 7900/10001 W: 2.000, b: 1.000 cost: 0.000000\n",
            "Epoch 8000/10001 W: 2.000, b: 1.000 cost: 0.000000\n",
            "Epoch 8100/10001 W: 2.000, b: 1.000 cost: 0.000000\n",
            "Epoch 8200/10001 W: 2.000, b: 1.000 cost: 0.000000\n",
            "Epoch 8300/10001 W: 2.000, b: 1.000 cost: 0.000000\n",
            "Epoch 8400/10001 W: 2.000, b: 1.000 cost: 0.000000\n",
            "Epoch 8500/10001 W: 2.000, b: 1.000 cost: 0.000000\n",
            "Epoch 8600/10001 W: 2.000, b: 1.000 cost: 0.000000\n",
            "Epoch 8700/10001 W: 2.000, b: 1.000 cost: 0.000000\n",
            "Epoch 8800/10001 W: 2.000, b: 1.000 cost: 0.000000\n",
            "Epoch 8900/10001 W: 2.000, b: 1.000 cost: 0.000000\n",
            "Epoch 9000/10001 W: 2.000, b: 1.000 cost: 0.000000\n",
            "Epoch 9100/10001 W: 2.000, b: 1.000 cost: 0.000000\n",
            "Epoch 9200/10001 W: 2.000, b: 1.000 cost: 0.000000\n",
            "Epoch 9300/10001 W: 2.000, b: 1.000 cost: 0.000000\n",
            "Epoch 9400/10001 W: 2.000, b: 1.000 cost: 0.000000\n",
            "Epoch 9500/10001 W: 2.000, b: 1.000 cost: 0.000000\n",
            "Epoch 9600/10001 W: 2.000, b: 1.000 cost: 0.000000\n",
            "Epoch 9700/10001 W: 2.000, b: 1.000 cost: 0.000000\n",
            "Epoch 9800/10001 W: 2.000, b: 1.000 cost: 0.000000\n",
            "Epoch 9900/10001 W: 2.000, b: 1.000 cost: 0.000000\n",
            "Epoch 10000/10001 W: 2.000, b: 1.000 cost: 0.000000\n"
          ]
        }
      ]
    },
    {
      "cell_type": "markdown",
      "source": [
        "# Logistic Regression"
      ],
      "metadata": {
        "id": "oDrGdJdsgQkU"
      }
    },
    {
      "cell_type": "code",
      "source": [
        "# 입력 데이터 쌍 생성 (x, y)\n",
        "x_train = torch.FloatTensor([[1,2], [2, 3], [3, 1], [4, 3], [5, 3], [6, 2]])\n",
        "y_train = torch.FloatTensor([[0], [0], [0], [1], [1], [1]])"
      ],
      "metadata": {
        "id": "68h4HMgWgWC3"
      },
      "execution_count": null,
      "outputs": []
    },
    {
      "cell_type": "code",
      "source": [
        "# weight, bias 초기화\n",
        "W = torch.zeros((2, 1), requires_grad=True)\n",
        "b = torch.zeros(1, requires_grad=True)\n",
        "\"\"\" \n",
        "  weight는 x_train의 shape만큼 초기화 해주어야 함\n",
        "\"\"\""
      ],
      "metadata": {
        "id": "rGwlLhMxge-M",
        "colab": {
          "base_uri": "https://localhost:8080/",
          "height": 35
        },
        "outputId": "7a329a87-f8d7-4cff-f280-c7273ae94a00"
      },
      "execution_count": null,
      "outputs": [
        {
          "output_type": "execute_result",
          "data": {
            "text/plain": [
              "' \\n  weight는 x_train의 shape만큼 초기화 해주어야 함\\n'"
            ],
            "application/vnd.google.colaboratory.intrinsic+json": {
              "type": "string"
            }
          },
          "metadata": {},
          "execution_count": 11
        }
      ]
    },
    {
      "cell_type": "code",
      "source": [
        "# cost 함수와 optimizer 선언\n",
        "cost = torch.nn.BCELoss()\n",
        "optimizer = torch.optim.SGD([W, b], lr=1)"
      ],
      "metadata": {
        "id": "GGI9K8WfnuqN"
      },
      "execution_count": null,
      "outputs": []
    },
    {
      "cell_type": "code",
      "source": [
        "for epoch in range(10001):\n",
        "    y_hat = torch.sigmoid(x_train.matmul(W)+b)\n",
        "\n",
        "    # Cost 계산\n",
        "    loss = cost(y_hat, y_train)\n",
        "\n",
        "    # cost로 모델 개선\n",
        "    optimizer.zero_grad()\n",
        "    loss.backward()\n",
        "    optimizer.step()\n",
        "\n",
        "    # 100번마다 로그 출력\n",
        "    if epoch % 100 == 0:\n",
        "      print('Epoch {:4d}/{} cost: {:.6f}'.format(\n",
        "          epoch, 10001, loss.item()\n",
        "      ))"
      ],
      "metadata": {
        "id": "Ue5nBRQcgqX5",
        "colab": {
          "base_uri": "https://localhost:8080/"
        },
        "outputId": "a08fa96e-e125-47bc-9066-1195c22f9f47"
      },
      "execution_count": null,
      "outputs": [
        {
          "output_type": "stream",
          "name": "stdout",
          "text": [
            "Epoch    0/10001 cost: 0.693147\n",
            "Epoch  100/10001 cost: 0.134722\n",
            "Epoch  200/10001 cost: 0.080643\n",
            "Epoch  300/10001 cost: 0.057900\n",
            "Epoch  400/10001 cost: 0.045300\n",
            "Epoch  500/10001 cost: 0.037261\n",
            "Epoch  600/10001 cost: 0.031672\n",
            "Epoch  700/10001 cost: 0.027556\n",
            "Epoch  800/10001 cost: 0.024394\n",
            "Epoch  900/10001 cost: 0.021888\n",
            "Epoch 1000/10001 cost: 0.019852\n",
            "Epoch 1100/10001 cost: 0.018165\n",
            "Epoch 1200/10001 cost: 0.016743\n",
            "Epoch 1300/10001 cost: 0.015528\n",
            "Epoch 1400/10001 cost: 0.014479\n",
            "Epoch 1500/10001 cost: 0.013562\n",
            "Epoch 1600/10001 cost: 0.012755\n",
            "Epoch 1700/10001 cost: 0.012039\n",
            "Epoch 1800/10001 cost: 0.011400\n",
            "Epoch 1900/10001 cost: 0.010825\n",
            "Epoch 2000/10001 cost: 0.010305\n",
            "Epoch 2100/10001 cost: 0.009833\n",
            "Epoch 2200/10001 cost: 0.009403\n",
            "Epoch 2300/10001 cost: 0.009008\n",
            "Epoch 2400/10001 cost: 0.008646\n",
            "Epoch 2500/10001 cost: 0.008311\n",
            "Epoch 2600/10001 cost: 0.008002\n",
            "Epoch 2700/10001 cost: 0.007715\n",
            "Epoch 2800/10001 cost: 0.007447\n",
            "Epoch 2900/10001 cost: 0.007198\n",
            "Epoch 3000/10001 cost: 0.006965\n",
            "Epoch 3100/10001 cost: 0.006746\n",
            "Epoch 3200/10001 cost: 0.006541\n",
            "Epoch 3300/10001 cost: 0.006348\n",
            "Epoch 3400/10001 cost: 0.006166\n",
            "Epoch 3500/10001 cost: 0.005994\n",
            "Epoch 3600/10001 cost: 0.005831\n",
            "Epoch 3700/10001 cost: 0.005677\n",
            "Epoch 3800/10001 cost: 0.005531\n",
            "Epoch 3900/10001 cost: 0.005392\n",
            "Epoch 4000/10001 cost: 0.005260\n",
            "Epoch 4100/10001 cost: 0.005135\n",
            "Epoch 4200/10001 cost: 0.005015\n",
            "Epoch 4300/10001 cost: 0.004901\n",
            "Epoch 4400/10001 cost: 0.004792\n",
            "Epoch 4500/10001 cost: 0.004687\n",
            "Epoch 4600/10001 cost: 0.004587\n",
            "Epoch 4700/10001 cost: 0.004491\n",
            "Epoch 4800/10001 cost: 0.004400\n",
            "Epoch 4900/10001 cost: 0.004311\n",
            "Epoch 5000/10001 cost: 0.004227\n",
            "Epoch 5100/10001 cost: 0.004145\n",
            "Epoch 5200/10001 cost: 0.004067\n",
            "Epoch 5300/10001 cost: 0.003991\n",
            "Epoch 5400/10001 cost: 0.003919\n",
            "Epoch 5500/10001 cost: 0.003848\n",
            "Epoch 5600/10001 cost: 0.003781\n",
            "Epoch 5700/10001 cost: 0.003715\n",
            "Epoch 5800/10001 cost: 0.003652\n",
            "Epoch 5900/10001 cost: 0.003591\n",
            "Epoch 6000/10001 cost: 0.003532\n",
            "Epoch 6100/10001 cost: 0.003475\n",
            "Epoch 6200/10001 cost: 0.003420\n",
            "Epoch 6300/10001 cost: 0.003367\n",
            "Epoch 6400/10001 cost: 0.003315\n",
            "Epoch 6500/10001 cost: 0.003264\n",
            "Epoch 6600/10001 cost: 0.003216\n",
            "Epoch 6700/10001 cost: 0.003168\n",
            "Epoch 6800/10001 cost: 0.003122\n",
            "Epoch 6900/10001 cost: 0.003078\n",
            "Epoch 7000/10001 cost: 0.003034\n",
            "Epoch 7100/10001 cost: 0.002992\n",
            "Epoch 7200/10001 cost: 0.002951\n",
            "Epoch 7300/10001 cost: 0.002911\n",
            "Epoch 7400/10001 cost: 0.002872\n",
            "Epoch 7500/10001 cost: 0.002834\n",
            "Epoch 7600/10001 cost: 0.002797\n",
            "Epoch 7700/10001 cost: 0.002761\n",
            "Epoch 7800/10001 cost: 0.002726\n",
            "Epoch 7900/10001 cost: 0.002692\n",
            "Epoch 8000/10001 cost: 0.002659\n",
            "Epoch 8100/10001 cost: 0.002627\n",
            "Epoch 8200/10001 cost: 0.002595\n",
            "Epoch 8300/10001 cost: 0.002564\n",
            "Epoch 8400/10001 cost: 0.002534\n",
            "Epoch 8500/10001 cost: 0.002504\n",
            "Epoch 8600/10001 cost: 0.002475\n",
            "Epoch 8700/10001 cost: 0.002447\n",
            "Epoch 8800/10001 cost: 0.002420\n",
            "Epoch 8900/10001 cost: 0.002393\n",
            "Epoch 9000/10001 cost: 0.002366\n",
            "Epoch 9100/10001 cost: 0.002341\n",
            "Epoch 9200/10001 cost: 0.002316\n",
            "Epoch 9300/10001 cost: 0.002291\n",
            "Epoch 9400/10001 cost: 0.002267\n",
            "Epoch 9500/10001 cost: 0.002243\n",
            "Epoch 9600/10001 cost: 0.002220\n",
            "Epoch 9700/10001 cost: 0.002197\n",
            "Epoch 9800/10001 cost: 0.002175\n",
            "Epoch 9900/10001 cost: 0.002153\n",
            "Epoch 10000/10001 cost: 0.002132\n"
          ]
        }
      ]
    },
    {
      "cell_type": "markdown",
      "source": [
        "# Softmax Regression"
      ],
      "metadata": {
        "id": "z5cQFmLfguWD"
      }
    },
    {
      "cell_type": "code",
      "source": [
        "import torchvision.datasets as dataset\n",
        "import torchvision.transforms as transforms\n",
        "\n",
        "\"\"\"\n",
        "<torchvision>\n",
        ": 유명한 데이터셋(MNIST, ciFar10, ciFar100 등), 모델 아키텍처, 컴퓨터 비전 테스크에 알맞도록 이미지 변형이 가능하게 하는 라이브러리\n",
        "\n",
        "<transform>\n",
        ": 변형(transform)을 통해 데이터를 조작하고 학습에 적합하게 만듦\n",
        "-> 여기서는 MNIST 이미지 데이터들을 tensor 형태로 바꾸어라!\n",
        "\"\"\"\n"
      ],
      "metadata": {
        "id": "DAZB03eiouTd",
        "colab": {
          "base_uri": "https://localhost:8080/",
          "height": 53
        },
        "outputId": "e6014c74-61d4-4015-a6c2-a2285231e045"
      },
      "execution_count": null,
      "outputs": [
        {
          "output_type": "execute_result",
          "data": {
            "text/plain": [
              "'\\n<torchvision>\\n: 유명한 데이터셋(MNIST, ciFar10, ciFar100 등), 모델 아키텍처, 컴퓨터 비전 테스크에 알맞도록 이미지 변형이 가능하게 하는 라이브러리\\n\\n<transform>\\n: 변형(transform)을 통해 데이터를 조작하고 학습에 적합하게 만듦\\n-> 여기서는 MNIST 이미지 데이터들을 tensor 형태로 바꾸어라!\\n'"
            ],
            "application/vnd.google.colaboratory.intrinsic+json": {
              "type": "string"
            }
          },
          "metadata": {},
          "execution_count": 16
        }
      ]
    },
    {
      "cell_type": "code",
      "source": [
        "# MNIST dataset\n",
        "mnist_train = dataset.MNIST(root='MNIST_data/',\n",
        "                          train=True,\n",
        "                          transform=transforms.ToTensor(),\n",
        "                          download=True)\n",
        "mnist_test = dataset.MNIST(root='MNIST_data/',\n",
        "                          train=False,\n",
        "                          transform=transforms.ToTensor(),\n",
        "                          download=True)"
      ],
      "metadata": {
        "id": "HnkdlVoVgyXS",
        "colab": {
          "base_uri": "https://localhost:8080/",
          "height": 431,
          "referenced_widgets": [
            "0d3f1badfcd8455e8195a79edaa2e814",
            "6c69f149eeab4c6baff5e193db9f2605",
            "acbafd978f5047dab9d055b565fde7c8",
            "a98c32f6e02e4761b5678672d784f31d",
            "373ec9884eb34311a929bcff2cc9a03c",
            "00266d4456e44e6fa2f8f5b44710f764",
            "19ea7a3610b84acc93193915fdccebdc",
            "061fb29d2ff942b4a28e619a31d1b8c7",
            "c962c940520b4a16996f70f853b41a38",
            "b8d3ef626370426c970903cca319bdb7",
            "f057e9f67004430ea61bfa1c14f78fa3",
            "322d3ea45ab9418199f56be2f6799460",
            "67475c9a66e14aeb8886a6e1b3ac3f12",
            "48fbc5b083fd4214a475cefd669f6b54",
            "483c1aabe37d41a0aec62312590fbca9",
            "fcf5756e66b0457bab980cc913eed5b6",
            "0a1d4eb6a8e34fb0aa851e87282f9528",
            "049032c2a831410799f7d88be2a57721",
            "65e2fac686564160aa366aaf0abce435",
            "d4de5cf13e2444368ad7152c5af23204",
            "bb73b2bedead44a5bb54fac297f610d2",
            "26e71010f7384af58631e6d6b0bb3db4",
            "0bf29c59b42949c1ac0464ced8b9a756",
            "c317de6cd9424e99a771c11572545e11",
            "77dc6078bfc645e2b077c0ea4c0422c9",
            "69f11a984acd44dc893589350d6340ba",
            "cec09dde11c94257971e9f9d969c3059",
            "f7b51ca5a9984a4ea5937d6edd43f568",
            "26b4ab10dc2c4835999cb6dce129d81f",
            "31d9d5c68a2a467d88773f0f7b21f751",
            "f5fbab52596a4413a724c5f4c91aedfb",
            "41c212090dbc403380f1d9e98caf3678",
            "2ebbe95a09664495ba456af0a46f5455",
            "95cffbe71db445c58395597135bfb06a",
            "1f392b826419494a80aa8035df231a42",
            "5726aece220a40e0a5ac0adfadc34aa8",
            "eb9a18545a384f0191ef768a368b5681",
            "98b40af1fb48407faa0598957b5cdb0d",
            "acea59bc29244658b2c5462abd1d0873",
            "91972cdf4b8243eb97a5c8b5191968e3",
            "52d4475546664224aa956eaedac31d3b",
            "a2186d95124b414bad32040652237a9b",
            "5bd45176c44a4e10810849f33b16692d",
            "0247e6096b124b41b3e3f72e270a2355"
          ]
        },
        "outputId": "c2009f45-d7e2-4939-ee2f-c0254a59a73b"
      },
      "execution_count": null,
      "outputs": [
        {
          "output_type": "stream",
          "name": "stdout",
          "text": [
            "Downloading http://yann.lecun.com/exdb/mnist/train-images-idx3-ubyte.gz\n",
            "Downloading http://yann.lecun.com/exdb/mnist/train-images-idx3-ubyte.gz to MNIST_data/MNIST/raw/train-images-idx3-ubyte.gz\n"
          ]
        },
        {
          "output_type": "display_data",
          "data": {
            "text/plain": [
              "  0%|          | 0/9912422 [00:00<?, ?it/s]"
            ],
            "application/vnd.jupyter.widget-view+json": {
              "version_major": 2,
              "version_minor": 0,
              "model_id": "0d3f1badfcd8455e8195a79edaa2e814"
            }
          },
          "metadata": {}
        },
        {
          "output_type": "stream",
          "name": "stdout",
          "text": [
            "Extracting MNIST_data/MNIST/raw/train-images-idx3-ubyte.gz to MNIST_data/MNIST/raw\n",
            "\n",
            "Downloading http://yann.lecun.com/exdb/mnist/train-labels-idx1-ubyte.gz\n",
            "Downloading http://yann.lecun.com/exdb/mnist/train-labels-idx1-ubyte.gz to MNIST_data/MNIST/raw/train-labels-idx1-ubyte.gz\n"
          ]
        },
        {
          "output_type": "display_data",
          "data": {
            "text/plain": [
              "  0%|          | 0/28881 [00:00<?, ?it/s]"
            ],
            "application/vnd.jupyter.widget-view+json": {
              "version_major": 2,
              "version_minor": 0,
              "model_id": "322d3ea45ab9418199f56be2f6799460"
            }
          },
          "metadata": {}
        },
        {
          "output_type": "stream",
          "name": "stdout",
          "text": [
            "Extracting MNIST_data/MNIST/raw/train-labels-idx1-ubyte.gz to MNIST_data/MNIST/raw\n",
            "\n",
            "Downloading http://yann.lecun.com/exdb/mnist/t10k-images-idx3-ubyte.gz\n",
            "Downloading http://yann.lecun.com/exdb/mnist/t10k-images-idx3-ubyte.gz to MNIST_data/MNIST/raw/t10k-images-idx3-ubyte.gz\n"
          ]
        },
        {
          "output_type": "display_data",
          "data": {
            "text/plain": [
              "  0%|          | 0/1648877 [00:00<?, ?it/s]"
            ],
            "application/vnd.jupyter.widget-view+json": {
              "version_major": 2,
              "version_minor": 0,
              "model_id": "0bf29c59b42949c1ac0464ced8b9a756"
            }
          },
          "metadata": {}
        },
        {
          "output_type": "stream",
          "name": "stdout",
          "text": [
            "Extracting MNIST_data/MNIST/raw/t10k-images-idx3-ubyte.gz to MNIST_data/MNIST/raw\n",
            "\n",
            "Downloading http://yann.lecun.com/exdb/mnist/t10k-labels-idx1-ubyte.gz\n",
            "Downloading http://yann.lecun.com/exdb/mnist/t10k-labels-idx1-ubyte.gz to MNIST_data/MNIST/raw/t10k-labels-idx1-ubyte.gz\n"
          ]
        },
        {
          "output_type": "display_data",
          "data": {
            "text/plain": [
              "  0%|          | 0/4542 [00:00<?, ?it/s]"
            ],
            "application/vnd.jupyter.widget-view+json": {
              "version_major": 2,
              "version_minor": 0,
              "model_id": "95cffbe71db445c58395597135bfb06a"
            }
          },
          "metadata": {}
        },
        {
          "output_type": "stream",
          "name": "stdout",
          "text": [
            "Extracting MNIST_data/MNIST/raw/t10k-labels-idx1-ubyte.gz to MNIST_data/MNIST/raw\n",
            "\n"
          ]
        }
      ]
    },
    {
      "cell_type": "code",
      "source": [
        "# Hyper Parameter\n",
        "batch_size = 128\n",
        "lr = 0.01"
      ],
      "metadata": {
        "id": "EQTrxmcZqW7g"
      },
      "execution_count": null,
      "outputs": []
    },
    {
      "cell_type": "code",
      "source": [
        "# DataLoader: 많은 양의 데이터들을 배치(batch) 단위로 학습할 수 있도록 잘라주는 것\n",
        "data_loader = torch.utils.data.DataLoader(dataset=mnist_train,\n",
        "                                          batch_size = batch_size,\n",
        "                                          shuffle=True,\n",
        "                                          drop_last = True)"
      ],
      "metadata": {
        "id": "bcsldfq_hKuf"
      },
      "execution_count": null,
      "outputs": []
    },
    {
      "cell_type": "code",
      "source": [
        "# model 선언\n",
        "model = torch.nn.Linear(784, 10).to(device)\n",
        "\"\"\"\n",
        "input: 784개의 input 이미지\n",
        "output: 10개의 클래스\n",
        "\"\"\""
      ],
      "metadata": {
        "id": "-VKV_51bhNZU",
        "colab": {
          "base_uri": "https://localhost:8080/",
          "height": 35
        },
        "outputId": "7c7ea868-b52c-4f6c-c9ee-cc359a0c6f2b"
      },
      "execution_count": null,
      "outputs": [
        {
          "output_type": "execute_result",
          "data": {
            "text/plain": [
              "'\\ninput: 784개의 input 이미지\\noutput: 10개의 클래스\\n'"
            ],
            "application/vnd.google.colaboratory.intrinsic+json": {
              "type": "string"
            }
          },
          "metadata": {},
          "execution_count": 20
        }
      ]
    },
    {
      "cell_type": "code",
      "source": [
        "# Cost와 Optimizer 선언\n",
        "criterion = torch.nn.CrossEntropyLoss().to(device)\n",
        "optimizer = torch.optim.Adam(model.parameters(), lr=lr)"
      ],
      "metadata": {
        "id": "sROB1DEUsOOw"
      },
      "execution_count": null,
      "outputs": []
    },
    {
      "cell_type": "code",
      "source": [
        "# 학습 (Training)\n",
        "total_batch = len(data_loader)\n",
        "for epoch in range(20):\n",
        "  avg_cost = 0\n",
        "  for (X, Y) in data_loader:\n",
        "    X = X.view(-1, 28*28).to(device)\n",
        "    Y = Y.to(device)\n",
        "\n",
        "    optimizer.zero_grad()\n",
        "    y_hat = model(X)\n",
        "    cost = criterion(y_hat, Y)\n",
        "    cost.backward()\n",
        "    optimizer.step()\n",
        "\n",
        "    avg_cost += cost / total_batch\n",
        "  print('Epoch: ', '%04d' % (epoch+1), 'cost = ', '{:.9f}'.format(avg_cost))\n",
        "  # 이미지를 한 줄로 쫙 펴주는 과정\n",
        "  # one-hot encoding 안 함"
      ],
      "metadata": {
        "id": "_kF3uO2FhS5K",
        "colab": {
          "base_uri": "https://localhost:8080/"
        },
        "outputId": "47bcebd9-b2d8-48e0-934e-d1680ec960d0"
      },
      "execution_count": null,
      "outputs": [
        {
          "output_type": "stream",
          "name": "stdout",
          "text": [
            "Epoch:  0001 cost =  0.360792458\n",
            "Epoch:  0002 cost =  0.293139577\n",
            "Epoch:  0003 cost =  0.285604328\n",
            "Epoch:  0004 cost =  0.276128352\n",
            "Epoch:  0005 cost =  0.273175716\n",
            "Epoch:  0006 cost =  0.272830486\n",
            "Epoch:  0007 cost =  0.273756832\n",
            "Epoch:  0008 cost =  0.268652529\n",
            "Epoch:  0009 cost =  0.266540766\n",
            "Epoch:  0010 cost =  0.265599459\n",
            "Epoch:  0011 cost =  0.266523480\n",
            "Epoch:  0012 cost =  0.264755398\n",
            "Epoch:  0013 cost =  0.259720117\n",
            "Epoch:  0014 cost =  0.261264861\n",
            "Epoch:  0015 cost =  0.260783643\n",
            "Epoch:  0016 cost =  0.261681646\n",
            "Epoch:  0017 cost =  0.257213473\n",
            "Epoch:  0018 cost =  0.256925374\n",
            "Epoch:  0019 cost =  0.257890195\n",
            "Epoch:  0020 cost =  0.260776132\n"
          ]
        }
      ]
    },
    {
      "cell_type": "code",
      "source": [
        "# test 데이터 만들기\n",
        "#X_test와 Y_test로 나누어주는 과정\n",
        "X_test = mnist_test.test_data.view(-1, 28*28).float().to(device)\n",
        "Y_test = mnist_test.test_labels.to(device)\n",
        "\"\"\"\n",
        "Expected object of scalar type Float but got scalar type Double for argument\n",
        "-> float 타입이 들어올 줄 알았는데 Double 타입이 들어와서 생김 (float64 = double)\n",
        "\"\"\""
      ],
      "metadata": {
        "colab": {
          "base_uri": "https://localhost:8080/",
          "height": 107
        },
        "id": "WD3zP7fVyYJd",
        "outputId": "a2a2249c-7250-42b0-e045-cd142694e986"
      },
      "execution_count": null,
      "outputs": [
        {
          "output_type": "stream",
          "name": "stderr",
          "text": [
            "/usr/local/lib/python3.7/dist-packages/torchvision/datasets/mnist.py:80: UserWarning: test_data has been renamed data\n",
            "  warnings.warn(\"test_data has been renamed data\")\n",
            "/usr/local/lib/python3.7/dist-packages/torchvision/datasets/mnist.py:70: UserWarning: test_labels has been renamed targets\n",
            "  warnings.warn(\"test_labels has been renamed targets\")\n"
          ]
        },
        {
          "output_type": "execute_result",
          "data": {
            "text/plain": [
              "'\\nExpected object of scalar type Float but got scalar type Double for argument\\n-> float 타입이 들어올 줄 알았는데 Double 타입이 들어와서 생김 (float64 = double)\\n'"
            ],
            "application/vnd.google.colaboratory.intrinsic+json": {
              "type": "string"
            }
          },
          "metadata": {},
          "execution_count": 23
        }
      ]
    },
    {
      "cell_type": "code",
      "source": [
        "# Test\n",
        "with torch.no_grad():\n",
        "  prediction = model(X_test)\n",
        "  correct_prediction = torch.argmax(prediction, 1) == Y_test \n",
        "    # argmax: 행렬에서 가장 큰 값을 가지는 '인덱스(클래스)'로 하겠다! (행렬, dimension)\n",
        "  \n",
        "  accuracy = correct_prediction.float().mean()\n",
        "  print('Accuracy: ', accuracy.item())"
      ],
      "metadata": {
        "id": "yuZhkpp7hTmd",
        "colab": {
          "base_uri": "https://localhost:8080/"
        },
        "outputId": "737c28b8-e34d-4086-bb3e-420a9a96ab32"
      },
      "execution_count": null,
      "outputs": [
        {
          "output_type": "stream",
          "name": "stdout",
          "text": [
            "Accuracy:  0.8562999963760376\n"
          ]
        }
      ]
    }
  ]
}